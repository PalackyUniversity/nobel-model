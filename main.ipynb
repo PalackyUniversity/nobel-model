{
 "cells": [
  {
   "cell_type": "code",
   "execution_count": 154,
   "metadata": {
    "tags": []
   },
   "outputs": [],
   "source": [
    "import time\n",
    "\n",
    "from matplotlib import pyplot as plt\n",
    "from tqdm import tqdm\n",
    "import pandas as pd\n",
    "import numpy as np"
   ]
  },
  {
   "cell_type": "code",
   "execution_count": 155,
   "metadata": {
    "collapsed": false,
    "jupyter": {
     "outputs_hidden": false
    },
    "pycharm": {
     "name": "#%%\n"
    }
   },
   "outputs": [],
   "source": [
    "SCALE = 10"
   ]
  },
  {
   "cell_type": "markdown",
   "metadata": {
    "pycharm": {
     "name": "#%% md\n"
    }
   },
   "source": [
    "## Load \"Sčítání lidí\""
   ]
  },
  {
   "cell_type": "code",
   "execution_count": 225,
   "metadata": {
    "collapsed": false,
    "jupyter": {
     "outputs_hidden": false
    },
    "pycharm": {
     "name": "#%%\n"
    }
   },
   "outputs": [
    {
     "name": "stderr",
     "output_type": "stream",
     "text": [
      "101it [00:00, 434.10it/s]\n"
     ]
    }
   ],
   "source": [
    "dfs = pd.read_excel(\"./data/sldb2021_pv_vek_pohlavi.xlsx\").set_index(\"věk\")\n",
    "\n",
    "ages = []\n",
    "genders = []\n",
    "\n",
    "for n, row in tqdm(dfs.iterrows()):\n",
    "    for m in range(row[\"muži\"] // SCALE):\n",
    "        genders.append(\"M\")\n",
    "        ages.append(n)\n",
    "\n",
    "    for f in range(row[\"ženy\"] // SCALE):\n",
    "        genders.append(\"F\")\n",
    "        ages.append(n)\n",
    "\n",
    "persons = pd.DataFrame({\"vek\": ages, \"pohlavi\": genders, \"davek_v_tele\": 0})"
   ]
  },
  {
   "cell_type": "markdown",
   "metadata": {
    "pycharm": {
     "name": "#%% md\n"
    }
   },
   "source": [
    "## Load deaths"
   ]
  },
  {
   "cell_type": "code",
   "execution_count": 226,
   "metadata": {
    "collapsed": false,
    "jupyter": {
     "outputs_hidden": false
    },
    "pycharm": {
     "name": "#%%\n"
    }
   },
   "outputs": [],
   "source": [
    "dfd = pd.read_csv(\"data/DEMOMIGR_2005_2021_komplet.csv\")\n",
    "# We do not want break out by region\n",
    "dfd = dfd[dfd[\"uzemi\"] == \"CZ\"].drop(columns=[\"uzemi\"])\n",
    "\n",
    "# We do not want other years\n",
    "dfd = dfd[dfd[\"tyden\"].str.split(\"-\").str[0] == \"2021\"]\n",
    "\n",
    "# We do not want summaries \"Celkem\"\n",
    "dfd = dfd[dfd[\"pohlavi\"] != \"T\"]\n",
    "\n",
    "# Converting and \"normalizing\"\n",
    "dfd[\"tyden\"] = pd.to_datetime(dfd[\"tyden\"] + '0', format=\"%Y-W%W%w\")\n",
    "# dfd[\"vek\"] = dfd[\"vek\"].str.split(\"T\").str[0].str.lstrip(\"Y\").replace(\"_GE90\", 90).astype(int)\n",
    "dfd['vekova_skupina'] = (\n",
    "    dfd['vek']\n",
    "    .str.replace(\"_GE90\", '90-120')\n",
    "    .str.replace('Y', '')\n",
    "    .str.replace('T', '-')\n",
    ")\n",
    "\n",
    "dfd = dfd.rename(columns={\"tyden\": \"datum\", 'hodnota': 'pocet_umrti'})\n",
    "\n",
    "df_deaths = dfd.drop(columns='vek').set_index(['datum', 'pohlavi'])"
   ]
  },
  {
   "cell_type": "markdown",
   "metadata": {
    "pycharm": {
     "name": "#%% md\n"
    }
   },
   "source": [
    "## Load vaccinations"
   ]
  },
  {
   "cell_type": "code",
   "execution_count": 227,
   "metadata": {
    "collapsed": false,
    "jupyter": {
     "outputs_hidden": false
    },
    "pycharm": {
     "name": "#%%\n"
    }
   },
   "outputs": [],
   "source": [
    "dfo = pd.read_csv(\"data/ockovani-demografie.csv\")\n",
    "\n",
    "# Runtime optimization\n",
    "dfo = dfo.groupby([\"datum\", \"vekova_skupina\", \"pohlavi\", 'poradi_davky']).sum().reset_index()\n",
    "\n",
    "# Converting and \"normalizing\"\n",
    "dfo[\"datum\"] = pd.to_datetime(dfo[\"datum\"], format=\"%Y-%m-%d\")\n",
    "dfo[\"pohlavi\"] = dfo[\"pohlavi\"].replace(\"Z\", \"F\")\n",
    "dfo[\"vekova_skupina\"] = dfo[\"vekova_skupina\"].replace(\"80+\", \"80-100\")\n",
    "# dfo = dfo.rename(columns={\"pocet_davek\": \"hodnota\"})\n",
    "\n",
    "# Runtime optimization\n",
    "dfo = dfo.groupby([pd.Grouper(key='datum', freq='W-SUN'), \"pohlavi\", \"vekova_skupina\", \"poradi_davky\"]).sum().reset_index()\n",
    "\n",
    "df_vaccination = dfo.set_index(['datum', 'pohlavi'])\n",
    "df_vaccination[\"pocet_davek\"] = (df_vaccination[\"pocet_davek\"] / 10).round().astype(int)"
   ]
  },
  {
   "cell_type": "markdown",
   "metadata": {
    "pycharm": {
     "name": "#%% md\n"
    }
   },
   "source": [
    "## Quick look"
   ]
  },
  {
   "cell_type": "code",
   "execution_count": 159,
   "metadata": {
    "collapsed": false,
    "jupyter": {
     "outputs_hidden": false
    },
    "pycharm": {
     "name": "#%%\n"
    }
   },
   "outputs": [
    {
     "data": {
      "text/plain": "         vek pohlavi  davek_v_tele\n0          0       M             0\n1          0       M             0\n2          0       M             0\n3          0       M             0\n4          0       M             0\n...      ...     ...           ...\n1052325  100       F             0\n1052326  100       F             0\n1052327  100       F             0\n1052328  100       F             0\n1052329  100       F             0\n\n[1052330 rows x 3 columns]",
      "text/html": "<div>\n<style scoped>\n    .dataframe tbody tr th:only-of-type {\n        vertical-align: middle;\n    }\n\n    .dataframe tbody tr th {\n        vertical-align: top;\n    }\n\n    .dataframe thead th {\n        text-align: right;\n    }\n</style>\n<table border=\"1\" class=\"dataframe\">\n  <thead>\n    <tr style=\"text-align: right;\">\n      <th></th>\n      <th>vek</th>\n      <th>pohlavi</th>\n      <th>davek_v_tele</th>\n    </tr>\n  </thead>\n  <tbody>\n    <tr>\n      <th>0</th>\n      <td>0</td>\n      <td>M</td>\n      <td>0</td>\n    </tr>\n    <tr>\n      <th>1</th>\n      <td>0</td>\n      <td>M</td>\n      <td>0</td>\n    </tr>\n    <tr>\n      <th>2</th>\n      <td>0</td>\n      <td>M</td>\n      <td>0</td>\n    </tr>\n    <tr>\n      <th>3</th>\n      <td>0</td>\n      <td>M</td>\n      <td>0</td>\n    </tr>\n    <tr>\n      <th>4</th>\n      <td>0</td>\n      <td>M</td>\n      <td>0</td>\n    </tr>\n    <tr>\n      <th>...</th>\n      <td>...</td>\n      <td>...</td>\n      <td>...</td>\n    </tr>\n    <tr>\n      <th>1052325</th>\n      <td>100</td>\n      <td>F</td>\n      <td>0</td>\n    </tr>\n    <tr>\n      <th>1052326</th>\n      <td>100</td>\n      <td>F</td>\n      <td>0</td>\n    </tr>\n    <tr>\n      <th>1052327</th>\n      <td>100</td>\n      <td>F</td>\n      <td>0</td>\n    </tr>\n    <tr>\n      <th>1052328</th>\n      <td>100</td>\n      <td>F</td>\n      <td>0</td>\n    </tr>\n    <tr>\n      <th>1052329</th>\n      <td>100</td>\n      <td>F</td>\n      <td>0</td>\n    </tr>\n  </tbody>\n</table>\n<p>1052330 rows × 3 columns</p>\n</div>"
     },
     "execution_count": 159,
     "metadata": {},
     "output_type": "execute_result"
    }
   ],
   "source": [
    "persons"
   ]
  },
  {
   "cell_type": "code",
   "execution_count": 160,
   "metadata": {
    "collapsed": false,
    "jupyter": {
     "outputs_hidden": false
    },
    "pycharm": {
     "name": "#%%\n"
    }
   },
   "outputs": [
    {
     "data": {
      "text/plain": "                    pocet_umrti vekova_skupina\ndatum      pohlavi                            \n2021-01-10 M                  1            0-4\n           F                  3            0-4\n           M                  0            5-9\n           F                  1            5-9\n           M                  0          10-14\n...                         ...            ...\n2021-12-26 F                256          80-84\n           M                144          85-89\n           F                241          85-89\n           M                122         90-120\n           F                316         90-120\n\n[1938 rows x 2 columns]",
      "text/html": "<div>\n<style scoped>\n    .dataframe tbody tr th:only-of-type {\n        vertical-align: middle;\n    }\n\n    .dataframe tbody tr th {\n        vertical-align: top;\n    }\n\n    .dataframe thead th {\n        text-align: right;\n    }\n</style>\n<table border=\"1\" class=\"dataframe\">\n  <thead>\n    <tr style=\"text-align: right;\">\n      <th></th>\n      <th></th>\n      <th>pocet_umrti</th>\n      <th>vekova_skupina</th>\n    </tr>\n    <tr>\n      <th>datum</th>\n      <th>pohlavi</th>\n      <th></th>\n      <th></th>\n    </tr>\n  </thead>\n  <tbody>\n    <tr>\n      <th rowspan=\"5\" valign=\"top\">2021-01-10</th>\n      <th>M</th>\n      <td>1</td>\n      <td>0-4</td>\n    </tr>\n    <tr>\n      <th>F</th>\n      <td>3</td>\n      <td>0-4</td>\n    </tr>\n    <tr>\n      <th>M</th>\n      <td>0</td>\n      <td>5-9</td>\n    </tr>\n    <tr>\n      <th>F</th>\n      <td>1</td>\n      <td>5-9</td>\n    </tr>\n    <tr>\n      <th>M</th>\n      <td>0</td>\n      <td>10-14</td>\n    </tr>\n    <tr>\n      <th>...</th>\n      <th>...</th>\n      <td>...</td>\n      <td>...</td>\n    </tr>\n    <tr>\n      <th rowspan=\"5\" valign=\"top\">2021-12-26</th>\n      <th>F</th>\n      <td>256</td>\n      <td>80-84</td>\n    </tr>\n    <tr>\n      <th>M</th>\n      <td>144</td>\n      <td>85-89</td>\n    </tr>\n    <tr>\n      <th>F</th>\n      <td>241</td>\n      <td>85-89</td>\n    </tr>\n    <tr>\n      <th>M</th>\n      <td>122</td>\n      <td>90-120</td>\n    </tr>\n    <tr>\n      <th>F</th>\n      <td>316</td>\n      <td>90-120</td>\n    </tr>\n  </tbody>\n</table>\n<p>1938 rows × 2 columns</p>\n</div>"
     },
     "execution_count": 160,
     "metadata": {},
     "output_type": "execute_result"
    }
   ],
   "source": [
    "df_deaths"
   ]
  },
  {
   "cell_type": "code",
   "execution_count": 183,
   "metadata": {},
   "outputs": [
    {
     "data": {
      "text/plain": "                   vekova_skupina  poradi_davky  pocet_davek\ndatum      pohlavi                                          \n2020-12-27 F                18-24             1            2\n           F                25-29             1            8\n           F                30-34             1            7\n           F                35-39             1            8\n           F                40-44             1           12\n...                           ...           ...          ...\n2022-10-02 M                75-79             1            0\n           M                75-79             3            0\n           M                75-79             4            8\n           M               80-100             3            0\n           M               80-100             4            6\n\n[7621 rows x 3 columns]",
      "text/html": "<div>\n<style scoped>\n    .dataframe tbody tr th:only-of-type {\n        vertical-align: middle;\n    }\n\n    .dataframe tbody tr th {\n        vertical-align: top;\n    }\n\n    .dataframe thead th {\n        text-align: right;\n    }\n</style>\n<table border=\"1\" class=\"dataframe\">\n  <thead>\n    <tr style=\"text-align: right;\">\n      <th></th>\n      <th></th>\n      <th>vekova_skupina</th>\n      <th>poradi_davky</th>\n      <th>pocet_davek</th>\n    </tr>\n    <tr>\n      <th>datum</th>\n      <th>pohlavi</th>\n      <th></th>\n      <th></th>\n      <th></th>\n    </tr>\n  </thead>\n  <tbody>\n    <tr>\n      <th rowspan=\"5\" valign=\"top\">2020-12-27</th>\n      <th>F</th>\n      <td>18-24</td>\n      <td>1</td>\n      <td>2</td>\n    </tr>\n    <tr>\n      <th>F</th>\n      <td>25-29</td>\n      <td>1</td>\n      <td>8</td>\n    </tr>\n    <tr>\n      <th>F</th>\n      <td>30-34</td>\n      <td>1</td>\n      <td>7</td>\n    </tr>\n    <tr>\n      <th>F</th>\n      <td>35-39</td>\n      <td>1</td>\n      <td>8</td>\n    </tr>\n    <tr>\n      <th>F</th>\n      <td>40-44</td>\n      <td>1</td>\n      <td>12</td>\n    </tr>\n    <tr>\n      <th>...</th>\n      <th>...</th>\n      <td>...</td>\n      <td>...</td>\n      <td>...</td>\n    </tr>\n    <tr>\n      <th rowspan=\"5\" valign=\"top\">2022-10-02</th>\n      <th>M</th>\n      <td>75-79</td>\n      <td>1</td>\n      <td>0</td>\n    </tr>\n    <tr>\n      <th>M</th>\n      <td>75-79</td>\n      <td>3</td>\n      <td>0</td>\n    </tr>\n    <tr>\n      <th>M</th>\n      <td>75-79</td>\n      <td>4</td>\n      <td>8</td>\n    </tr>\n    <tr>\n      <th>M</th>\n      <td>80-100</td>\n      <td>3</td>\n      <td>0</td>\n    </tr>\n    <tr>\n      <th>M</th>\n      <td>80-100</td>\n      <td>4</td>\n      <td>6</td>\n    </tr>\n  </tbody>\n</table>\n<p>7621 rows × 3 columns</p>\n</div>"
     },
     "execution_count": 183,
     "metadata": {},
     "output_type": "execute_result"
    }
   ],
   "source": [
    "df_vaccination"
   ]
  },
  {
   "cell_type": "code",
   "execution_count": 185,
   "metadata": {},
   "outputs": [
    {
     "data": {
      "text/plain": "<Figure size 432x288 with 1 Axes>",
      "image/png": "[encoded data removed]"
     },
     "metadata": {
      "needs_background": "light"
     },
     "output_type": "display_data"
    }
   ],
   "source": [
    "df_vaccination.groupby(df_vaccination.index.get_level_values('datum'))['poradi_davky'].mean().plot()\n",
    "plt.title('Prumerny pocet davek ockovaneho cloveka (bacha, prumer jen z ockovanych)');"
   ]
  },
  {
   "cell_type": "code",
   "execution_count": 11,
   "metadata": {
    "collapsed": false,
    "jupyter": {
     "outputs_hidden": false
    },
    "pycharm": {
     "name": "#%%\n"
    }
   },
   "outputs": [],
   "source": [
    "# df_vaccination[df_vaccination['vekova_skupina'] == '80-100'].xs('M', level=1)#.plot(y='pocet_davek')"
   ]
  },
  {
   "cell_type": "markdown",
   "metadata": {
    "pycharm": {
     "name": "#%% md\n"
    }
   },
   "source": [
    "## Model\n",
    "- Pro zrychleni lze pouzivat .itertuples misto .iterrows, viz:\n",
    "  - https://medium.com/swlh/why-pandas-itertuples-is-faster-than-iterrows-and-how-to-make-it-even-faster-bc50c0edd30d\n",
    "- np.random.choice ma tu vyhodu, ze lze vyuzit parameter vah `p` pro pridani korelace vakcinace s umrtimi."
   ]
  },
  {
   "cell_type": "code",
   "execution_count": 165,
   "metadata": {},
   "outputs": [],
   "source": [
    "weeks = sorted(df_deaths.index.get_level_values('datum').unique())"
   ]
  },
  {
   "cell_type": "code",
   "execution_count": 167,
   "metadata": {},
   "outputs": [
    {
     "data": {
      "text/plain": "51"
     },
     "execution_count": 167,
     "metadata": {},
     "output_type": "execute_result"
    }
   ],
   "source": [
    "len(weeks)"
   ]
  },
  {
   "cell_type": "code",
   "execution_count": 180,
   "outputs": [],
   "source": [
    "DEBUG = False"
   ],
   "metadata": {
    "collapsed": false,
    "pycharm": {
     "name": "#%%\n"
    }
   }
  },
  {
   "cell_type": "code",
   "execution_count": 228,
   "metadata": {
    "collapsed": false,
    "jupyter": {
     "outputs_hidden": false
    },
    "pycharm": {
     "name": "#%%\n"
    }
   },
   "outputs": [
    {
     "name": "stderr",
     "output_type": "stream",
     "text": [
      "0it [00:00, ?it/s]"
     ]
    },
    {
     "name": "stdout",
     "output_type": "stream",
     "text": [
      "Zpracovavam 1. davku...\n",
      "Zpracovavam 2. davku...\n"
     ]
    },
    {
     "name": "stderr",
     "output_type": "stream",
     "text": [
      "1it [00:03,  3.55s/it]"
     ]
    },
    {
     "name": "stdout",
     "output_type": "stream",
     "text": [
      "2.210099935531616\n",
      "Zpracovavam 1. davku...\n",
      "Zpracovavam 2. davku...\n"
     ]
    },
    {
     "name": "stderr",
     "output_type": "stream",
     "text": [
      "2it [00:07,  3.69s/it]"
     ]
    },
    {
     "name": "stdout",
     "output_type": "stream",
     "text": [
      "2.0949649810791016\n",
      "Zpracovavam 1. davku...\n",
      "Zpracovavam 2. davku...\n"
     ]
    },
    {
     "name": "stderr",
     "output_type": "stream",
     "text": [
      "3it [00:11,  3.87s/it]"
     ]
    },
    {
     "name": "stdout",
     "output_type": "stream",
     "text": [
      "2.2398531436920166\n",
      "Zpracovavam 1. davku...\n",
      "Zpracovavam 2. davku...\n"
     ]
    },
    {
     "name": "stderr",
     "output_type": "stream",
     "text": [
      "4it [00:15,  3.94s/it]"
     ]
    },
    {
     "name": "stdout",
     "output_type": "stream",
     "text": [
      "2.1814651489257812\n",
      "Zpracovavam 1. davku...\n",
      "Zpracovavam 2. davku...\n"
     ]
    },
    {
     "name": "stderr",
     "output_type": "stream",
     "text": [
      "5it [00:19,  3.95s/it]"
     ]
    },
    {
     "name": "stdout",
     "output_type": "stream",
     "text": [
      "2.150622844696045\n",
      "Zpracovavam 1. davku...\n",
      "Zpracovavam 2. davku...\n"
     ]
    },
    {
     "name": "stderr",
     "output_type": "stream",
     "text": [
      "5it [00:23,  4.69s/it]"
     ]
    },
    {
     "name": "stdout",
     "output_type": "stream",
     "text": [
      "2.085198163986206\n"
     ]
    },
    {
     "name": "stderr",
     "output_type": "stream",
     "text": [
      "\n"
     ]
    }
   ],
   "source": [
    "counts = []\n",
    "counts_marked = []\n",
    "\n",
    "for k, week in tqdm(enumerate(weeks)):\n",
    "    # -------- Mark newly vaccinated --------\n",
    "    # Dva radky nize jsou super sofistikovany (a elegantni) pandas trik\n",
    "    #  .groupby('poradi_davky') rozdeli tyden na casti podle sloupce `poradi_davky`\n",
    "    #  nasledne iteruji pres vsechny 1. vakciny vyockovane v danem tydnu, vsechny 2., ...\n",
    "    grouped_vaccination_week = df_vaccination.loc[week].groupby('poradi_davky')\n",
    "    for davka, vacc_week in grouped_vaccination_week:\n",
    "        print(f'Zpracovavam {davka}. davku...')\n",
    "        # print(vacc_week)\n",
    "        # print('*'*5)\n",
    "\n",
    "        for row in vacc_week.itertuples():\n",
    "            if row.pocet_davek == 0:\n",
    "                continue\n",
    "            age = tuple(int(a) for a in row.vekova_skupina.split(\"-\"))\n",
    "            \n",
    "            # Vyberu lidi s danym pohlavim, v danem vekovem intervalu\n",
    "            #  a se spravnym poctem davek (tj. ockovana davka - 1).\n",
    "            cohort = persons[\n",
    "                (persons[\"pohlavi\"] == row.Index) &\n",
    "                (persons[\"vek\"] >= age[0]) &\n",
    "                (persons[\"vek\"] <= age[1]) &\n",
    "                (persons[\"davek_v_tele\"] == davka-1)\n",
    "            ]\n",
    "\n",
    "            if row.pocet_davek > len(cohort):\n",
    "                a = persons[\n",
    "                    (persons[\"pohlavi\"] == row.Index) &\n",
    "                    (persons[\"vek\"] >= age[0]) &\n",
    "                    (persons[\"vek\"] <= age[1])\n",
    "                ]\n",
    "\n",
    "                print(a.groupby(\"davek_v_tele\").count())\n",
    "                print('Neco je divne, mam ockovat vice lidi nez je v dane skupine.')\n",
    "                print(f\"**** Je tyden {week:%Y-%m-%d} a ja ve vekove skupine {row.vekova_skupina:>6} vyberu\"\n",
    "                      f\"{row.pocet_davek:>7,d} ockovanych z {len(cohort):>7,d} moznych\")\n",
    "                continue\n",
    "\n",
    "            # Nahodne vyberu kdo bude v dane skupine vakcinovany.\n",
    "            sampled_indices = cohort.sample(n=row.pocet_davek, replace=False).index\n",
    "            persons.loc[sampled_indices, \"davek_v_tele\"] += 1\n",
    "\n",
    "            if DEBUG:\n",
    "                # Vypisu co se deje. Model ma dost pohyblivych casti.\n",
    "                print(f\"Je {week:%Y-%m-%d} a ve věkové skupině {row.vekova_skupina:>6} vyberu\"\n",
    "                      f\"{row.pocet_davek:>7,d} lidí s {davka-1} dávkami z {len(cohort):>7,d} možných, \"\n",
    "                      f\"které tento týden naočkuji.\")\n",
    "\n",
    "    # -------- Remove dead people --------\n",
    "    for row in df_deaths.loc[week].itertuples():\n",
    "        if row.pocet_umrti > 0:\n",
    "            # TODO toto udělat jako preprocessing, zbytečně se to počítá pořád\n",
    "            age = tuple(int(a) for a in row.vekova_skupina.split(\"-\"))\n",
    "\n",
    "            cohort = persons[\n",
    "                (persons[\"pohlavi\"] == row.Index[1]) &\n",
    "                (persons[\"vek\"] >= age[0]) &\n",
    "                (persons[\"vek\"] <= age[1])\n",
    "            ]\n",
    "            persons = persons[~persons.index.isin(cohort.sample(n=row.pocet_umrti).index)]\n",
    "\n",
    "            if DEBUG:\n",
    "                # Vypisu co se deje. Model ma dost pohyblivych casti.\n",
    "                print(f\"Je {week:%Y-%m-%d} a ve věkové skupině {row.vekova_skupina:>6} umírá\"\n",
    "                      f\"{row.pocet_umrti:>7,d} lidí z {len(cohort):>7,d} možných\")\n",
    "\n",
    "    counts.append(len(persons))\n",
    "    counts_marked.append((persons[\"davek_v_tele\"] >= 1).sum())\n",
    "\n",
    "    # Sanity check\n",
    "    if len(counts) > 1 and counts[-1] == counts[-2]:\n",
    "        print(\"Error, nikdo nezemřel!\")\n",
    "\n",
    "    # TODO: Odstranit, jen pro debug.\n",
    "    if k >= 5:\n",
    "        break"
   ]
  },
  {
   "cell_type": "markdown",
   "source": [
    "## Visualizations\n",
    "- TODO"
   ],
   "metadata": {
    "collapsed": false,
    "pycharm": {
     "name": "#%% md\n"
    }
   }
  },
  {
   "cell_type": "code",
   "execution_count": 232,
   "outputs": [
    {
     "data": {
      "text/plain": "<Figure size 432x288 with 1 Axes>",
      "image/png": "[encoded data removed]"
     },
     "metadata": {
      "needs_background": "light"
     },
     "output_type": "display_data"
    }
   ],
   "source": [
    "plt.plot(np.diff(counts));"
   ],
   "metadata": {
    "collapsed": false,
    "pycharm": {
     "name": "#%%\n"
    }
   }
  },
  {
   "cell_type": "code",
   "execution_count": 233,
   "outputs": [
    {
     "data": {
      "text/plain": "<Figure size 432x288 with 1 Axes>",
      "image/png": "[encoded data removed]"
     },
     "metadata": {
      "needs_background": "light"
     },
     "output_type": "display_data"
    }
   ],
   "source": [
    "plt.plot(np.diff(counts_marked));"
   ],
   "metadata": {
    "collapsed": false,
    "pycharm": {
     "name": "#%%\n"
    }
   }
  },
  {
   "cell_type": "code",
   "execution_count": 237,
   "outputs": [
    {
     "name": "stdout",
     "output_type": "stream",
     "text": [
      "CPU times: user 430 µs, sys: 302 µs, total: 732 µs\n",
      "Wall time: 720 µs\n"
     ]
    },
    {
     "data": {
      "text/plain": "         pocet_umrti vekova_skupina\npohlavi                            \nM                  5            0-4\nF                  3            0-4\nM                  0            5-9\nF                  0            5-9\nM                  0          10-14\nF                  2          10-14\nM                  2          15-19\nF                  3          15-19\nM                  3          20-24\nF                  0          20-24\nM                  3          25-29\nF                  5          25-29\nM                  4          30-34\nF                  4          30-34\nM                 17          35-39\nF                  6          35-39\nM                 25          40-44\nF                 12          40-44\nM                 35          45-49\nF                 17          45-49\nM                 56          50-54\nF                 18          50-54\nM                 78          55-59\nF                 35          55-59\nM                145          60-64\nF                 54          60-64\nM                228          65-69\nF                109          65-69\nM                331          70-74\nF                209          70-74\nM                332          75-79\nF                224          75-79\nM                245          80-84\nF                251          80-84\nM                208          85-89\nF                342          85-89\nM                126         90-120\nF                306         90-120",
      "text/html": "<div>\n<style scoped>\n    .dataframe tbody tr th:only-of-type {\n        vertical-align: middle;\n    }\n\n    .dataframe tbody tr th {\n        vertical-align: top;\n    }\n\n    .dataframe thead th {\n        text-align: right;\n    }\n</style>\n<table border=\"1\" class=\"dataframe\">\n  <thead>\n    <tr style=\"text-align: right;\">\n      <th></th>\n      <th>pocet_umrti</th>\n      <th>vekova_skupina</th>\n    </tr>\n    <tr>\n      <th>pohlavi</th>\n      <th></th>\n      <th></th>\n    </tr>\n  </thead>\n  <tbody>\n    <tr>\n      <th>M</th>\n      <td>5</td>\n      <td>0-4</td>\n    </tr>\n    <tr>\n      <th>F</th>\n      <td>3</td>\n      <td>0-4</td>\n    </tr>\n    <tr>\n      <th>M</th>\n      <td>0</td>\n      <td>5-9</td>\n    </tr>\n    <tr>\n      <th>F</th>\n      <td>0</td>\n      <td>5-9</td>\n    </tr>\n    <tr>\n      <th>M</th>\n      <td>0</td>\n      <td>10-14</td>\n    </tr>\n    <tr>\n      <th>F</th>\n      <td>2</td>\n      <td>10-14</td>\n    </tr>\n    <tr>\n      <th>M</th>\n      <td>2</td>\n      <td>15-19</td>\n    </tr>\n    <tr>\n      <th>F</th>\n      <td>3</td>\n      <td>15-19</td>\n    </tr>\n    <tr>\n      <th>M</th>\n      <td>3</td>\n      <td>20-24</td>\n    </tr>\n    <tr>\n      <th>F</th>\n      <td>0</td>\n      <td>20-24</td>\n    </tr>\n    <tr>\n      <th>M</th>\n      <td>3</td>\n      <td>25-29</td>\n    </tr>\n    <tr>\n      <th>F</th>\n      <td>5</td>\n      <td>25-29</td>\n    </tr>\n    <tr>\n      <th>M</th>\n      <td>4</td>\n      <td>30-34</td>\n    </tr>\n    <tr>\n      <th>F</th>\n      <td>4</td>\n      <td>30-34</td>\n    </tr>\n    <tr>\n      <th>M</th>\n      <td>17</td>\n      <td>35-39</td>\n    </tr>\n    <tr>\n      <th>F</th>\n      <td>6</td>\n      <td>35-39</td>\n    </tr>\n    <tr>\n      <th>M</th>\n      <td>25</td>\n      <td>40-44</td>\n    </tr>\n    <tr>\n      <th>F</th>\n      <td>12</td>\n      <td>40-44</td>\n    </tr>\n    <tr>\n      <th>M</th>\n      <td>35</td>\n      <td>45-49</td>\n    </tr>\n    <tr>\n      <th>F</th>\n      <td>17</td>\n      <td>45-49</td>\n    </tr>\n    <tr>\n      <th>M</th>\n      <td>56</td>\n      <td>50-54</td>\n    </tr>\n    <tr>\n      <th>F</th>\n      <td>18</td>\n      <td>50-54</td>\n    </tr>\n    <tr>\n      <th>M</th>\n      <td>78</td>\n      <td>55-59</td>\n    </tr>\n    <tr>\n      <th>F</th>\n      <td>35</td>\n      <td>55-59</td>\n    </tr>\n    <tr>\n      <th>M</th>\n      <td>145</td>\n      <td>60-64</td>\n    </tr>\n    <tr>\n      <th>F</th>\n      <td>54</td>\n      <td>60-64</td>\n    </tr>\n    <tr>\n      <th>M</th>\n      <td>228</td>\n      <td>65-69</td>\n    </tr>\n    <tr>\n      <th>F</th>\n      <td>109</td>\n      <td>65-69</td>\n    </tr>\n    <tr>\n      <th>M</th>\n      <td>331</td>\n      <td>70-74</td>\n    </tr>\n    <tr>\n      <th>F</th>\n      <td>209</td>\n      <td>70-74</td>\n    </tr>\n    <tr>\n      <th>M</th>\n      <td>332</td>\n      <td>75-79</td>\n    </tr>\n    <tr>\n      <th>F</th>\n      <td>224</td>\n      <td>75-79</td>\n    </tr>\n    <tr>\n      <th>M</th>\n      <td>245</td>\n      <td>80-84</td>\n    </tr>\n    <tr>\n      <th>F</th>\n      <td>251</td>\n      <td>80-84</td>\n    </tr>\n    <tr>\n      <th>M</th>\n      <td>208</td>\n      <td>85-89</td>\n    </tr>\n    <tr>\n      <th>F</th>\n      <td>342</td>\n      <td>85-89</td>\n    </tr>\n    <tr>\n      <th>M</th>\n      <td>126</td>\n      <td>90-120</td>\n    </tr>\n    <tr>\n      <th>F</th>\n      <td>306</td>\n      <td>90-120</td>\n    </tr>\n  </tbody>\n</table>\n</div>"
     },
     "execution_count": 237,
     "metadata": {},
     "output_type": "execute_result"
    }
   ],
   "source": [
    "%%time\n",
    "df_deaths.loc[week]"
   ],
   "metadata": {
    "collapsed": false,
    "pycharm": {
     "name": "#%%\n"
    }
   }
  },
  {
   "cell_type": "code",
   "execution_count": 238,
   "outputs": [
    {
     "name": "stdout",
     "output_type": "stream",
     "text": [
      "CPU times: user 753 µs, sys: 873 µs, total: 1.63 ms\n",
      "Wall time: 1.06 ms\n"
     ]
    },
    {
     "data": {
      "text/plain": "                    pocet_umrti vekova_skupina\ndatum      pohlavi                            \n2021-02-14 M                  5            0-4\n           F                  3            0-4\n           M                  0            5-9\n           F                  0            5-9\n           M                  0          10-14\n           F                  2          10-14\n           M                  2          15-19\n           F                  3          15-19\n           M                  3          20-24\n           F                  0          20-24\n           M                  3          25-29\n           F                  5          25-29\n           M                  4          30-34\n           F                  4          30-34\n           M                 17          35-39\n           F                  6          35-39\n           M                 25          40-44\n           F                 12          40-44\n           M                 35          45-49\n           F                 17          45-49\n           M                 56          50-54\n           F                 18          50-54\n           M                 78          55-59\n           F                 35          55-59\n           M                145          60-64\n           F                 54          60-64\n           M                228          65-69\n           F                109          65-69\n           M                331          70-74\n           F                209          70-74\n           M                332          75-79\n           F                224          75-79\n           M                245          80-84\n           F                251          80-84\n           M                208          85-89\n           F                342          85-89\n           M                126         90-120\n           F                306         90-120",
      "text/html": "<div>\n<style scoped>\n    .dataframe tbody tr th:only-of-type {\n        vertical-align: middle;\n    }\n\n    .dataframe tbody tr th {\n        vertical-align: top;\n    }\n\n    .dataframe thead th {\n        text-align: right;\n    }\n</style>\n<table border=\"1\" class=\"dataframe\">\n  <thead>\n    <tr style=\"text-align: right;\">\n      <th></th>\n      <th></th>\n      <th>pocet_umrti</th>\n      <th>vekova_skupina</th>\n    </tr>\n    <tr>\n      <th>datum</th>\n      <th>pohlavi</th>\n      <th></th>\n      <th></th>\n    </tr>\n  </thead>\n  <tbody>\n    <tr>\n      <th rowspan=\"38\" valign=\"top\">2021-02-14</th>\n      <th>M</th>\n      <td>5</td>\n      <td>0-4</td>\n    </tr>\n    <tr>\n      <th>F</th>\n      <td>3</td>\n      <td>0-4</td>\n    </tr>\n    <tr>\n      <th>M</th>\n      <td>0</td>\n      <td>5-9</td>\n    </tr>\n    <tr>\n      <th>F</th>\n      <td>0</td>\n      <td>5-9</td>\n    </tr>\n    <tr>\n      <th>M</th>\n      <td>0</td>\n      <td>10-14</td>\n    </tr>\n    <tr>\n      <th>F</th>\n      <td>2</td>\n      <td>10-14</td>\n    </tr>\n    <tr>\n      <th>M</th>\n      <td>2</td>\n      <td>15-19</td>\n    </tr>\n    <tr>\n      <th>F</th>\n      <td>3</td>\n      <td>15-19</td>\n    </tr>\n    <tr>\n      <th>M</th>\n      <td>3</td>\n      <td>20-24</td>\n    </tr>\n    <tr>\n      <th>F</th>\n      <td>0</td>\n      <td>20-24</td>\n    </tr>\n    <tr>\n      <th>M</th>\n      <td>3</td>\n      <td>25-29</td>\n    </tr>\n    <tr>\n      <th>F</th>\n      <td>5</td>\n      <td>25-29</td>\n    </tr>\n    <tr>\n      <th>M</th>\n      <td>4</td>\n      <td>30-34</td>\n    </tr>\n    <tr>\n      <th>F</th>\n      <td>4</td>\n      <td>30-34</td>\n    </tr>\n    <tr>\n      <th>M</th>\n      <td>17</td>\n      <td>35-39</td>\n    </tr>\n    <tr>\n      <th>F</th>\n      <td>6</td>\n      <td>35-39</td>\n    </tr>\n    <tr>\n      <th>M</th>\n      <td>25</td>\n      <td>40-44</td>\n    </tr>\n    <tr>\n      <th>F</th>\n      <td>12</td>\n      <td>40-44</td>\n    </tr>\n    <tr>\n      <th>M</th>\n      <td>35</td>\n      <td>45-49</td>\n    </tr>\n    <tr>\n      <th>F</th>\n      <td>17</td>\n      <td>45-49</td>\n    </tr>\n    <tr>\n      <th>M</th>\n      <td>56</td>\n      <td>50-54</td>\n    </tr>\n    <tr>\n      <th>F</th>\n      <td>18</td>\n      <td>50-54</td>\n    </tr>\n    <tr>\n      <th>M</th>\n      <td>78</td>\n      <td>55-59</td>\n    </tr>\n    <tr>\n      <th>F</th>\n      <td>35</td>\n      <td>55-59</td>\n    </tr>\n    <tr>\n      <th>M</th>\n      <td>145</td>\n      <td>60-64</td>\n    </tr>\n    <tr>\n      <th>F</th>\n      <td>54</td>\n      <td>60-64</td>\n    </tr>\n    <tr>\n      <th>M</th>\n      <td>228</td>\n      <td>65-69</td>\n    </tr>\n    <tr>\n      <th>F</th>\n      <td>109</td>\n      <td>65-69</td>\n    </tr>\n    <tr>\n      <th>M</th>\n      <td>331</td>\n      <td>70-74</td>\n    </tr>\n    <tr>\n      <th>F</th>\n      <td>209</td>\n      <td>70-74</td>\n    </tr>\n    <tr>\n      <th>M</th>\n      <td>332</td>\n      <td>75-79</td>\n    </tr>\n    <tr>\n      <th>F</th>\n      <td>224</td>\n      <td>75-79</td>\n    </tr>\n    <tr>\n      <th>M</th>\n      <td>245</td>\n      <td>80-84</td>\n    </tr>\n    <tr>\n      <th>F</th>\n      <td>251</td>\n      <td>80-84</td>\n    </tr>\n    <tr>\n      <th>M</th>\n      <td>208</td>\n      <td>85-89</td>\n    </tr>\n    <tr>\n      <th>F</th>\n      <td>342</td>\n      <td>85-89</td>\n    </tr>\n    <tr>\n      <th>M</th>\n      <td>126</td>\n      <td>90-120</td>\n    </tr>\n    <tr>\n      <th>F</th>\n      <td>306</td>\n      <td>90-120</td>\n    </tr>\n  </tbody>\n</table>\n</div>"
     },
     "execution_count": 238,
     "metadata": {},
     "output_type": "execute_result"
    }
   ],
   "source": [
    "%%time\n",
    "df_deaths[df_deaths.index.get_level_values(\"datum\") == week]"
   ],
   "metadata": {
    "collapsed": false,
    "pycharm": {
     "name": "#%%\n"
    }
   }
  },
  {
   "cell_type": "code",
   "execution_count": null,
   "outputs": [],
   "source": [],
   "metadata": {
    "collapsed": false,
    "pycharm": {
     "name": "#%%\n"
    }
   }
  }
 ],
 "metadata": {
  "kernelspec": {
   "display_name": "Python 3 (ipykernel)",
   "language": "python",
   "name": "python3"
  },
  "language_info": {
   "codemirror_mode": {
    "name": "ipython",
    "version": 3
   },
   "file_extension": ".py",
   "mimetype": "text/x-python",
   "name": "python",
   "nbconvert_exporter": "python",
   "pygments_lexer": "ipython3",
   "version": "3.9.10"
  }
 },
 "nbformat": 4,
 "nbformat_minor": 4
}