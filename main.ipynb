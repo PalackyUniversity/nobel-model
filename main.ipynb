{
 "cells": [
  {
   "cell_type": "code",
   "execution_count": 1,
   "metadata": {
    "tags": []
   },
   "outputs": [],
   "source": [
    "from matplotlib import pyplot as plt\n",
    "from tqdm import tqdm\n",
    "import pandas as pd\n",
    "import numpy as np"
   ]
  },
  {
   "cell_type": "code",
   "execution_count": 2,
   "metadata": {
    "collapsed": false,
    "jupyter": {
     "outputs_hidden": false
    },
    "pycharm": {
     "name": "#%%\n"
    }
   },
   "outputs": [],
   "source": [
    "SCALE = 10"
   ]
  },
  {
   "cell_type": "markdown",
   "metadata": {
    "pycharm": {
     "name": "#%% md\n"
    }
   },
   "source": [
    "## Load \"Sčítání lidí\""
   ]
  },
  {
   "cell_type": "code",
   "execution_count": 3,
   "metadata": {
    "collapsed": false,
    "jupyter": {
     "outputs_hidden": false
    },
    "pycharm": {
     "name": "#%%\n"
    }
   },
   "outputs": [
    {
     "name": "stderr",
     "output_type": "stream",
     "text": [
      "101it [00:00, 635.52it/s]\n"
     ]
    }
   ],
   "source": [
    "dfs = pd.read_excel(\"./data/sldb2021_pv_vek_pohlavi.xlsx\").set_index(\"věk\")\n",
    "\n",
    "ages = []\n",
    "genders = []\n",
    "\n",
    "for n, row in tqdm(dfs.iterrows()):\n",
    "    for m in range(row[\"muži\"] // SCALE):\n",
    "        genders.append(\"M\")\n",
    "        # ages.append(n // 5 * 5)\n",
    "        ages.append(n)\n",
    "\n",
    "    for f in range(row[\"ženy\"] // SCALE):\n",
    "        genders.append(\"F\")\n",
    "        # ages.append(n // 5 * 5)\n",
    "        ages.append(n)\n",
    "\n",
    "persons = pd.DataFrame({\"vek\": ages, \"pohlavi\": genders, \"davek_v_tele\": 0})"
   ]
  },
  {
   "cell_type": "markdown",
   "metadata": {
    "pycharm": {
     "name": "#%% md\n"
    }
   },
   "source": [
    "## Load deaths"
   ]
  },
  {
   "cell_type": "code",
   "execution_count": 4,
   "metadata": {
    "collapsed": false,
    "jupyter": {
     "outputs_hidden": false
    },
    "pycharm": {
     "name": "#%%\n"
    }
   },
   "outputs": [],
   "source": [
    "dfd = pd.read_csv(\"data/DEMOMIGR_2005_2021_komplet.csv\")\n",
    "# We do not want break out by region\n",
    "dfd = dfd[dfd[\"uzemi\"] == \"CZ\"].drop(columns=[\"uzemi\"])\n",
    "\n",
    "# We do not want other years\n",
    "dfd = dfd[dfd[\"tyden\"].str.split(\"-\").str[0] == \"2021\"]\n",
    "\n",
    "# We do not want summaries \"Celkem\"\n",
    "dfd = dfd[dfd[\"pohlavi\"] != \"T\"]\n",
    "\n",
    "# Converting and \"normalizing\"\n",
    "dfd[\"tyden\"] = pd.to_datetime(dfd[\"tyden\"] + '0', format=\"%Y-W%W%w\")\n",
    "# dfd[\"vek\"] = dfd[\"vek\"].str.split(\"T\").str[0].str.lstrip(\"Y\").replace(\"_GE90\", 90).astype(int)\n",
    "dfd['vekova_skupina'] = (\n",
    "    dfd['vek']\n",
    "    .str.replace(\"_GE90\", '90-120')\n",
    "    .str.replace('Y', '')\n",
    "    .str.replace('T', '-')\n",
    ")\n",
    "\n",
    "dfd = dfd.rename(columns={\"tyden\": \"datum\", 'hodnota': 'pocet_umrti'})\n",
    "\n",
    "df_deaths = dfd.drop(columns='vek').set_index(['datum', 'pohlavi'])"
   ]
  },
  {
   "cell_type": "markdown",
   "metadata": {
    "pycharm": {
     "name": "#%% md\n"
    }
   },
   "source": [
    "## Load vaccinations"
   ]
  },
  {
   "cell_type": "code",
   "execution_count": 5,
   "metadata": {
    "collapsed": false,
    "jupyter": {
     "outputs_hidden": false
    },
    "pycharm": {
     "name": "#%%\n"
    }
   },
   "outputs": [],
   "source": [
    "dfo = pd.read_csv(\"data/ockovani-demografie.csv\")\n",
    "\n",
    "# Runtime optimization\n",
    "dfo = dfo.groupby([\"datum\", \"vekova_skupina\", \"pohlavi\", 'poradi_davky']).sum().reset_index()\n",
    "\n",
    "# Converting and \"normalizing\"\n",
    "dfo[\"datum\"] = pd.to_datetime(dfo[\"datum\"], format=\"%Y-%m-%d\")\n",
    "dfo[\"pohlavi\"] = dfo[\"pohlavi\"].replace(\"Z\", \"F\")\n",
    "dfo[\"vekova_skupina\"] = dfo[\"vekova_skupina\"].replace(\"80+\", \"80-100\")\n",
    "# dfo = dfo.rename(columns={\"pocet_davek\": \"hodnota\"})\n",
    "\n",
    "# Runtime optimization\n",
    "dfo = dfo.groupby([pd.Grouper(key='datum', freq='W-SUN'), \"pohlavi\", \"vekova_skupina\", \"poradi_davky\"]).sum().reset_index()\n",
    "\n",
    "df_vaccination = dfo.set_index(['datum', 'pohlavi'])"
   ]
  },
  {
   "cell_type": "code",
   "execution_count": 6,
   "metadata": {},
   "outputs": [],
   "source": [
    "# df_vaccination.loc['2022-10-02', 'M']"
   ]
  },
  {
   "cell_type": "markdown",
   "metadata": {
    "pycharm": {
     "name": "#%% md\n"
    }
   },
   "source": [
    "## Quick look"
   ]
  },
  {
   "cell_type": "code",
   "execution_count": 7,
   "metadata": {
    "collapsed": false,
    "jupyter": {
     "outputs_hidden": false
    },
    "pycharm": {
     "name": "#%%\n"
    }
   },
   "outputs": [
    {
     "data": {
      "text/html": [
       "<div>\n",
       "<style scoped>\n",
       "    .dataframe tbody tr th:only-of-type {\n",
       "        vertical-align: middle;\n",
       "    }\n",
       "\n",
       "    .dataframe tbody tr th {\n",
       "        vertical-align: top;\n",
       "    }\n",
       "\n",
       "    .dataframe thead th {\n",
       "        text-align: right;\n",
       "    }\n",
       "</style>\n",
       "<table border=\"1\" class=\"dataframe\">\n",
       "  <thead>\n",
       "    <tr style=\"text-align: right;\">\n",
       "      <th></th>\n",
       "      <th>vek</th>\n",
       "      <th>pohlavi</th>\n",
       "      <th>davek_v_tele</th>\n",
       "    </tr>\n",
       "  </thead>\n",
       "  <tbody>\n",
       "    <tr>\n",
       "      <th>0</th>\n",
       "      <td>0</td>\n",
       "      <td>M</td>\n",
       "      <td>0</td>\n",
       "    </tr>\n",
       "    <tr>\n",
       "      <th>1</th>\n",
       "      <td>0</td>\n",
       "      <td>M</td>\n",
       "      <td>0</td>\n",
       "    </tr>\n",
       "    <tr>\n",
       "      <th>2</th>\n",
       "      <td>0</td>\n",
       "      <td>M</td>\n",
       "      <td>0</td>\n",
       "    </tr>\n",
       "    <tr>\n",
       "      <th>3</th>\n",
       "      <td>0</td>\n",
       "      <td>M</td>\n",
       "      <td>0</td>\n",
       "    </tr>\n",
       "    <tr>\n",
       "      <th>4</th>\n",
       "      <td>0</td>\n",
       "      <td>M</td>\n",
       "      <td>0</td>\n",
       "    </tr>\n",
       "    <tr>\n",
       "      <th>...</th>\n",
       "      <td>...</td>\n",
       "      <td>...</td>\n",
       "      <td>...</td>\n",
       "    </tr>\n",
       "    <tr>\n",
       "      <th>1052325</th>\n",
       "      <td>100</td>\n",
       "      <td>F</td>\n",
       "      <td>0</td>\n",
       "    </tr>\n",
       "    <tr>\n",
       "      <th>1052326</th>\n",
       "      <td>100</td>\n",
       "      <td>F</td>\n",
       "      <td>0</td>\n",
       "    </tr>\n",
       "    <tr>\n",
       "      <th>1052327</th>\n",
       "      <td>100</td>\n",
       "      <td>F</td>\n",
       "      <td>0</td>\n",
       "    </tr>\n",
       "    <tr>\n",
       "      <th>1052328</th>\n",
       "      <td>100</td>\n",
       "      <td>F</td>\n",
       "      <td>0</td>\n",
       "    </tr>\n",
       "    <tr>\n",
       "      <th>1052329</th>\n",
       "      <td>100</td>\n",
       "      <td>F</td>\n",
       "      <td>0</td>\n",
       "    </tr>\n",
       "  </tbody>\n",
       "</table>\n",
       "<p>1052330 rows × 3 columns</p>\n",
       "</div>"
      ],
      "text/plain": [
       "         vek pohlavi  davek_v_tele\n",
       "0          0       M             0\n",
       "1          0       M             0\n",
       "2          0       M             0\n",
       "3          0       M             0\n",
       "4          0       M             0\n",
       "...      ...     ...           ...\n",
       "1052325  100       F             0\n",
       "1052326  100       F             0\n",
       "1052327  100       F             0\n",
       "1052328  100       F             0\n",
       "1052329  100       F             0\n",
       "\n",
       "[1052330 rows x 3 columns]"
      ]
     },
     "execution_count": 7,
     "metadata": {},
     "output_type": "execute_result"
    }
   ],
   "source": [
    "persons"
   ]
  },
  {
   "cell_type": "code",
   "execution_count": 8,
   "metadata": {
    "collapsed": false,
    "jupyter": {
     "outputs_hidden": false
    },
    "pycharm": {
     "name": "#%%\n"
    }
   },
   "outputs": [
    {
     "data": {
      "text/html": [
       "<div>\n",
       "<style scoped>\n",
       "    .dataframe tbody tr th:only-of-type {\n",
       "        vertical-align: middle;\n",
       "    }\n",
       "\n",
       "    .dataframe tbody tr th {\n",
       "        vertical-align: top;\n",
       "    }\n",
       "\n",
       "    .dataframe thead th {\n",
       "        text-align: right;\n",
       "    }\n",
       "</style>\n",
       "<table border=\"1\" class=\"dataframe\">\n",
       "  <thead>\n",
       "    <tr style=\"text-align: right;\">\n",
       "      <th></th>\n",
       "      <th></th>\n",
       "      <th>pocet_umrti</th>\n",
       "      <th>vekova_skupina</th>\n",
       "    </tr>\n",
       "    <tr>\n",
       "      <th>datum</th>\n",
       "      <th>pohlavi</th>\n",
       "      <th></th>\n",
       "      <th></th>\n",
       "    </tr>\n",
       "  </thead>\n",
       "  <tbody>\n",
       "    <tr>\n",
       "      <th rowspan=\"5\" valign=\"top\">2021-01-10</th>\n",
       "      <th>M</th>\n",
       "      <td>1</td>\n",
       "      <td>0-4</td>\n",
       "    </tr>\n",
       "    <tr>\n",
       "      <th>F</th>\n",
       "      <td>3</td>\n",
       "      <td>0-4</td>\n",
       "    </tr>\n",
       "    <tr>\n",
       "      <th>M</th>\n",
       "      <td>0</td>\n",
       "      <td>5-9</td>\n",
       "    </tr>\n",
       "    <tr>\n",
       "      <th>F</th>\n",
       "      <td>1</td>\n",
       "      <td>5-9</td>\n",
       "    </tr>\n",
       "    <tr>\n",
       "      <th>M</th>\n",
       "      <td>0</td>\n",
       "      <td>10-14</td>\n",
       "    </tr>\n",
       "    <tr>\n",
       "      <th>...</th>\n",
       "      <th>...</th>\n",
       "      <td>...</td>\n",
       "      <td>...</td>\n",
       "    </tr>\n",
       "    <tr>\n",
       "      <th rowspan=\"5\" valign=\"top\">2021-12-26</th>\n",
       "      <th>F</th>\n",
       "      <td>256</td>\n",
       "      <td>80-84</td>\n",
       "    </tr>\n",
       "    <tr>\n",
       "      <th>M</th>\n",
       "      <td>144</td>\n",
       "      <td>85-89</td>\n",
       "    </tr>\n",
       "    <tr>\n",
       "      <th>F</th>\n",
       "      <td>241</td>\n",
       "      <td>85-89</td>\n",
       "    </tr>\n",
       "    <tr>\n",
       "      <th>M</th>\n",
       "      <td>122</td>\n",
       "      <td>90-120</td>\n",
       "    </tr>\n",
       "    <tr>\n",
       "      <th>F</th>\n",
       "      <td>316</td>\n",
       "      <td>90-120</td>\n",
       "    </tr>\n",
       "  </tbody>\n",
       "</table>\n",
       "<p>1938 rows × 2 columns</p>\n",
       "</div>"
      ],
      "text/plain": [
       "                    pocet_umrti vekova_skupina\n",
       "datum      pohlavi                            \n",
       "2021-01-10 M                  1            0-4\n",
       "           F                  3            0-4\n",
       "           M                  0            5-9\n",
       "           F                  1            5-9\n",
       "           M                  0          10-14\n",
       "...                         ...            ...\n",
       "2021-12-26 F                256          80-84\n",
       "           M                144          85-89\n",
       "           F                241          85-89\n",
       "           M                122         90-120\n",
       "           F                316         90-120\n",
       "\n",
       "[1938 rows x 2 columns]"
      ]
     },
     "execution_count": 8,
     "metadata": {},
     "output_type": "execute_result"
    }
   ],
   "source": [
    "df_deaths"
   ]
  },
  {
   "cell_type": "code",
   "execution_count": 9,
   "metadata": {},
   "outputs": [
    {
     "data": {
      "text/html": [
       "<div>\n",
       "<style scoped>\n",
       "    .dataframe tbody tr th:only-of-type {\n",
       "        vertical-align: middle;\n",
       "    }\n",
       "\n",
       "    .dataframe tbody tr th {\n",
       "        vertical-align: top;\n",
       "    }\n",
       "\n",
       "    .dataframe thead th {\n",
       "        text-align: right;\n",
       "    }\n",
       "</style>\n",
       "<table border=\"1\" class=\"dataframe\">\n",
       "  <thead>\n",
       "    <tr style=\"text-align: right;\">\n",
       "      <th></th>\n",
       "      <th></th>\n",
       "      <th>vekova_skupina</th>\n",
       "      <th>poradi_davky</th>\n",
       "      <th>pocet_davek</th>\n",
       "    </tr>\n",
       "    <tr>\n",
       "      <th>datum</th>\n",
       "      <th>pohlavi</th>\n",
       "      <th></th>\n",
       "      <th></th>\n",
       "      <th></th>\n",
       "    </tr>\n",
       "  </thead>\n",
       "  <tbody>\n",
       "    <tr>\n",
       "      <th rowspan=\"5\" valign=\"top\">2020-12-27</th>\n",
       "      <th>F</th>\n",
       "      <td>18-24</td>\n",
       "      <td>1</td>\n",
       "      <td>25</td>\n",
       "    </tr>\n",
       "    <tr>\n",
       "      <th>F</th>\n",
       "      <td>25-29</td>\n",
       "      <td>1</td>\n",
       "      <td>78</td>\n",
       "    </tr>\n",
       "    <tr>\n",
       "      <th>F</th>\n",
       "      <td>30-34</td>\n",
       "      <td>1</td>\n",
       "      <td>67</td>\n",
       "    </tr>\n",
       "    <tr>\n",
       "      <th>F</th>\n",
       "      <td>35-39</td>\n",
       "      <td>1</td>\n",
       "      <td>76</td>\n",
       "    </tr>\n",
       "    <tr>\n",
       "      <th>F</th>\n",
       "      <td>40-44</td>\n",
       "      <td>1</td>\n",
       "      <td>118</td>\n",
       "    </tr>\n",
       "    <tr>\n",
       "      <th>...</th>\n",
       "      <th>...</th>\n",
       "      <td>...</td>\n",
       "      <td>...</td>\n",
       "      <td>...</td>\n",
       "    </tr>\n",
       "    <tr>\n",
       "      <th rowspan=\"5\" valign=\"top\">2022-10-02</th>\n",
       "      <th>M</th>\n",
       "      <td>75-79</td>\n",
       "      <td>1</td>\n",
       "      <td>1</td>\n",
       "    </tr>\n",
       "    <tr>\n",
       "      <th>M</th>\n",
       "      <td>75-79</td>\n",
       "      <td>3</td>\n",
       "      <td>3</td>\n",
       "    </tr>\n",
       "    <tr>\n",
       "      <th>M</th>\n",
       "      <td>75-79</td>\n",
       "      <td>4</td>\n",
       "      <td>81</td>\n",
       "    </tr>\n",
       "    <tr>\n",
       "      <th>M</th>\n",
       "      <td>80-100</td>\n",
       "      <td>3</td>\n",
       "      <td>2</td>\n",
       "    </tr>\n",
       "    <tr>\n",
       "      <th>M</th>\n",
       "      <td>80-100</td>\n",
       "      <td>4</td>\n",
       "      <td>60</td>\n",
       "    </tr>\n",
       "  </tbody>\n",
       "</table>\n",
       "<p>7621 rows × 3 columns</p>\n",
       "</div>"
      ],
      "text/plain": [
       "                   vekova_skupina  poradi_davky  pocet_davek\n",
       "datum      pohlavi                                          \n",
       "2020-12-27 F                18-24             1           25\n",
       "           F                25-29             1           78\n",
       "           F                30-34             1           67\n",
       "           F                35-39             1           76\n",
       "           F                40-44             1          118\n",
       "...                           ...           ...          ...\n",
       "2022-10-02 M                75-79             1            1\n",
       "           M                75-79             3            3\n",
       "           M                75-79             4           81\n",
       "           M               80-100             3            2\n",
       "           M               80-100             4           60\n",
       "\n",
       "[7621 rows x 3 columns]"
      ]
     },
     "execution_count": 9,
     "metadata": {},
     "output_type": "execute_result"
    }
   ],
   "source": [
    "df_vaccination"
   ]
  },
  {
   "cell_type": "code",
   "execution_count": 10,
   "metadata": {},
   "outputs": [
    {
     "data": {
      "text/plain": [
       "Text(0.5, 1.0, 'Prumerny pocet davek ockovaneho cloveka (bacha, prumer jen z ockovanych)')"
      ]
     },
     "execution_count": 10,
     "metadata": {},
     "output_type": "execute_result"
    },
    {
     "data": {
      "image/png": "[encoded data removed]",
      "text/plain": [
       "<Figure size 432x288 with 1 Axes>"
      ]
     },
     "metadata": {
      "needs_background": "light"
     },
     "output_type": "display_data"
    }
   ],
   "source": [
    "df_vaccination.groupby(df_vaccination.index.get_level_values('datum'))['poradi_davky'].mean().plot()\n",
    "plt.title('Prumerny pocet davek ockovaneho cloveka (bacha, prumer jen z ockovanych)')"
   ]
  },
  {
   "cell_type": "code",
   "execution_count": 11,
   "metadata": {
    "collapsed": false,
    "jupyter": {
     "outputs_hidden": false
    },
    "pycharm": {
     "name": "#%%\n"
    }
   },
   "outputs": [],
   "source": [
    "# df_vaccination[df_vaccination['vekova_skupina'] == '80-100'].xs('M', level=1)#.plot(y='pocet_davek')"
   ]
  },
  {
   "cell_type": "markdown",
   "metadata": {
    "pycharm": {
     "name": "#%% md\n"
    }
   },
   "source": [
    "## Model\n",
    "\n",
    "- ještě mi to padá na nějaké chybě, ale po nalezení již by měl být hotový bod 1, 2, 4, 5"
   ]
  },
  {
   "cell_type": "code",
   "execution_count": 12,
   "metadata": {
    "collapsed": false,
    "jupyter": {
     "outputs_hidden": false
    },
    "pycharm": {
     "name": "#%%\n"
    }
   },
   "outputs": [],
   "source": [
    "counts = []\n",
    "counts_marked = []"
   ]
  },
  {
   "cell_type": "code",
   "execution_count": 13,
   "metadata": {},
   "outputs": [],
   "source": [
    "weeks = sorted(df_deaths.index.get_level_values('datum').unique())"
   ]
  },
  {
   "cell_type": "code",
   "execution_count": 14,
   "metadata": {},
   "outputs": [],
   "source": [
    "# TODO: Pozor, je tu problem. Pri zaokrouhleni veku na 5ky \n",
    "#  nespadne treba do intervalu 16–17 nikdo (z `persons`)! Zatim jsem neresil.\n",
    "#  ---> Vyreseno\n",
    "\n",
    "# NOTE: Pro zrychleni lze pouzivat .itertuples misto .iterrows, viz:\n",
    "#  https://medium.com/swlh/why-pandas-itertuples-is-faster-than-iterrows-and-how-to-make-it-even-faster-bc50c0edd30d\n",
    "\n",
    "# NOTE: np.random.choice ma tu vyhodu, ze lze vyuzit parameter vah `p` pro pridani korelace vakcinace s umrtimi.\n",
    "\n",
    "# NOTE: Nemuze byt porovnavani poctu ockovanych lidi s celkovym poctem lidi jeste ovlivneno tim, ze v `persons`\n",
    "#  je jen cast populace (deleno pomoci `SCALE`)?\n",
    "#  Toto je dost dulezite, protoze si mnohem rychleji vyockujeme celou populaci.\n",
    "#  Mozne reseni 1: v dane skupine `row` vydelit `SCALE`\n",
    "#  Mozne reseni 2: aspon pro debug/vyvoj nastavit `SCALE = 1`"
   ]
  },
  {
   "cell_type": "code",
   "execution_count": 15,
   "metadata": {},
   "outputs": [
    {
     "data": {
      "text/plain": [
       "51"
      ]
     },
     "execution_count": 15,
     "metadata": {},
     "output_type": "execute_result"
    }
   ],
   "source": [
    "len(weeks)"
   ]
  },
  {
   "cell_type": "code",
   "execution_count": 16,
   "metadata": {
    "collapsed": false,
    "jupyter": {
     "outputs_hidden": false
    },
    "pycharm": {
     "name": "#%%\n"
    }
   },
   "outputs": [
    {
     "name": "stderr",
     "output_type": "stream",
     "text": [
      "0it [00:00, ?it/s]"
     ]
    },
    {
     "name": "stdout",
     "output_type": "stream",
     "text": [
      "Zpracovavam 1. davku...\n",
      "Je 2021-01-10 a ve věkové skupině  16-17 vyberu      9 lidí s 0 dávkami z   9,496 možných, které tento týden naočkuji.\n",
      "Je 2021-01-10 a ve věkové skupině  18-24 vyberu    805 lidí s 0 dávkami z  32,458 možných, které tento týden naočkuji.\n",
      "Je 2021-01-10 a ve věkové skupině  25-29 vyberu  1,697 lidí s 0 dávkami z  29,054 možných, které tento týden naočkuji.\n",
      "Je 2021-01-10 a ve věkové skupině  30-34 vyberu  1,540 lidí s 0 dávkami z  33,349 možných, které tento týden naočkuji.\n",
      "Je 2021-01-10 a ve věkové skupině  35-39 vyberu  2,260 lidí s 0 dávkami z  34,736 možných, které tento týden naočkuji.\n",
      "Je 2021-01-10 a ve věkové skupině  40-44 vyberu  3,458 lidí s 0 dávkami z  41,461 možných, které tento týden naočkuji.\n",
      "Je 2021-01-10 a ve věkové skupině  45-49 vyberu  3,972 lidí s 0 dávkami z  42,688 možných, které tento týden naočkuji.\n",
      "Je 2021-01-10 a ve věkové skupině  50-54 vyberu  3,141 lidí s 0 dávkami z  33,716 možných, které tento týden naočkuji.\n",
      "Je 2021-01-10 a ve věkové skupině  55-59 vyberu  2,912 lidí s 0 dávkami z  33,163 možných, které tento týden naočkuji.\n",
      "Je 2021-01-10 a ve věkové skupině  60-64 vyberu  1,904 lidí s 0 dávkami z  31,562 možných, které tento týden naočkuji.\n",
      "Je 2021-01-10 a ve věkové skupině  65-69 vyberu    991 lidí s 0 dávkami z  35,652 možných, které tento týden naočkuji.\n",
      "Je 2021-01-10 a ve věkové skupině  70-74 vyberu    569 lidí s 0 dávkami z  34,587 možných, které tento týden naočkuji.\n",
      "Je 2021-01-10 a ve věkové skupině  75-79 vyberu    390 lidí s 0 dávkami z  24,912 možných, které tento týden naočkuji.\n",
      "Je 2021-01-10 a ve věkové skupině 80-100 vyberu  1,269 lidí s 0 dávkami z  29,300 možných, které tento týden naočkuji.\n",
      "Je 2021-01-10 a ve věkové skupině  16-17 vyberu      2 lidí s 0 dávkami z  10,060 možných, které tento týden naočkuji.\n",
      "Je 2021-01-10 a ve věkové skupině  18-24 vyberu    271 lidí s 0 dávkami z  34,297 možných, které tento týden naočkuji.\n",
      "Je 2021-01-10 a ve věkové skupině  25-29 vyberu    908 lidí s 0 dávkami z  31,058 možných, které tento týden naočkuji.\n",
      "Je 2021-01-10 a ve věkové skupině  30-34 vyberu  1,051 lidí s 0 dávkami z  35,703 možných, které tento týden naočkuji.\n",
      "Je 2021-01-10 a ve věkové skupině  35-39 vyberu  1,066 lidí s 0 dávkami z  37,168 možných, které tento týden naočkuji.\n",
      "Je 2021-01-10 a ve věkové skupině  40-44 vyberu  1,253 lidí s 0 dávkami z  44,326 možných, které tento týden naočkuji.\n",
      "Je 2021-01-10 a ve věkové skupině  45-49 vyberu  1,358 lidí s 0 dávkami z  45,067 možných, které tento týden naočkuji.\n",
      "Je 2021-01-10 a ve věkové skupině  50-54 vyberu    984 lidí s 0 dávkami z  35,091 možných, které tento týden naočkuji.\n",
      "Je 2021-01-10 a ve věkové skupině  55-59 vyberu    921 lidí s 0 dávkami z  33,472 možných, které tento týden naočkuji.\n",
      "Je 2021-01-10 a ve věkové skupině  60-64 vyberu    921 lidí s 0 dávkami z  30,095 možných, které tento týden naočkuji.\n",
      "Je 2021-01-10 a ve věkové skupině  65-69 vyberu    808 lidí s 0 dávkami z  31,153 možných, které tento týden naočkuji.\n",
      "Je 2021-01-10 a ve věkové skupině  70-74 vyberu    539 lidí s 0 dávkami z  27,271 možných, které tento týden naočkuji.\n",
      "Je 2021-01-10 a ve věkové skupině  75-79 vyberu    308 lidí s 0 dávkami z  17,022 možných, které tento týden naočkuji.\n",
      "Je 2021-01-10 a ve věkové skupině 80-100 vyberu    423 lidí s 0 dávkami z  14,880 možných, které tento týden naočkuji.\n",
      "Zpracovavam 2. davku...\n",
      "Je 2021-01-10 a ve věkové skupině  45-49 vyberu      1 lidí s 1 dávkami z   3,972 možných, které tento týden naočkuji.\n",
      "Je 2021-01-10 a ve věkové skupině  75-79 vyberu      1 lidí s 1 dávkami z     390 možných, které tento týden naočkuji.\n",
      "Je 2021-01-10 a ve věkové skupině  30-34 vyberu      2 lidí s 1 dávkami z   1,051 možných, které tento týden naočkuji.\n",
      "Je 2021-01-10 a ve věkové skupině  50-54 vyberu      1 lidí s 1 dávkami z     984 možných, které tento týden naočkuji.\n"
     ]
    },
    {
     "name": "stderr",
     "output_type": "stream",
     "text": [
      "1it [00:01,  1.94s/it]"
     ]
    },
    {
     "name": "stdout",
     "output_type": "stream",
     "text": [
      "Je 2021-01-10 a ve věkové skupině  55-59 vyberu      1 lidí s 1 dávkami z     921 možných, které tento týden naočkuji.\n",
      "Je 2021-01-10 a ve věkové skupině  60-64 vyberu      1 lidí s 1 dávkami z     921 možných, které tento týden naočkuji.\n",
      "Zpracovavam 1. davku...\n",
      "Je 2021-01-17 a ve věkové skupině  16-17 vyberu     30 lidí s 0 dávkami z   9,487 možných, které tento týden naočkuji.\n",
      "Je 2021-01-17 a ve věkové skupině  18-24 vyberu  1,518 lidí s 0 dávkami z  31,653 možných, které tento týden naočkuji.\n",
      "Je 2021-01-17 a ve věkové skupině  25-29 vyberu  2,238 lidí s 0 dávkami z  27,357 možných, které tento týden naočkuji.\n",
      "Je 2021-01-17 a ve věkové skupině  30-34 vyberu  2,306 lidí s 0 dávkami z  31,809 možných, které tento týden naočkuji.\n",
      "Je 2021-01-17 a ve věkové skupině  35-39 vyberu  3,667 lidí s 0 dávkami z  32,476 možných, které tento týden naočkuji.\n",
      "Je 2021-01-17 a ve věkové skupině  40-44 vyberu  5,484 lidí s 0 dávkami z  38,003 možných, které tento týden naočkuji.\n",
      "Je 2021-01-17 a ve věkové skupině  45-49 vyberu  6,493 lidí s 0 dávkami z  38,716 možných, které tento týden naočkuji.\n",
      "Je 2021-01-17 a ve věkové skupině  50-54 vyberu  5,263 lidí s 0 dávkami z  30,575 možných, které tento týden naočkuji.\n",
      "Je 2021-01-17 a ve věkové skupině  55-59 vyberu  5,009 lidí s 0 dávkami z  30,251 možných, které tento týden naočkuji.\n",
      "Je 2021-01-17 a ve věkové skupině  60-64 vyberu  3,557 lidí s 0 dávkami z  29,658 možných, které tento týden naočkuji.\n",
      "Je 2021-01-17 a ve věkové skupině  65-69 vyberu  2,277 lidí s 0 dávkami z  34,661 možných, které tento týden naočkuji.\n",
      "Je 2021-01-17 a ve věkové skupině  70-74 vyberu  1,716 lidí s 0 dávkami z  34,018 možných, které tento týden naočkuji.\n",
      "Je 2021-01-17 a ve věkové skupině  75-79 vyberu  1,772 lidí s 0 dávkami z  24,522 možných, které tento týden naočkuji.\n",
      "Je 2021-01-17 a ve věkové skupině 80-100 vyberu  8,624 lidí s 0 dávkami z  28,031 možných, které tento týden naočkuji.\n",
      "Je 2021-01-17 a ve věkové skupině  16-17 vyberu     13 lidí s 0 dávkami z  10,058 možných, které tento týden naočkuji.\n",
      "Je 2021-01-17 a ve věkové skupině  18-24 vyberu    646 lidí s 0 dávkami z  34,026 možných, které tento týden naočkuji.\n",
      "Je 2021-01-17 a ve věkové skupině  25-29 vyberu  1,221 lidí s 0 dávkami z  30,150 možných, které tento týden naočkuji.\n",
      "Je 2021-01-17 a ve věkové skupině  30-34 vyberu  1,592 lidí s 0 dávkami z  34,652 možných, které tento týden naočkuji.\n",
      "Je 2021-01-17 a ve věkové skupině  35-39 vyberu  1,774 lidí s 0 dávkami z  36,102 možných, které tento týden naočkuji.\n",
      "Je 2021-01-17 a ve věkové skupině  40-44 vyberu  2,253 lidí s 0 dávkami z  43,073 možných, které tento týden naočkuji.\n",
      "Je 2021-01-17 a ve věkové skupině  45-49 vyberu  2,238 lidí s 0 dávkami z  43,709 možných, které tento týden naočkuji.\n",
      "Je 2021-01-17 a ve věkové skupině  50-54 vyberu  1,789 lidí s 0 dávkami z  34,107 možných, které tento týden naočkuji.\n",
      "Je 2021-01-17 a ve věkové skupině  55-59 vyberu  1,801 lidí s 0 dávkami z  32,551 možných, které tento týden naočkuji.\n",
      "Je 2021-01-17 a ve věkové skupině  60-64 vyberu  1,703 lidí s 0 dávkami z  29,174 možných, které tento týden naočkuji.\n",
      "Je 2021-01-17 a ve věkové skupině  65-69 vyberu  1,593 lidí s 0 dávkami z  30,345 možných, které tento týden naočkuji.\n",
      "Je 2021-01-17 a ve věkové skupině  70-74 vyberu  1,332 lidí s 0 dávkami z  26,732 možných, které tento týden naočkuji.\n",
      "Je 2021-01-17 a ve věkové skupině  75-79 vyberu    974 lidí s 0 dávkami z  16,714 možných, které tento týden naočkuji.\n",
      "Je 2021-01-17 a ve věkové skupině 80-100 vyberu  3,158 lidí s 0 dávkami z  14,457 možných, které tento týden naočkuji.\n",
      "Zpracovavam 2. davku...\n",
      "Je 2021-01-17 a ve věkové skupině  18-24 vyberu     12 lidí s 1 dávkami z   2,323 možných, které tento týden naočkuji.\n",
      "Je 2021-01-17 a ve věkové skupině  25-29 vyberu     43 lidí s 1 dávkami z   3,935 možných, které tento týden naočkuji.\n",
      "Je 2021-01-17 a ve věkové skupině  30-34 vyberu     40 lidí s 1 dávkami z   3,846 možných, které tento týden naočkuji.\n",
      "Je 2021-01-17 a ve věkové skupině  35-39 vyberu     29 lidí s 1 dávkami z   5,927 možných, které tento týden naočkuji.\n",
      "Je 2021-01-17 a ve věkové skupině  40-44 vyberu     66 lidí s 1 dávkami z   8,942 možných, které tento týden naočkuji.\n",
      "Je 2021-01-17 a ve věkové skupině  45-49 vyberu     74 lidí s 1 dávkami z  10,464 možných, které tento týden naočkuji.\n",
      "Je 2021-01-17 a ve věkové skupině  50-54 vyberu     53 lidí s 1 dávkami z   8,404 možných, které tento týden naočkuji.\n",
      "Je 2021-01-17 a ve věkové skupině  55-59 vyberu     37 lidí s 1 dávkami z   7,921 možných, které tento týden naočkuji.\n",
      "Je 2021-01-17 a ve věkové skupině  60-64 vyberu     39 lidí s 1 dávkami z   5,461 možných, které tento týden naočkuji.\n",
      "Je 2021-01-17 a ve věkové skupině  65-69 vyberu     14 lidí s 1 dávkami z   3,268 možných, které tento týden naočkuji.\n",
      "Je 2021-01-17 a ve věkové skupině  70-74 vyberu      5 lidí s 1 dávkami z   2,285 možných, které tento týden naočkuji.\n",
      "Je 2021-01-17 a ve věkové skupině  75-79 vyberu      2 lidí s 1 dávkami z   2,161 možných, které tento týden naočkuji.\n",
      "Je 2021-01-17 a ve věkové skupině 80-100 vyberu      3 lidí s 1 dávkami z   9,893 možných, které tento týden naočkuji.\n",
      "Je 2021-01-17 a ve věkové skupině  18-24 vyberu     13 lidí s 1 dávkami z     917 možných, které tento týden naočkuji.\n",
      "Je 2021-01-17 a ve věkové skupině  25-29 vyberu     26 lidí s 1 dávkami z   2,129 možných, které tento týden naočkuji.\n",
      "Je 2021-01-17 a ve věkové skupině  30-34 vyberu     32 lidí s 1 dávkami z   2,641 možných, které tento týden naočkuji.\n",
      "Je 2021-01-17 a ve věkové skupině  35-39 vyberu     23 lidí s 1 dávkami z   2,840 možných, které tento týden naočkuji.\n",
      "Je 2021-01-17 a ve věkové skupině  40-44 vyberu     24 lidí s 1 dávkami z   3,506 možných, které tento týden naočkuji.\n",
      "Je 2021-01-17 a ve věkové skupině  45-49 vyberu     25 lidí s 1 dávkami z   3,596 možných, které tento týden naočkuji.\n",
      "Je 2021-01-17 a ve věkové skupině  50-54 vyberu     23 lidí s 1 dávkami z   2,772 možných, které tento týden naočkuji.\n",
      "Je 2021-01-17 a ve věkové skupině  55-59 vyberu     15 lidí s 1 dávkami z   2,721 možných, které tento týden naočkuji.\n",
      "Je 2021-01-17 a ve věkové skupině  60-64 vyberu     17 lidí s 1 dávkami z   2,623 možných, které tento týden naočkuji.\n",
      "Je 2021-01-17 a ve věkové skupině  65-69 vyberu     13 lidí s 1 dávkami z   2,401 možných, které tento týden naočkuji.\n",
      "Je 2021-01-17 a ve věkové skupině  70-74 vyberu     10 lidí s 1 dávkami z   1,871 možných, které tento týden naočkuji.\n",
      "Je 2021-01-17 a ve věkové skupině  75-79 vyberu      3 lidí s 1 dávkami z   1,282 možných, které tento týden naočkuji.\n"
     ]
    },
    {
     "name": "stderr",
     "output_type": "stream",
     "text": [
      "2it [00:04,  2.54s/it]"
     ]
    },
    {
     "name": "stdout",
     "output_type": "stream",
     "text": [
      "Je 2021-01-17 a ve věkové skupině 80-100 vyberu      1 lidí s 1 dávkami z   3,581 možných, které tento týden naočkuji.\n",
      "Zpracovavam 1. davku...\n",
      "Je 2021-01-24 a ve věkové skupině  16-17 vyberu     12 lidí s 0 dávkami z   9,457 možných, které tento týden naočkuji.\n",
      "Je 2021-01-24 a ve věkové skupině  18-24 vyberu    805 lidí s 0 dávkami z  30,135 možných, které tento týden naočkuji.\n",
      "Je 2021-01-24 a ve věkové skupině  25-29 vyberu  1,132 lidí s 0 dávkami z  25,119 možných, které tento týden naočkuji.\n",
      "Je 2021-01-24 a ve věkové skupině  30-34 vyberu  1,340 lidí s 0 dávkami z  29,503 možných, které tento týden naočkuji.\n",
      "Je 2021-01-24 a ve věkové skupině  35-39 vyberu  2,096 lidí s 0 dávkami z  28,809 možných, které tento týden naočkuji.\n",
      "Je 2021-01-24 a ve věkové skupině  40-44 vyberu  3,390 lidí s 0 dávkami z  32,519 možných, které tento týden naočkuji.\n",
      "Je 2021-01-24 a ve věkové skupině  45-49 vyberu  4,155 lidí s 0 dávkami z  32,223 možných, které tento týden naočkuji.\n",
      "Je 2021-01-24 a ve věkové skupině  50-54 vyberu  3,626 lidí s 0 dávkami z  25,312 možných, které tento týden naočkuji.\n",
      "Je 2021-01-24 a ve věkové skupině  55-59 vyberu  3,548 lidí s 0 dávkami z  25,242 možných, které tento týden naočkuji.\n",
      "Je 2021-01-24 a ve věkové skupině  60-64 vyberu  2,487 lidí s 0 dávkami z  26,101 možných, které tento týden naočkuji.\n",
      "Je 2021-01-24 a ve věkové skupině  65-69 vyberu  1,732 lidí s 0 dávkami z  32,384 možných, které tento týden naočkuji.\n",
      "Je 2021-01-24 a ve věkové skupině  70-74 vyberu  1,452 lidí s 0 dávkami z  32,302 možných, které tento týden naočkuji.\n",
      "Je 2021-01-24 a ve věkové skupině  75-79 vyberu  1,663 lidí s 0 dávkami z  22,750 možných, které tento týden naočkuji.\n",
      "Neco je divne, mam ockovat vice lidi nez je v dane skupine.\n",
      "**** Je tyden 2021-01-24 a ja ve vekove skupine 80-100 vyberu 24,484 ockovanych z  19,407 moznych\n",
      "Je 2021-01-24 a ve věkové skupině  12-15 vyberu      2 lidí s 0 dávkami z  23,030 možných, které tento týden naočkuji.\n",
      "Je 2021-01-24 a ve věkové skupině  16-17 vyberu      4 lidí s 0 dávkami z  10,045 možných, které tento týden naočkuji.\n",
      "Je 2021-01-24 a ve věkové skupině  18-24 vyberu    264 lidí s 0 dávkami z  33,380 možných, které tento týden naočkuji.\n",
      "Je 2021-01-24 a ve věkové skupině  25-29 vyberu    437 lidí s 0 dávkami z  28,929 možných, které tento týden naočkuji.\n",
      "Je 2021-01-24 a ve věkové skupině  30-34 vyberu    550 lidí s 0 dávkami z  33,060 možných, které tento týden naočkuji.\n",
      "Je 2021-01-24 a ve věkové skupině  35-39 vyberu    647 lidí s 0 dávkami z  34,328 možných, které tento týden naočkuji.\n",
      "Je 2021-01-24 a ve věkové skupině  40-44 vyberu    868 lidí s 0 dávkami z  40,820 možných, které tento týden naočkuji.\n",
      "Je 2021-01-24 a ve věkové skupině  45-49 vyberu    914 lidí s 0 dávkami z  41,471 možných, které tento týden naočkuji.\n",
      "Je 2021-01-24 a ve věkové skupině  50-54 vyberu    810 lidí s 0 dávkami z  32,318 možných, které tento týden naočkuji.\n",
      "Je 2021-01-24 a ve věkové skupině  55-59 vyberu    914 lidí s 0 dávkami z  30,750 možných, které tento týden naočkuji.\n",
      "Je 2021-01-24 a ve věkové skupině  60-64 vyberu    982 lidí s 0 dávkami z  27,471 možných, které tento týden naočkuji.\n",
      "Je 2021-01-24 a ve věkové skupině  65-69 vyberu  1,104 lidí s 0 dávkami z  28,752 možných, které tento týden naočkuji.\n",
      "Je 2021-01-24 a ve věkové skupině  70-74 vyberu  1,022 lidí s 0 dávkami z  25,400 možných, které tento týden naočkuji.\n",
      "Je 2021-01-24 a ve věkové skupině  75-79 vyberu    813 lidí s 0 dávkami z  15,740 možných, které tento týden naočkuji.\n",
      "Neco je divne, mam ockovat vice lidi nez je v dane skupine.\n",
      "**** Je tyden 2021-01-24 a ja ve vekove skupine 80-100 vyberu 13,583 ockovanych z  11,299 moznych\n",
      "Zpracovavam 2. davku...\n",
      "Je 2021-01-24 a ve věkové skupině  16-17 vyberu      1 lidí s 1 dávkami z      51 možných, které tento týden naočkuji.\n",
      "Je 2021-01-24 a ve věkové skupině  18-24 vyberu    243 lidí s 1 dávkami z   3,116 možných, které tento týden naočkuji.\n",
      "Je 2021-01-24 a ve věkové skupině  25-29 vyberu    620 lidí s 1 dávkami z   5,024 možných, které tento týden naočkuji.\n",
      "Je 2021-01-24 a ve věkové skupině  30-34 vyberu    501 lidí s 1 dávkami z   5,146 možných, které tento týden naočkuji.\n",
      "Je 2021-01-24 a ve věkové skupině  35-39 vyberu    685 lidí s 1 dávkami z   7,994 možných, které tento týden naočkuji.\n",
      "Je 2021-01-24 a ve věkové skupině  40-44 vyberu  1,178 lidí s 1 dávkami z  12,266 možných, které tento týden naočkuji.\n",
      "Je 2021-01-24 a ve věkové skupině  45-49 vyberu  1,216 lidí s 1 dávkami z  14,545 možných, které tento týden naočkuji.\n",
      "Je 2021-01-24 a ve věkové skupině  50-54 vyberu    955 lidí s 1 dávkami z  11,977 možných, které tento týden naočkuji.\n",
      "Je 2021-01-24 a ve věkové skupině  55-59 vyberu    924 lidí s 1 dávkami z  11,432 možných, které tento týden naočkuji.\n",
      "Je 2021-01-24 a ve věkové skupině  60-64 vyberu    626 lidí s 1 dávkami z   7,909 možných, které tento týden naočkuji.\n",
      "Je 2021-01-24 a ve věkové skupině  65-69 vyberu    340 lidí s 1 dávkami z   4,986 možných, které tento týden naočkuji.\n",
      "Je 2021-01-24 a ve věkové skupině  70-74 vyberu    180 lidí s 1 dávkami z   3,732 možných, které tento týden naočkuji.\n",
      "Je 2021-01-24 a ve věkové skupině  75-79 vyberu    133 lidí s 1 dávkami z   3,822 možných, které tento týden naočkuji.\n",
      "Je 2021-01-24 a ve věkové skupině 80-100 vyberu    461 lidí s 1 dávkami z   9,890 možných, které tento týden naočkuji.\n",
      "Je 2021-01-24 a ve věkové skupině  16-17 vyberu      1 lidí s 1 dávkami z      19 možných, které tento týden naočkuji.\n",
      "Je 2021-01-24 a ve věkové skupině  18-24 vyberu    120 lidí s 1 dávkami z   1,168 možných, které tento týden naočkuji.\n",
      "Je 2021-01-24 a ve věkové skupině  25-29 vyberu    365 lidí s 1 dávkami z   2,540 možných, které tento týden naočkuji.\n",
      "Je 2021-01-24 a ve věkové skupině  30-34 vyberu    427 lidí s 1 dávkami z   3,159 možných, které tento týden naočkuji.\n",
      "Je 2021-01-24 a ve věkové skupině  35-39 vyberu    393 lidí s 1 dávkami z   3,464 možných, které tento týden naočkuji.\n",
      "Je 2021-01-24 a ve věkové skupině  40-44 vyberu    421 lidí s 1 dávkami z   4,350 možných, které tento týden naočkuji.\n",
      "Je 2021-01-24 a ve věkové skupině  45-49 vyberu    367 lidí s 1 dávkami z   4,485 možných, které tento týden naočkuji.\n",
      "Je 2021-01-24 a ve věkové skupině  50-54 vyberu    310 lidí s 1 dávkami z   3,559 možných, které tento týden naočkuji.\n",
      "Je 2021-01-24 a ve věkové skupině  55-59 vyberu    260 lidí s 1 dávkami z   3,620 možných, které tento týden naočkuji.\n",
      "Je 2021-01-24 a ve věkové skupině  60-64 vyberu    285 lidí s 1 dávkami z   3,588 možných, které tento týden naočkuji.\n"
     ]
    },
    {
     "name": "stderr",
     "output_type": "stream",
     "text": [
      "3it [00:07,  2.79s/it]"
     ]
    },
    {
     "name": "stdout",
     "output_type": "stream",
     "text": [
      "Je 2021-01-24 a ve věkové skupině  65-69 vyberu    281 lidí s 1 dávkami z   3,492 možných, které tento týden naočkuji.\n",
      "Je 2021-01-24 a ve věkové skupině  70-74 vyberu    175 lidí s 1 dávkami z   2,883 možných, které tento týden naočkuji.\n",
      "Je 2021-01-24 a ve věkové skupině  75-79 vyberu     80 lidí s 1 dávkami z   2,092 možných, které tento týden naočkuji.\n",
      "Je 2021-01-24 a ve věkové skupině 80-100 vyberu    175 lidí s 1 dávkami z   3,580 možných, které tento týden naočkuji.\n",
      "Zpracovavam 1. davku...\n",
      "Je 2021-01-31 a ve věkové skupině  16-17 vyberu     14 lidí s 0 dávkami z   9,445 možných, které tento týden naočkuji.\n",
      "Je 2021-01-31 a ve věkové skupině  18-24 vyberu    496 lidí s 0 dávkami z  29,330 možných, které tento týden naočkuji.\n",
      "Je 2021-01-31 a ve věkové skupině  25-29 vyberu    570 lidí s 0 dávkami z  23,987 možných, které tento týden naočkuji.\n",
      "Je 2021-01-31 a ve věkové skupině  30-34 vyberu    604 lidí s 0 dávkami z  28,163 možných, které tento týden naočkuji.\n",
      "Je 2021-01-31 a ve věkové skupině  35-39 vyberu    945 lidí s 0 dávkami z  26,713 možných, které tento týden naočkuji.\n",
      "Je 2021-01-31 a ve věkové skupině  40-44 vyberu  1,483 lidí s 0 dávkami z  29,129 možných, které tento týden naočkuji.\n",
      "Je 2021-01-31 a ve věkové skupině  45-49 vyberu  1,825 lidí s 0 dávkami z  28,068 možných, které tento týden naočkuji.\n",
      "Je 2021-01-31 a ve věkové skupině  50-54 vyberu  1,578 lidí s 0 dávkami z  21,686 možných, které tento týden naočkuji.\n",
      "Je 2021-01-31 a ve věkové skupině  55-59 vyberu  1,555 lidí s 0 dávkami z  21,694 možných, které tento týden naočkuji.\n",
      "Je 2021-01-31 a ve věkové skupině  60-64 vyberu  1,112 lidí s 0 dávkami z  23,614 možných, které tento týden naočkuji.\n",
      "Je 2021-01-31 a ve věkové skupině  65-69 vyberu    812 lidí s 0 dávkami z  30,652 možných, které tento týden naočkuji.\n",
      "Je 2021-01-31 a ve věkové skupině  70-74 vyberu    630 lidí s 0 dávkami z  30,850 možných, které tento týden naočkuji.\n",
      "Je 2021-01-31 a ve věkové skupině  75-79 vyberu    765 lidí s 0 dávkami z  21,087 možných, které tento týden naočkuji.\n",
      "Je 2021-01-31 a ve věkové skupině 80-100 vyberu 17,499 lidí s 0 dávkami z  19,407 možných, které tento týden naočkuji.\n",
      "Je 2021-01-31 a ve věkové skupině  16-17 vyberu     16 lidí s 0 dávkami z  10,041 možných, které tento týden naočkuji.\n",
      "Je 2021-01-31 a ve věkové skupině  18-24 vyberu    208 lidí s 0 dávkami z  33,116 možných, které tento týden naočkuji.\n",
      "Je 2021-01-31 a ve věkové skupině  25-29 vyberu    225 lidí s 0 dávkami z  28,492 možných, které tento týden naočkuji.\n",
      "Je 2021-01-31 a ve věkové skupině  30-34 vyberu    258 lidí s 0 dávkami z  32,510 možných, které tento týden naočkuji.\n",
      "Je 2021-01-31 a ve věkové skupině  35-39 vyberu    314 lidí s 0 dávkami z  33,681 možných, které tento týden naočkuji.\n",
      "Je 2021-01-31 a ve věkové skupině  40-44 vyberu    335 lidí s 0 dávkami z  39,952 možných, které tento týden naočkuji.\n",
      "Je 2021-01-31 a ve věkové skupině  45-49 vyberu    372 lidí s 0 dávkami z  40,557 možných, které tento týden naočkuji.\n",
      "Je 2021-01-31 a ve věkové skupině  50-54 vyberu    339 lidí s 0 dávkami z  31,508 možných, které tento týden naočkuji.\n",
      "Je 2021-01-31 a ve věkové skupině  55-59 vyberu    415 lidí s 0 dávkami z  29,836 možných, které tento týden naočkuji.\n",
      "Je 2021-01-31 a ve věkové skupině  60-64 vyberu    449 lidí s 0 dávkami z  26,489 možných, které tento týden naočkuji.\n",
      "Je 2021-01-31 a ve věkové skupině  65-69 vyberu    525 lidí s 0 dávkami z  27,648 možných, které tento týden naočkuji.\n",
      "Je 2021-01-31 a ve věkové skupině  70-74 vyberu    403 lidí s 0 dávkami z  24,378 možných, které tento týden naočkuji.\n",
      "Je 2021-01-31 a ve věkové skupině  75-79 vyberu    361 lidí s 0 dávkami z  14,927 možných, které tento týden naočkuji.\n",
      "Je 2021-01-31 a ve věkové skupině 80-100 vyberu  9,851 lidí s 0 dávkami z  11,299 možných, které tento týden naočkuji.\n",
      "Zpracovavam 2. davku...\n",
      "Je 2021-01-31 a ve věkové skupině  16-17 vyberu      7 lidí s 1 dávkami z      64 možných, které tento týden naočkuji.\n",
      "Je 2021-01-31 a ve věkové skupině  18-24 vyberu    587 lidí s 1 dávkami z   3,369 možných, které tento týden naočkuji.\n",
      "Je 2021-01-31 a ve věkové skupině  25-29 vyberu  1,336 lidí s 1 dávkami z   4,974 možných, které tento týden naočkuji.\n",
      "Je 2021-01-31 a ve věkové skupině  30-34 vyberu  1,245 lidí s 1 dávkami z   5,249 možných, které tento týden naočkuji.\n",
      "Je 2021-01-31 a ve věkové skupině  35-39 vyberu  1,776 lidí s 1 dávkami z   8,254 možných, které tento týden naočkuji.\n",
      "Je 2021-01-31 a ve věkové skupině  40-44 vyberu  2,792 lidí s 1 dávkami z  12,571 možných, které tento týden naočkuji.\n",
      "Je 2021-01-31 a ve věkové skupině  45-49 vyberu  3,209 lidí s 1 dávkami z  15,154 možných, které tento týden naočkuji.\n",
      "Je 2021-01-31 a ve věkové skupině  50-54 vyberu  2,541 lidí s 1 dávkami z  12,600 možných, které tento týden naočkuji.\n",
      "Je 2021-01-31 a ve věkové skupině  55-59 vyberu  2,333 lidí s 1 dávkami z  12,063 možných, které tento týden naočkuji.\n",
      "Je 2021-01-31 a ve věkové skupině  60-64 vyberu  1,487 lidí s 1 dávkami z   8,395 možných, které tento týden naočkuji.\n",
      "Je 2021-01-31 a ve věkové skupině  65-69 vyberu    750 lidí s 1 dávkami z   5,458 možných, které tento týden naočkuji.\n",
      "Je 2021-01-31 a ve věkové skupině  70-74 vyberu    386 lidí s 1 dávkami z   4,182 možných, které tento týden naočkuji.\n",
      "Je 2021-01-31 a ve věkové skupině  75-79 vyberu    234 lidí s 1 dávkami z   4,454 možných, které tento týden naočkuji.\n",
      "Je 2021-01-31 a ve věkové skupině 80-100 vyberu    706 lidí s 1 dávkami z  26,928 možných, které tento týden naočkuji.\n",
      "Je 2021-01-31 a ve věkové skupině  16-17 vyberu      1 lidí s 1 dávkami z      34 možných, které tento týden naočkuji.\n",
      "Je 2021-01-31 a ve věkové skupině  18-24 vyberu    195 lidí s 1 dávkami z   1,256 možných, které tento týden naočkuji.\n",
      "Je 2021-01-31 a ve věkové skupině  25-29 vyberu    738 lidí s 1 dávkami z   2,400 možných, které tento týden naočkuji.\n",
      "Je 2021-01-31 a ve věkové skupině  30-34 vyberu    853 lidí s 1 dávkami z   2,990 možných, které tento týden naočkuji.\n",
      "Je 2021-01-31 a ve věkové skupině  35-39 vyberu    867 lidí s 1 dávkami z   3,385 možných, které tento týden naočkuji.\n",
      "Je 2021-01-31 a ve věkové skupině  40-44 vyberu  1,003 lidí s 1 dávkami z   4,264 možných, které tento týden naočkuji.\n",
      "Je 2021-01-31 a ve věkové skupině  45-49 vyberu  1,091 lidí s 1 dávkami z   4,490 možných, které tento týden naočkuji.\n",
      "Je 2021-01-31 a ve věkové skupině  50-54 vyberu    794 lidí s 1 dávkami z   3,588 možných, které tento týden naočkuji.\n",
      "Je 2021-01-31 a ve věkové skupině  55-59 vyberu    710 lidí s 1 dávkami z   3,775 možných, které tento týden naočkuji.\n"
     ]
    },
    {
     "name": "stderr",
     "output_type": "stream",
     "text": [
      "3it [00:11,  3.68s/it]"
     ]
    },
    {
     "name": "stdout",
     "output_type": "stream",
     "text": [
      "Je 2021-01-31 a ve věkové skupině  60-64 vyberu    732 lidí s 1 dávkami z   3,752 možných, které tento týden naočkuji.\n",
      "Je 2021-01-31 a ve věkové skupině  65-69 vyberu    588 lidí s 1 dávkami z   3,736 možných, které tento týden naočkuji.\n",
      "Je 2021-01-31 a ve věkové skupině  70-74 vyberu    375 lidí s 1 dávkami z   3,111 možných, které tento týden naočkuji.\n",
      "Je 2021-01-31 a ve věkové skupině  75-79 vyberu    180 lidí s 1 dávkami z   2,373 možných, které tento týden naočkuji.\n",
      "Je 2021-01-31 a ve věkové skupině 80-100 vyberu    227 lidí s 1 dávkami z  13,256 možných, které tento týden naočkuji.\n"
     ]
    },
    {
     "name": "stderr",
     "output_type": "stream",
     "text": [
      "\n"
     ]
    }
   ],
   "source": [
    "for k, week in tqdm(enumerate(weeks)):\n",
    "\n",
    "    # -------- Mark newly vaccinated --------\n",
    "    # Dva radky nize jsou super sofistikovany (a elegantni) pandas trik\n",
    "    #  .groupby('poradi_davky') rozdeli tyden na casti podle sloupce `poradi_davky`\n",
    "    #  nasledne iteruji pres vsechny 1. vakciny vyockovane v danem tydnu, vsechny 2., ...\n",
    "    grouped_vaccination_week = df_vaccination.loc[week].groupby('poradi_davky')\n",
    "    for davka, vacc_week in grouped_vaccination_week:\n",
    "        print(f'Zpracovavam {davka}. davku...')\n",
    "        # print(vacc_week)\n",
    "        # print('*'*5)\n",
    "\n",
    "        for gender, row in vacc_week.iterrows():\n",
    "            if row['pocet_davek'] == 0:\n",
    "                continue\n",
    "            age = tuple(int(a) for a in row['vekova_skupina'].split(\"-\"))\n",
    "            \n",
    "            # Vyberu lidi s danym pohlavim, v danem vekovem intervalu\n",
    "            #  a se spravnym poctem davek (tj. ockovana davka - 1).\n",
    "            cohort = persons[\n",
    "                (persons[\"pohlavi\"] == gender) &\n",
    "                (persons[\"vek\"] >= age[0]) &\n",
    "                (persons[\"vek\"] <= age[1]) &\n",
    "                (persons[\"davek_v_tele\"] == davka-1)\n",
    "            ]\n",
    "\n",
    "            if row['pocet_davek'] > len(cohort):\n",
    "                print('Neco je divne, mam ockovat vice lidi nez je v dane skupine.')\n",
    "                print(f\"**** Je tyden {week:%Y-%m-%d} a ja ve vekove skupine {row['vekova_skupina']:>6} vyberu\"\n",
    "                      f\"{row['pocet_davek']:>7,d} ockovanych z {len(cohort):>7,d} moznych\")\n",
    "                continue\n",
    "\n",
    "            # Nahodne vyberu kdo bude v dane skupine vakcinovany.\n",
    "            sampled_indices = cohort.sample(n=row['pocet_davek'], replace=False).index\n",
    "            persons.loc[sampled_indices, \"davek_v_tele\"] += 1\n",
    "\n",
    "            # Vypisu co se deje. Model ma dost pohyblivych casti.\n",
    "            print(f\"Je {week:%Y-%m-%d} a ve věkové skupině {row['vekova_skupina']:>6} vyberu\"\n",
    "                  f\"{row['pocet_davek']:>7,d} lidí s {davka-1} dávkami z {len(cohort):>7,d} možných, \"\n",
    "                  f\"které tento týden naočkuji.\")\n",
    "    \n",
    "    # TODO: Odstranit, jen pro debug.\n",
    "    if k >= 3:\n",
    "        break\n",
    "\n",
    "#     # -------- Remove dead people --------\n",
    "#     for n, row in dfd[dfd[\"datum\"] == week].iterrows():\n",
    "#         if row.hodnota > 0:\n",
    "#             fi = persons[\n",
    "#                 (persons[\"pohlavi\"] == row.pohlavi) &\n",
    "#                 (persons[\"vek\"] == row.vek)\n",
    "#             ].sample(n=row.hodnota).index\n",
    "#             persons = persons[~persons.index.isin(fi)]\n",
    "\n",
    "#     counts.append(len(persons))\n",
    "#     counts_marked.append(sum(persons[\"mark\"] == True))\n",
    "\n",
    "#     break"
   ]
  }
 ],
 "metadata": {
  "kernelspec": {
   "display_name": "Python 3 (ipykernel)",
   "language": "python",
   "name": "python3"
  },
  "language_info": {
   "codemirror_mode": {
    "name": "ipython",
    "version": 3
   },
   "file_extension": ".py",
   "mimetype": "text/x-python",
   "name": "python",
   "nbconvert_exporter": "python",
   "pygments_lexer": "ipython3",
   "version": "3.9.10"
  }
 },
 "nbformat": 4,
 "nbformat_minor": 4
}
