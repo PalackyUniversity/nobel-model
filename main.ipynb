{
 "cells": [
  {
   "cell_type": "code",
   "execution_count": 10,
   "metadata": {
    "collapsed": true
   },
   "outputs": [],
   "source": [
    "from matplotlib import pyplot as plt\n",
    "from tqdm import tqdm\n",
    "import pandas as pd"
   ]
  },
  {
   "cell_type": "code",
   "execution_count": 30,
   "outputs": [],
   "source": [
    "SCALE = 10"
   ],
   "metadata": {
    "collapsed": false,
    "pycharm": {
     "name": "#%%\n"
    }
   }
  },
  {
   "cell_type": "markdown",
   "source": [
    "## Load \"Sčítání lidí\""
   ],
   "metadata": {
    "collapsed": false,
    "pycharm": {
     "name": "#%% md\n"
    }
   }
  },
  {
   "cell_type": "code",
   "execution_count": 61,
   "outputs": [
    {
     "name": "stderr",
     "output_type": "stream",
     "text": [
      "101it [00:00, 740.27it/s]\n"
     ]
    }
   ],
   "source": [
    "dfs = pd.read_excel(\"sldb2021_pv_vek_pohlavi.xlsx\").set_index(\"věk\")\n",
    "\n",
    "ages = []\n",
    "genders = []\n",
    "\n",
    "for n, row in tqdm(dfs.iterrows()):\n",
    "    for m in range(row[\"muži\"] // SCALE):\n",
    "        genders.append(\"M\")\n",
    "        ages.append(n // 5 * 5)\n",
    "\n",
    "    for f in range(row[\"ženy\"] // SCALE):\n",
    "        genders.append(\"F\")\n",
    "        ages.append(n // 5 * 5)\n",
    "\n",
    "persons = pd.DataFrame({\"vek\": ages, \"pohlavi\": genders, \"mark\": False})"
   ],
   "metadata": {
    "collapsed": false,
    "pycharm": {
     "name": "#%%\n"
    }
   }
  },
  {
   "cell_type": "markdown",
   "source": [
    "## Load deaths"
   ],
   "metadata": {
    "collapsed": false,
    "pycharm": {
     "name": "#%% md\n"
    }
   }
  },
  {
   "cell_type": "code",
   "execution_count": 117,
   "outputs": [],
   "source": [
    "dfd = pd.read_csv(\"data/DEMOMIGR_2005_2021_komplet.csv\")\n",
    "# We do not want break out by region\n",
    "dfd = dfd[dfd[\"uzemi\"] == \"CZ\"].drop(columns=[\"uzemi\", \"uzemi_text\", \"status\", \"status_text\", \"pohlavi_text\", \"vek_text\"])\n",
    "\n",
    "# We do not want other years\n",
    "dfd = dfd[dfd[\"tyden\"].str.split(\"-\").str[0] == \"2021\"]\n",
    "\n",
    "# We do not want summaries \"Celkem\"\n",
    "dfd = dfd[dfd[\"pohlavi\"] != \"T\"]\n",
    "\n",
    "# Converting and \"normalizing\"\n",
    "dfd[\"tyden\"] = pd.to_datetime(dfd[\"tyden\"] + '0', format=\"%Y-W%W%w\")\n",
    "dfd[\"vek\"] = dfd[\"vek\"].str.split(\"T\").str[0].str.lstrip(\"Y\").replace(\"_GE90\", 90).astype(int)\n",
    "\n",
    "dfd = dfd.rename(columns={\"tyden\": \"datum\"})"
   ],
   "metadata": {
    "collapsed": false,
    "pycharm": {
     "name": "#%%\n"
    }
   }
  },
  {
   "cell_type": "markdown",
   "source": [
    "## Load vaccinations"
   ],
   "metadata": {
    "collapsed": false,
    "pycharm": {
     "name": "#%% md\n"
    }
   }
  },
  {
   "cell_type": "code",
   "execution_count": 148,
   "outputs": [],
   "source": [
    "dfo = pd.read_csv(\"data/ockovani-demografie.csv\").drop(columns=[\"id\", \"vakcina\", \"vakcina_kod\"])\n",
    "\n",
    "# Runtime optimization\n",
    "dfo = dfo.groupby([\"datum\", \"vekova_skupina\", \"pohlavi\"]).sum().reset_index()\n",
    "\n",
    "# Converting and \"normalizing\"\n",
    "dfo[\"datum\"] = pd.to_datetime(dfo[\"datum\"], format=\"%Y-%m-%d\")\n",
    "dfo[\"pohlavi\"] = dfo[\"pohlavi\"].replace(\"Z\", \"F\")\n",
    "dfo[\"vekova_skupina\"] = dfo[\"vekova_skupina\"].replace(\"80+\", \"80-120\")\n",
    "dfo = dfo.rename(columns={\"pocet_davek\": \"hodnota\"})\n",
    "\n",
    "# Runtime optimization\n",
    "dfo = dfo.groupby([pd.Grouper(key='datum', freq='W-SUN'), \"pohlavi\", \"vekova_skupina\"]).sum().reset_index()"
   ],
   "metadata": {
    "collapsed": false,
    "pycharm": {
     "name": "#%%\n"
    }
   }
  },
  {
   "cell_type": "markdown",
   "source": [
    "## Quick look"
   ],
   "metadata": {
    "collapsed": false,
    "pycharm": {
     "name": "#%% md\n"
    }
   }
  },
  {
   "cell_type": "code",
   "execution_count": 43,
   "outputs": [
    {
     "data": {
      "text/plain": "         vek pohlavi   mark\n0          0       M  False\n1          0       M  False\n2          0       M  False\n3          0       M  False\n4          0       M  False\n...      ...     ...    ...\n1052325   20       F  False\n1052326   20       F  False\n1052327   20       F  False\n1052328   20       F  False\n1052329   20       F  False\n\n[1052330 rows x 3 columns]",
      "text/html": "<div>\n<style scoped>\n    .dataframe tbody tr th:only-of-type {\n        vertical-align: middle;\n    }\n\n    .dataframe tbody tr th {\n        vertical-align: top;\n    }\n\n    .dataframe thead th {\n        text-align: right;\n    }\n</style>\n<table border=\"1\" class=\"dataframe\">\n  <thead>\n    <tr style=\"text-align: right;\">\n      <th></th>\n      <th>vek</th>\n      <th>pohlavi</th>\n      <th>mark</th>\n    </tr>\n  </thead>\n  <tbody>\n    <tr>\n      <th>0</th>\n      <td>0</td>\n      <td>M</td>\n      <td>False</td>\n    </tr>\n    <tr>\n      <th>1</th>\n      <td>0</td>\n      <td>M</td>\n      <td>False</td>\n    </tr>\n    <tr>\n      <th>2</th>\n      <td>0</td>\n      <td>M</td>\n      <td>False</td>\n    </tr>\n    <tr>\n      <th>3</th>\n      <td>0</td>\n      <td>M</td>\n      <td>False</td>\n    </tr>\n    <tr>\n      <th>4</th>\n      <td>0</td>\n      <td>M</td>\n      <td>False</td>\n    </tr>\n    <tr>\n      <th>...</th>\n      <td>...</td>\n      <td>...</td>\n      <td>...</td>\n    </tr>\n    <tr>\n      <th>1052325</th>\n      <td>20</td>\n      <td>F</td>\n      <td>False</td>\n    </tr>\n    <tr>\n      <th>1052326</th>\n      <td>20</td>\n      <td>F</td>\n      <td>False</td>\n    </tr>\n    <tr>\n      <th>1052327</th>\n      <td>20</td>\n      <td>F</td>\n      <td>False</td>\n    </tr>\n    <tr>\n      <th>1052328</th>\n      <td>20</td>\n      <td>F</td>\n      <td>False</td>\n    </tr>\n    <tr>\n      <th>1052329</th>\n      <td>20</td>\n      <td>F</td>\n      <td>False</td>\n    </tr>\n  </tbody>\n</table>\n<p>1052330 rows × 3 columns</p>\n</div>"
     },
     "execution_count": 43,
     "metadata": {},
     "output_type": "execute_result"
    }
   ],
   "source": [
    "persons"
   ],
   "metadata": {
    "collapsed": false,
    "pycharm": {
     "name": "#%%\n"
    }
   }
  },
  {
   "cell_type": "code",
   "execution_count": 119,
   "outputs": [
    {
     "data": {
      "text/plain": "           datum  vek pohlavi  hodnota\n1     2021-01-10    0       M        1\n2     2021-01-10    0       F        3\n4     2021-01-10    5       M        0\n5     2021-01-10    5       F        1\n7     2021-01-10   10       M        0\n...          ...  ...     ...      ...\n42800 2021-12-26   80       F      256\n42802 2021-12-26   85       M      144\n42803 2021-12-26   85       F      241\n42805 2021-12-26   90       M      122\n42806 2021-12-26   90       F      316\n\n[1938 rows x 4 columns]",
      "text/html": "<div>\n<style scoped>\n    .dataframe tbody tr th:only-of-type {\n        vertical-align: middle;\n    }\n\n    .dataframe tbody tr th {\n        vertical-align: top;\n    }\n\n    .dataframe thead th {\n        text-align: right;\n    }\n</style>\n<table border=\"1\" class=\"dataframe\">\n  <thead>\n    <tr style=\"text-align: right;\">\n      <th></th>\n      <th>datum</th>\n      <th>vek</th>\n      <th>pohlavi</th>\n      <th>hodnota</th>\n    </tr>\n  </thead>\n  <tbody>\n    <tr>\n      <th>1</th>\n      <td>2021-01-10</td>\n      <td>0</td>\n      <td>M</td>\n      <td>1</td>\n    </tr>\n    <tr>\n      <th>2</th>\n      <td>2021-01-10</td>\n      <td>0</td>\n      <td>F</td>\n      <td>3</td>\n    </tr>\n    <tr>\n      <th>4</th>\n      <td>2021-01-10</td>\n      <td>5</td>\n      <td>M</td>\n      <td>0</td>\n    </tr>\n    <tr>\n      <th>5</th>\n      <td>2021-01-10</td>\n      <td>5</td>\n      <td>F</td>\n      <td>1</td>\n    </tr>\n    <tr>\n      <th>7</th>\n      <td>2021-01-10</td>\n      <td>10</td>\n      <td>M</td>\n      <td>0</td>\n    </tr>\n    <tr>\n      <th>...</th>\n      <td>...</td>\n      <td>...</td>\n      <td>...</td>\n      <td>...</td>\n    </tr>\n    <tr>\n      <th>42800</th>\n      <td>2021-12-26</td>\n      <td>80</td>\n      <td>F</td>\n      <td>256</td>\n    </tr>\n    <tr>\n      <th>42802</th>\n      <td>2021-12-26</td>\n      <td>85</td>\n      <td>M</td>\n      <td>144</td>\n    </tr>\n    <tr>\n      <th>42803</th>\n      <td>2021-12-26</td>\n      <td>85</td>\n      <td>F</td>\n      <td>241</td>\n    </tr>\n    <tr>\n      <th>42805</th>\n      <td>2021-12-26</td>\n      <td>90</td>\n      <td>M</td>\n      <td>122</td>\n    </tr>\n    <tr>\n      <th>42806</th>\n      <td>2021-12-26</td>\n      <td>90</td>\n      <td>F</td>\n      <td>316</td>\n    </tr>\n  </tbody>\n</table>\n<p>1938 rows × 4 columns</p>\n</div>"
     },
     "execution_count": 119,
     "metadata": {},
     "output_type": "execute_result"
    }
   ],
   "source": [
    "dfd"
   ],
   "metadata": {
    "collapsed": false,
    "pycharm": {
     "name": "#%%\n"
    }
   }
  },
  {
   "cell_type": "code",
   "execution_count": 16,
   "outputs": [
    {
     "data": {
      "text/plain": "<Figure size 432x288 with 1 Axes>",
      "image/png": "[encoded data removed]"
     },
     "metadata": {
      "needs_background": "light"
     },
     "output_type": "display_data"
    }
   ],
   "source": [
    "plt.plot(dfd.groupby(\"tyden\").sum()[\"hodnota\"]);"
   ],
   "metadata": {
    "collapsed": false,
    "pycharm": {
     "name": "#%%\n"
    }
   }
  },
  {
   "cell_type": "code",
   "execution_count": 135,
   "outputs": [
    {
     "data": {
      "text/plain": "           datum vekova_skupina pohlavi  poradi_davky  hodnota\n0     2020-12-27          18-24       M             1       23\n1     2020-12-27          18-24       F             1       25\n2     2020-12-27          25-29       M             1       36\n3     2020-12-27          25-29       F             1       78\n4     2020-12-27          30-34       M             1       48\n...          ...            ...     ...           ...      ...\n19198 2022-09-26          70-74       F            19      101\n19199 2022-09-26          75-79       M            27       85\n19200 2022-09-26          75-79       F            22       73\n19201 2022-09-26         80-120       M            26       62\n19202 2022-09-26         80-120       F            27       97\n\n[19203 rows x 5 columns]",
      "text/html": "<div>\n<style scoped>\n    .dataframe tbody tr th:only-of-type {\n        vertical-align: middle;\n    }\n\n    .dataframe tbody tr th {\n        vertical-align: top;\n    }\n\n    .dataframe thead th {\n        text-align: right;\n    }\n</style>\n<table border=\"1\" class=\"dataframe\">\n  <thead>\n    <tr style=\"text-align: right;\">\n      <th></th>\n      <th>datum</th>\n      <th>vekova_skupina</th>\n      <th>pohlavi</th>\n      <th>poradi_davky</th>\n      <th>hodnota</th>\n    </tr>\n  </thead>\n  <tbody>\n    <tr>\n      <th>0</th>\n      <td>2020-12-27</td>\n      <td>18-24</td>\n      <td>M</td>\n      <td>1</td>\n      <td>23</td>\n    </tr>\n    <tr>\n      <th>1</th>\n      <td>2020-12-27</td>\n      <td>18-24</td>\n      <td>F</td>\n      <td>1</td>\n      <td>25</td>\n    </tr>\n    <tr>\n      <th>2</th>\n      <td>2020-12-27</td>\n      <td>25-29</td>\n      <td>M</td>\n      <td>1</td>\n      <td>36</td>\n    </tr>\n    <tr>\n      <th>3</th>\n      <td>2020-12-27</td>\n      <td>25-29</td>\n      <td>F</td>\n      <td>1</td>\n      <td>78</td>\n    </tr>\n    <tr>\n      <th>4</th>\n      <td>2020-12-27</td>\n      <td>30-34</td>\n      <td>M</td>\n      <td>1</td>\n      <td>48</td>\n    </tr>\n    <tr>\n      <th>...</th>\n      <td>...</td>\n      <td>...</td>\n      <td>...</td>\n      <td>...</td>\n      <td>...</td>\n    </tr>\n    <tr>\n      <th>19198</th>\n      <td>2022-09-26</td>\n      <td>70-74</td>\n      <td>F</td>\n      <td>19</td>\n      <td>101</td>\n    </tr>\n    <tr>\n      <th>19199</th>\n      <td>2022-09-26</td>\n      <td>75-79</td>\n      <td>M</td>\n      <td>27</td>\n      <td>85</td>\n    </tr>\n    <tr>\n      <th>19200</th>\n      <td>2022-09-26</td>\n      <td>75-79</td>\n      <td>F</td>\n      <td>22</td>\n      <td>73</td>\n    </tr>\n    <tr>\n      <th>19201</th>\n      <td>2022-09-26</td>\n      <td>80-120</td>\n      <td>M</td>\n      <td>26</td>\n      <td>62</td>\n    </tr>\n    <tr>\n      <th>19202</th>\n      <td>2022-09-26</td>\n      <td>80-120</td>\n      <td>F</td>\n      <td>27</td>\n      <td>97</td>\n    </tr>\n  </tbody>\n</table>\n<p>19203 rows × 5 columns</p>\n</div>"
     },
     "execution_count": 135,
     "metadata": {},
     "output_type": "execute_result"
    }
   ],
   "source": [
    "dfo"
   ],
   "metadata": {
    "collapsed": false,
    "pycharm": {
     "name": "#%%\n"
    }
   }
  },
  {
   "cell_type": "markdown",
   "source": [
    "## Model\n",
    "\n",
    "- ještě mi to padá na nějaké chybě, ale po nalezení již by měl být hotový bod 1, 2, 4, 5"
   ],
   "metadata": {
    "collapsed": false,
    "pycharm": {
     "name": "#%% md\n"
    }
   }
  },
  {
   "cell_type": "code",
   "execution_count": 151,
   "outputs": [],
   "source": [
    "counts = []\n",
    "counts_marked = []"
   ],
   "metadata": {
    "collapsed": false,
    "pycharm": {
     "name": "#%%\n"
    }
   }
  },
  {
   "cell_type": "code",
   "execution_count": 152,
   "outputs": [
    {
     "name": "stderr",
     "output_type": "stream",
     "text": [
      "  0%|          | 0/51 [00:00<?, ?it/s]"
     ]
    },
    {
     "name": "stdout",
     "output_type": "stream",
     "text": [
      "aloha\n",
      "aloha\n",
      "aloha\n",
      "aloha\n",
      "aloha\n",
      "aloha\n",
      "aloha\n",
      "aloha\n",
      "aloha\n",
      "aloha\n",
      "aloha\n",
      "aloha\n",
      "aloha\n",
      "aloha\n",
      "aloha\n",
      "aloha\n",
      "aloha\n",
      "aloha\n",
      "aloha\n",
      "aloha\n",
      "aloha\n",
      "aloha\n",
      "aloha\n",
      "aloha\n",
      "aloha\n",
      "aloha\n",
      "aloha\n",
      "aloha\n",
      "b\n"
     ]
    },
    {
     "name": "stderr",
     "output_type": "stream",
     "text": [
      "  0%|          | 0/51 [00:06<?, ?it/s]\n"
     ]
    },
    {
     "ename": "ValueError",
     "evalue": "Cannot take a larger sample than population when 'replace=False'",
     "output_type": "error",
     "traceback": [
      "\u001B[0;31m---------------------------------------------------------------------------\u001B[0m",
      "\u001B[0;31mValueError\u001B[0m                                Traceback (most recent call last)",
      "Input \u001B[0;32mIn [152]\u001B[0m, in \u001B[0;36m<cell line: 3>\u001B[0;34m()\u001B[0m\n\u001B[1;32m     21\u001B[0m \u001B[38;5;28;01mfor\u001B[39;00m n, row \u001B[38;5;129;01min\u001B[39;00m dfd[dfd[\u001B[38;5;124m\"\u001B[39m\u001B[38;5;124mdatum\u001B[39m\u001B[38;5;124m\"\u001B[39m] \u001B[38;5;241m==\u001B[39m day]\u001B[38;5;241m.\u001B[39miterrows():\n\u001B[1;32m     22\u001B[0m     \u001B[38;5;28;01mif\u001B[39;00m row\u001B[38;5;241m.\u001B[39mhodnota \u001B[38;5;241m>\u001B[39m \u001B[38;5;241m0\u001B[39m:\n\u001B[0;32m---> 23\u001B[0m         fi \u001B[38;5;241m=\u001B[39m \u001B[43mpersons\u001B[49m\u001B[43m[\u001B[49m\u001B[43m(\u001B[49m\u001B[43mpersons\u001B[49m\u001B[43m[\u001B[49m\u001B[38;5;124;43m\"\u001B[39;49m\u001B[38;5;124;43mpohlavi\u001B[39;49m\u001B[38;5;124;43m\"\u001B[39;49m\u001B[43m]\u001B[49m\u001B[43m \u001B[49m\u001B[38;5;241;43m==\u001B[39;49m\u001B[43m \u001B[49m\u001B[43mrow\u001B[49m\u001B[38;5;241;43m.\u001B[39;49m\u001B[43mpohlavi\u001B[49m\u001B[43m)\u001B[49m\u001B[43m \u001B[49m\u001B[38;5;241;43m&\u001B[39;49m\u001B[43m \u001B[49m\u001B[43m(\u001B[49m\u001B[43mpersons\u001B[49m\u001B[43m[\u001B[49m\u001B[38;5;124;43m\"\u001B[39;49m\u001B[38;5;124;43mvek\u001B[39;49m\u001B[38;5;124;43m\"\u001B[39;49m\u001B[43m]\u001B[49m\u001B[43m \u001B[49m\u001B[38;5;241;43m==\u001B[39;49m\u001B[43m \u001B[49m\u001B[43mrow\u001B[49m\u001B[38;5;241;43m.\u001B[39;49m\u001B[43mvek\u001B[49m\u001B[43m)\u001B[49m\u001B[43m]\u001B[49m\u001B[38;5;241;43m.\u001B[39;49m\u001B[43msample\u001B[49m\u001B[43m(\u001B[49m\u001B[43mn\u001B[49m\u001B[38;5;241;43m=\u001B[39;49m\u001B[43mrow\u001B[49m\u001B[38;5;241;43m.\u001B[39;49m\u001B[43mhodnota\u001B[49m\u001B[43m)\u001B[49m\u001B[38;5;241m.\u001B[39mindex\n\u001B[1;32m     24\u001B[0m         persons \u001B[38;5;241m=\u001B[39m persons[\u001B[38;5;241m~\u001B[39mpersons\u001B[38;5;241m.\u001B[39mindex\u001B[38;5;241m.\u001B[39misin(fi)]\n\u001B[1;32m     26\u001B[0m counts\u001B[38;5;241m.\u001B[39mappend(\u001B[38;5;28mlen\u001B[39m(persons))\n",
      "File \u001B[0;32m~/Library/Python/3.8/lib/python/site-packages/pandas/core/generic.py:5446\u001B[0m, in \u001B[0;36mNDFrame.sample\u001B[0;34m(self, n, frac, replace, weights, random_state, axis, ignore_index)\u001B[0m\n\u001B[1;32m   5443\u001B[0m \u001B[38;5;28;01mif\u001B[39;00m weights \u001B[38;5;129;01mis\u001B[39;00m \u001B[38;5;129;01mnot\u001B[39;00m \u001B[38;5;28;01mNone\u001B[39;00m:\n\u001B[1;32m   5444\u001B[0m     weights \u001B[38;5;241m=\u001B[39m sample\u001B[38;5;241m.\u001B[39mpreprocess_weights(\u001B[38;5;28mself\u001B[39m, weights, axis)\n\u001B[0;32m-> 5446\u001B[0m sampled_indices \u001B[38;5;241m=\u001B[39m \u001B[43msample\u001B[49m\u001B[38;5;241;43m.\u001B[39;49m\u001B[43msample\u001B[49m\u001B[43m(\u001B[49m\u001B[43mobj_len\u001B[49m\u001B[43m,\u001B[49m\u001B[43m \u001B[49m\u001B[43msize\u001B[49m\u001B[43m,\u001B[49m\u001B[43m \u001B[49m\u001B[43mreplace\u001B[49m\u001B[43m,\u001B[49m\u001B[43m \u001B[49m\u001B[43mweights\u001B[49m\u001B[43m,\u001B[49m\u001B[43m \u001B[49m\u001B[43mrs\u001B[49m\u001B[43m)\u001B[49m\n\u001B[1;32m   5447\u001B[0m result \u001B[38;5;241m=\u001B[39m \u001B[38;5;28mself\u001B[39m\u001B[38;5;241m.\u001B[39mtake(sampled_indices, axis\u001B[38;5;241m=\u001B[39maxis)\n\u001B[1;32m   5449\u001B[0m \u001B[38;5;28;01mif\u001B[39;00m ignore_index:\n",
      "File \u001B[0;32m~/Library/Python/3.8/lib/python/site-packages/pandas/core/sample.py:150\u001B[0m, in \u001B[0;36msample\u001B[0;34m(obj_len, size, replace, weights, random_state)\u001B[0m\n\u001B[1;32m    147\u001B[0m     \u001B[38;5;28;01melse\u001B[39;00m:\n\u001B[1;32m    148\u001B[0m         \u001B[38;5;28;01mraise\u001B[39;00m \u001B[38;5;167;01mValueError\u001B[39;00m(\u001B[38;5;124m\"\u001B[39m\u001B[38;5;124mInvalid weights: weights sum to zero\u001B[39m\u001B[38;5;124m\"\u001B[39m)\n\u001B[0;32m--> 150\u001B[0m \u001B[38;5;28;01mreturn\u001B[39;00m \u001B[43mrandom_state\u001B[49m\u001B[38;5;241;43m.\u001B[39;49m\u001B[43mchoice\u001B[49m\u001B[43m(\u001B[49m\u001B[43mobj_len\u001B[49m\u001B[43m,\u001B[49m\u001B[43m \u001B[49m\u001B[43msize\u001B[49m\u001B[38;5;241;43m=\u001B[39;49m\u001B[43msize\u001B[49m\u001B[43m,\u001B[49m\u001B[43m \u001B[49m\u001B[43mreplace\u001B[49m\u001B[38;5;241;43m=\u001B[39;49m\u001B[43mreplace\u001B[49m\u001B[43m,\u001B[49m\u001B[43m \u001B[49m\u001B[43mp\u001B[49m\u001B[38;5;241;43m=\u001B[39;49m\u001B[43mweights\u001B[49m\u001B[43m)\u001B[49m\u001B[38;5;241m.\u001B[39mastype(\n\u001B[1;32m    151\u001B[0m     np\u001B[38;5;241m.\u001B[39mintp, copy\u001B[38;5;241m=\u001B[39m\u001B[38;5;28;01mFalse\u001B[39;00m\n\u001B[1;32m    152\u001B[0m )\n",
      "File \u001B[0;32mmtrand.pyx:965\u001B[0m, in \u001B[0;36mnumpy.random.mtrand.RandomState.choice\u001B[0;34m()\u001B[0m\n",
      "\u001B[0;31mValueError\u001B[0m: Cannot take a larger sample than population when 'replace=False'"
     ]
    }
   ],
   "source": [
    "days = sorted(dfd[\"datum\"].unique())\n",
    "\n",
    "for day_n in tqdm(range(len(days))):\n",
    "    day = days[day_n]\n",
    "\n",
    "    # Mark newly vaccinated\n",
    "    for n, row in dfo[dfo[\"datum\"] == day].iterrows():\n",
    "        if row.hodnota > 0:\n",
    "            vek = row.vekova_skupina.split(\"-\")\n",
    "\n",
    "            fi = persons[\n",
    "                (persons[\"pohlavi\"] == row.pohlavi) &\n",
    "                (persons[\"vek\"].isin(range(int(vek[0]), int(vek[1]) + 1))) &\n",
    "                (~persons[\"mark\"])\n",
    "            ]\n",
    "\n",
    "            persons.loc[persons.index.isin(fi), \"mark\"] = True\n",
    "\n",
    "    # Remove dead people\n",
    "    for n, row in dfd[dfd[\"datum\"] == day].iterrows():\n",
    "        if row.hodnota > 0:\n",
    "            fi = persons[(persons[\"pohlavi\"] == row.pohlavi) & (persons[\"vek\"] == row.vek)].sample(n=row.hodnota).index\n",
    "            persons = persons[~persons.index.isin(fi)]\n",
    "\n",
    "    counts.append(len(persons))\n",
    "    counts_marked.append(sum(persons[\"marked\"] == True))\n",
    "\n",
    "    break"
   ],
   "metadata": {
    "collapsed": false,
    "pycharm": {
     "name": "#%%\n"
    }
   }
  },
  {
   "cell_type": "code",
   "execution_count": null,
   "outputs": [],
   "source": [],
   "metadata": {
    "collapsed": false,
    "pycharm": {
     "name": "#%%\n"
    }
   }
  }
 ],
 "metadata": {
  "kernelspec": {
   "display_name": "Python 3",
   "language": "python",
   "name": "python3"
  },
  "language_info": {
   "codemirror_mode": {
    "name": "ipython",
    "version": 2
   },
   "file_extension": ".py",
   "mimetype": "text/x-python",
   "name": "python",
   "nbconvert_exporter": "python",
   "pygments_lexer": "ipython2",
   "version": "2.7.6"
  }
 },
 "nbformat": 4,
 "nbformat_minor": 0
}