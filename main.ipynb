{
 "cells": [
  {
   "cell_type": "markdown",
   "source": [
    "# Nobel Model\n",
    "\n",
    "Tasks:\n",
    "\n",
    "1. vytvorit fiktivni populaci milionu lidi (nebo vzit CR tak, jak je) data o vekove strukture jsou na CSU\n",
    "\n",
    "2. rozjet simulaci, ktera necha lidi umirat (asi po celych tydnech) podle umrtnostnich krivek\n",
    "data jsou tady\n",
    "https://www.czso.cz/…_cr\n",
    "tohle by melo vytvorit casove rady, ktere jsou zde\n",
    "https://www.czso.cz/…_cr\n",
    "\n",
    "3. je treba u toho nejak vyresit ze se lidi rodi, umiraji a starnou, ale to vse je na CSU\n",
    "\n",
    "4. az pojede tento model a bude schopen replikovat ty realne ceske krivky\n",
    "tak do toho domodelovat vakcinaci\n",
    "data jsou tady\n",
    "prikladam txt soubor s popisem vsechn otevrenych datovych sad, ktere ma UZIS\n",
    "(prehled dat UZIS.txt)\n",
    "\n",
    "5. v kazdem tydnu je treba nahodne vytahnbout spravny pocet lidi na umrti\n",
    "a spravny pocet lidi na vakcinaci\n",
    "\n",
    "6. a ted jde o to, jestli tyhle dva vybery budou nezavisle nebo ne.\n",
    "v prvni fazi to prosim udelejme nezavisle\n",
    "a potom vyzkousejme postupne zvysovat miru disjunktnosti techto dvou vyberu\n",
    "az do te miry, ze nikdo, kdo ma tento tyden umrit, nebude ockovan\n",
    "\n",
    "7. no a pak uz staci nakreslit tento typ dat\n",
    "https://smis-lab.cz/2022/01/01/vakcinacni-voodoo/ a tento typ dat\n",
    "https://smis-lab.cz/2021/12/25/umrti-dle-ockovaciho-statutu-v-roce-2021-data-zdravotnich-pojistoven/"
   ],
   "metadata": {
    "collapsed": false,
    "pycharm": {
     "name": "#%% md\n"
    }
   }
  },
  {
   "cell_type": "code",
   "execution_count": 1,
   "metadata": {
    "tags": []
   },
   "outputs": [],
   "source": [
    "from matplotlib import pyplot as plt\n",
    "from tqdm import tqdm\n",
    "import seaborn as sns\n",
    "import pandas as pd\n",
    "import numpy as np"
   ]
  },
  {
   "cell_type": "code",
   "execution_count": 23,
   "metadata": {
    "collapsed": false,
    "jupyter": {
     "outputs_hidden": false
    },
    "pycharm": {
     "name": "#%%\n"
    }
   },
   "outputs": [],
   "source": [
    "sns.set_theme()\n",
    "\n",
    "SCALE = 10\n",
    "DEBUG = False\n",
    "DATA_FOLDER = \"data\""
   ]
  },
  {
   "cell_type": "markdown",
   "metadata": {
    "pycharm": {
     "name": "#%% md\n"
    }
   },
   "source": [
    "## Load \"Sčítání lidí\""
   ]
  },
  {
   "cell_type": "code",
   "execution_count": 24,
   "metadata": {
    "collapsed": false,
    "jupyter": {
     "outputs_hidden": false
    },
    "pycharm": {
     "name": "#%%\n"
    }
   },
   "outputs": [
    {
     "name": "stderr",
     "output_type": "stream",
     "text": [
      "101it [00:00, 1143.39it/s]\n"
     ]
    }
   ],
   "source": [
    "dfs = pd.read_excel(f\"./{DATA_FOLDER}/sldb2021_pv_vek_pohlavi.xlsx\").set_index(\"věk\")\n",
    "\n",
    "# TODO zde to může být sumárně, bude to 4 dávky * 2 pohlaví * 20 věkových kategorií (* 51 týdnů) = 10k řádků místo 1M/10M\n",
    "ages = []\n",
    "genders = []\n",
    "\n",
    "for n, row in tqdm(dfs.iterrows()):\n",
    "    for m in range(row[\"muži\"] // SCALE):\n",
    "        genders.append(\"M\")\n",
    "        ages.append(n)\n",
    "\n",
    "    for f in range(row[\"ženy\"] // SCALE):\n",
    "        genders.append(\"F\")\n",
    "        ages.append(n)\n",
    "\n",
    "persons = pd.DataFrame({\"vek\": ages, \"pohlavi\": genders, \"davek_v_tele\": 0, \"zestarnul\": False})"
   ]
  },
  {
   "cell_type": "markdown",
   "metadata": {
    "pycharm": {
     "name": "#%% md\n"
    }
   },
   "source": [
    "## Load deaths"
   ]
  },
  {
   "cell_type": "code",
   "execution_count": 25,
   "metadata": {
    "collapsed": false,
    "jupyter": {
     "outputs_hidden": false
    },
    "pycharm": {
     "name": "#%%\n"
    }
   },
   "outputs": [],
   "source": [
    "df_deaths = pd.read_csv(f\"./{DATA_FOLDER}/DEMOMIGR_2005_2021_komplet.csv\")\n",
    "df_deaths = df_deaths.rename(columns={\"tyden\": \"datum\", 'hodnota': 'pocet_umrti'})\n",
    "\n",
    "# TODO We do not want other years\n",
    "df_deaths = df_deaths[df_deaths[\"datum\"].str.split(\"-\").str[0] == \"2021\"]\n",
    "\n",
    "# We do not want break out by region\n",
    "df_deaths = df_deaths[df_deaths[\"uzemi\"] == \"CZ\"]\n",
    "\n",
    "# We do not want summaries \"Celkem\"\n",
    "df_deaths = df_deaths[df_deaths[\"pohlavi\"] != \"T\"]\n",
    "\n",
    "# Converting and \"normalizing\"\n",
    "df_deaths[\"datum\"] = pd.to_datetime(df_deaths[\"datum\"] + '0', format=\"%Y-W%W%w\")\n",
    "df_deaths['vekova_skupina'] = df_deaths['vek'] \\\n",
    "    .str.replace(\"_GE90\", '90-120') \\\n",
    "    .str.replace('Y', '') \\\n",
    "    .str.replace('T', '-')\n",
    "\n",
    "df_deaths[\"pocet_umrti\"] = (df_deaths[\"pocet_umrti\"] / SCALE).round().astype(int)\n",
    "df_deaths = df_deaths.drop(columns=[\"vek\", \"uzemi\"]).set_index(['datum', 'pohlavi'])"
   ]
  },
  {
   "cell_type": "markdown",
   "metadata": {
    "pycharm": {
     "name": "#%% md\n"
    }
   },
   "source": [
    "## Load vaccinations"
   ]
  },
  {
   "cell_type": "code",
   "execution_count": 26,
   "metadata": {
    "collapsed": false,
    "jupyter": {
     "outputs_hidden": false
    },
    "pycharm": {
     "name": "#%%\n"
    }
   },
   "outputs": [],
   "source": [
    "df_vaccination = pd.read_csv(\"data/ockovani-demografie.csv\")\n",
    "\n",
    "# Converting and \"normalizing\"\n",
    "df_vaccination[\"datum\"] = pd.to_datetime(df_vaccination[\"datum\"], format=\"%Y-%m-%d\")\n",
    "df_vaccination[\"pohlavi\"] = df_vaccination[\"pohlavi\"].replace(\"Z\", \"F\")\n",
    "df_vaccination[\"vekova_skupina\"] = df_vaccination[\"vekova_skupina\"].replace(\"80+\", \"80-100\")\n",
    "\n",
    "# Runtime optimization + date formatting\n",
    "df_vaccination = df_vaccination.groupby([\n",
    "    pd.Grouper(key='datum', freq='W-SUN'), \"pohlavi\", \"vekova_skupina\", \"poradi_davky\"]).sum().reset_index()\n",
    "\n",
    "df_vaccination = df_vaccination.set_index(['datum', 'pohlavi'])\n",
    "df_vaccination[\"pocet_davek\"] = (df_vaccination[\"pocet_davek\"] / SCALE).round().astype(int)"
   ]
  },
  {
   "cell_type": "markdown",
   "metadata": {
    "pycharm": {
     "name": "#%% md\n"
    }
   },
   "source": [
    "## Quick look"
   ]
  },
  {
   "cell_type": "code",
   "execution_count": 27,
   "metadata": {
    "collapsed": false,
    "jupyter": {
     "outputs_hidden": false
    },
    "pycharm": {
     "name": "#%%\n"
    }
   },
   "outputs": [
    {
     "data": {
      "text/plain": "         vek pohlavi  davek_v_tele  zestarnul\n0          0       M             0      False\n1          0       M             0      False\n2          0       M             0      False\n3          0       M             0      False\n4          0       M             0      False\n...      ...     ...           ...        ...\n1052325  100       F             0      False\n1052326  100       F             0      False\n1052327  100       F             0      False\n1052328  100       F             0      False\n1052329  100       F             0      False\n\n[1052330 rows x 4 columns]",
      "text/html": "<div>\n<style scoped>\n    .dataframe tbody tr th:only-of-type {\n        vertical-align: middle;\n    }\n\n    .dataframe tbody tr th {\n        vertical-align: top;\n    }\n\n    .dataframe thead th {\n        text-align: right;\n    }\n</style>\n<table border=\"1\" class=\"dataframe\">\n  <thead>\n    <tr style=\"text-align: right;\">\n      <th></th>\n      <th>vek</th>\n      <th>pohlavi</th>\n      <th>davek_v_tele</th>\n      <th>zestarnul</th>\n    </tr>\n  </thead>\n  <tbody>\n    <tr>\n      <th>0</th>\n      <td>0</td>\n      <td>M</td>\n      <td>0</td>\n      <td>False</td>\n    </tr>\n    <tr>\n      <th>1</th>\n      <td>0</td>\n      <td>M</td>\n      <td>0</td>\n      <td>False</td>\n    </tr>\n    <tr>\n      <th>2</th>\n      <td>0</td>\n      <td>M</td>\n      <td>0</td>\n      <td>False</td>\n    </tr>\n    <tr>\n      <th>3</th>\n      <td>0</td>\n      <td>M</td>\n      <td>0</td>\n      <td>False</td>\n    </tr>\n    <tr>\n      <th>4</th>\n      <td>0</td>\n      <td>M</td>\n      <td>0</td>\n      <td>False</td>\n    </tr>\n    <tr>\n      <th>...</th>\n      <td>...</td>\n      <td>...</td>\n      <td>...</td>\n      <td>...</td>\n    </tr>\n    <tr>\n      <th>1052325</th>\n      <td>100</td>\n      <td>F</td>\n      <td>0</td>\n      <td>False</td>\n    </tr>\n    <tr>\n      <th>1052326</th>\n      <td>100</td>\n      <td>F</td>\n      <td>0</td>\n      <td>False</td>\n    </tr>\n    <tr>\n      <th>1052327</th>\n      <td>100</td>\n      <td>F</td>\n      <td>0</td>\n      <td>False</td>\n    </tr>\n    <tr>\n      <th>1052328</th>\n      <td>100</td>\n      <td>F</td>\n      <td>0</td>\n      <td>False</td>\n    </tr>\n    <tr>\n      <th>1052329</th>\n      <td>100</td>\n      <td>F</td>\n      <td>0</td>\n      <td>False</td>\n    </tr>\n  </tbody>\n</table>\n<p>1052330 rows × 4 columns</p>\n</div>"
     },
     "execution_count": 27,
     "metadata": {},
     "output_type": "execute_result"
    }
   ],
   "source": [
    "persons"
   ]
  },
  {
   "cell_type": "code",
   "execution_count": 28,
   "metadata": {
    "collapsed": false,
    "jupyter": {
     "outputs_hidden": false
    },
    "pycharm": {
     "name": "#%%\n"
    }
   },
   "outputs": [
    {
     "data": {
      "text/plain": "                    pocet_umrti vekova_skupina\ndatum      pohlavi                            \n2021-01-10 M                  0            0-4\n           F                  0            0-4\n           M                  0            5-9\n           F                  0            5-9\n           M                  0          10-14\n...                         ...            ...\n2021-12-26 F                 26          80-84\n           M                 14          85-89\n           F                 24          85-89\n           M                 12         90-120\n           F                 32         90-120\n\n[1938 rows x 2 columns]",
      "text/html": "<div>\n<style scoped>\n    .dataframe tbody tr th:only-of-type {\n        vertical-align: middle;\n    }\n\n    .dataframe tbody tr th {\n        vertical-align: top;\n    }\n\n    .dataframe thead th {\n        text-align: right;\n    }\n</style>\n<table border=\"1\" class=\"dataframe\">\n  <thead>\n    <tr style=\"text-align: right;\">\n      <th></th>\n      <th></th>\n      <th>pocet_umrti</th>\n      <th>vekova_skupina</th>\n    </tr>\n    <tr>\n      <th>datum</th>\n      <th>pohlavi</th>\n      <th></th>\n      <th></th>\n    </tr>\n  </thead>\n  <tbody>\n    <tr>\n      <th rowspan=\"5\" valign=\"top\">2021-01-10</th>\n      <th>M</th>\n      <td>0</td>\n      <td>0-4</td>\n    </tr>\n    <tr>\n      <th>F</th>\n      <td>0</td>\n      <td>0-4</td>\n    </tr>\n    <tr>\n      <th>M</th>\n      <td>0</td>\n      <td>5-9</td>\n    </tr>\n    <tr>\n      <th>F</th>\n      <td>0</td>\n      <td>5-9</td>\n    </tr>\n    <tr>\n      <th>M</th>\n      <td>0</td>\n      <td>10-14</td>\n    </tr>\n    <tr>\n      <th>...</th>\n      <th>...</th>\n      <td>...</td>\n      <td>...</td>\n    </tr>\n    <tr>\n      <th rowspan=\"5\" valign=\"top\">2021-12-26</th>\n      <th>F</th>\n      <td>26</td>\n      <td>80-84</td>\n    </tr>\n    <tr>\n      <th>M</th>\n      <td>14</td>\n      <td>85-89</td>\n    </tr>\n    <tr>\n      <th>F</th>\n      <td>24</td>\n      <td>85-89</td>\n    </tr>\n    <tr>\n      <th>M</th>\n      <td>12</td>\n      <td>90-120</td>\n    </tr>\n    <tr>\n      <th>F</th>\n      <td>32</td>\n      <td>90-120</td>\n    </tr>\n  </tbody>\n</table>\n<p>1938 rows × 2 columns</p>\n</div>"
     },
     "execution_count": 28,
     "metadata": {},
     "output_type": "execute_result"
    }
   ],
   "source": [
    "df_deaths"
   ]
  },
  {
   "cell_type": "code",
   "execution_count": 29,
   "metadata": {},
   "outputs": [
    {
     "data": {
      "text/plain": "                   vekova_skupina  poradi_davky  pocet_davek\ndatum      pohlavi                                          \n2020-12-27 F                18-24             1            2\n           F                25-29             1            8\n           F                30-34             1            7\n           F                35-39             1            8\n           F                40-44             1           12\n...                           ...           ...          ...\n2022-10-02 M                75-79             1            0\n           M                75-79             3            0\n           M                75-79             4            8\n           M               80-100             3            0\n           M               80-100             4            6\n\n[7621 rows x 3 columns]",
      "text/html": "<div>\n<style scoped>\n    .dataframe tbody tr th:only-of-type {\n        vertical-align: middle;\n    }\n\n    .dataframe tbody tr th {\n        vertical-align: top;\n    }\n\n    .dataframe thead th {\n        text-align: right;\n    }\n</style>\n<table border=\"1\" class=\"dataframe\">\n  <thead>\n    <tr style=\"text-align: right;\">\n      <th></th>\n      <th></th>\n      <th>vekova_skupina</th>\n      <th>poradi_davky</th>\n      <th>pocet_davek</th>\n    </tr>\n    <tr>\n      <th>datum</th>\n      <th>pohlavi</th>\n      <th></th>\n      <th></th>\n      <th></th>\n    </tr>\n  </thead>\n  <tbody>\n    <tr>\n      <th rowspan=\"5\" valign=\"top\">2020-12-27</th>\n      <th>F</th>\n      <td>18-24</td>\n      <td>1</td>\n      <td>2</td>\n    </tr>\n    <tr>\n      <th>F</th>\n      <td>25-29</td>\n      <td>1</td>\n      <td>8</td>\n    </tr>\n    <tr>\n      <th>F</th>\n      <td>30-34</td>\n      <td>1</td>\n      <td>7</td>\n    </tr>\n    <tr>\n      <th>F</th>\n      <td>35-39</td>\n      <td>1</td>\n      <td>8</td>\n    </tr>\n    <tr>\n      <th>F</th>\n      <td>40-44</td>\n      <td>1</td>\n      <td>12</td>\n    </tr>\n    <tr>\n      <th>...</th>\n      <th>...</th>\n      <td>...</td>\n      <td>...</td>\n      <td>...</td>\n    </tr>\n    <tr>\n      <th rowspan=\"5\" valign=\"top\">2022-10-02</th>\n      <th>M</th>\n      <td>75-79</td>\n      <td>1</td>\n      <td>0</td>\n    </tr>\n    <tr>\n      <th>M</th>\n      <td>75-79</td>\n      <td>3</td>\n      <td>0</td>\n    </tr>\n    <tr>\n      <th>M</th>\n      <td>75-79</td>\n      <td>4</td>\n      <td>8</td>\n    </tr>\n    <tr>\n      <th>M</th>\n      <td>80-100</td>\n      <td>3</td>\n      <td>0</td>\n    </tr>\n    <tr>\n      <th>M</th>\n      <td>80-100</td>\n      <td>4</td>\n      <td>6</td>\n    </tr>\n  </tbody>\n</table>\n<p>7621 rows × 3 columns</p>\n</div>"
     },
     "execution_count": 29,
     "metadata": {},
     "output_type": "execute_result"
    }
   ],
   "source": [
    "df_vaccination"
   ]
  },
  {
   "cell_type": "code",
   "execution_count": 30,
   "metadata": {},
   "outputs": [
    {
     "data": {
      "text/plain": "<Figure size 640x480 with 1 Axes>",
      "image/png": "[encoded data removed]"
     },
     "metadata": {},
     "output_type": "display_data"
    }
   ],
   "source": [
    "df_vaccination.groupby(df_vaccination.index.get_level_values('datum'))['poradi_davky'].mean().plot()\n",
    "plt.title('Prumerny pocet davek ockovaneho cloveka (bacha, prumer jen z ockovanych)');"
   ]
  },
  {
   "cell_type": "code",
   "execution_count": 31,
   "metadata": {
    "collapsed": false,
    "jupyter": {
     "outputs_hidden": false
    },
    "pycharm": {
     "name": "#%%\n"
    }
   },
   "outputs": [],
   "source": [
    "# df_vaccination[df_vaccination['vekova_skupina'] == '80-100'].xs('M', level=1)#.plot(y='pocet_davek')"
   ]
  },
  {
   "cell_type": "markdown",
   "metadata": {
    "pycharm": {
     "name": "#%% md\n"
    }
   },
   "source": [
    "## Model\n",
    "- Pro zrychleni lze pouzivat .itertuples misto .iterrows, viz:\n",
    "  - https://medium.com/swlh/why-pandas-itertuples-is-faster-than-iterrows-and-how-to-make-it-even-faster-bc50c0edd30d\n",
    "- np.random.choice ma tu vyhodu, ze lze vyuzit parameter vah `p` pro pridani korelace vakcinace s umrtimi."
   ]
  },
  {
   "cell_type": "code",
   "execution_count": 32,
   "metadata": {},
   "outputs": [
    {
     "data": {
      "text/plain": "51"
     },
     "execution_count": 32,
     "metadata": {},
     "output_type": "execute_result"
    }
   ],
   "source": [
    "weeks = sorted(df_deaths.index.get_level_values('datum').unique())\n",
    "len(weeks)"
   ]
  },
  {
   "cell_type": "code",
   "execution_count": 33,
   "metadata": {
    "collapsed": false,
    "jupyter": {
     "outputs_hidden": false
    },
    "pycharm": {
     "name": "#%%\n"
    }
   },
   "outputs": [
    {
     "name": "stderr",
     "output_type": "stream",
     "text": [
      "0it [00:00, ?it/s]"
     ]
    },
    {
     "name": "stdout",
     "output_type": "stream",
     "text": [
      "Zpracovavam 1. davku...\n",
      "Zpracovavam 2. davku...\n"
     ]
    },
    {
     "name": "stderr",
     "output_type": "stream",
     "text": [
      "1it [00:02,  2.80s/it]"
     ]
    },
    {
     "name": "stdout",
     "output_type": "stream",
     "text": [
      "Zpracovavam 1. davku...\n",
      "Zpracovavam 2. davku...\n"
     ]
    },
    {
     "name": "stderr",
     "output_type": "stream",
     "text": [
      "2it [00:06,  3.19s/it]"
     ]
    },
    {
     "name": "stdout",
     "output_type": "stream",
     "text": [
      "Zpracovavam 1. davku...\n",
      "Zpracovavam 2. davku...\n"
     ]
    },
    {
     "name": "stderr",
     "output_type": "stream",
     "text": [
      "3it [00:09,  3.41s/it]"
     ]
    },
    {
     "name": "stdout",
     "output_type": "stream",
     "text": [
      "Zpracovavam 1. davku...\n",
      "Zpracovavam 2. davku...\n"
     ]
    },
    {
     "name": "stderr",
     "output_type": "stream",
     "text": [
      "4it [00:13,  3.55s/it]"
     ]
    },
    {
     "name": "stdout",
     "output_type": "stream",
     "text": [
      "Zpracovavam 1. davku...\n",
      "Zpracovavam 2. davku...\n"
     ]
    },
    {
     "name": "stderr",
     "output_type": "stream",
     "text": [
      "5it [00:17,  3.52s/it]"
     ]
    },
    {
     "name": "stdout",
     "output_type": "stream",
     "text": [
      "Zpracovavam 1. davku...\n",
      "Zpracovavam 2. davku...\n"
     ]
    },
    {
     "name": "stderr",
     "output_type": "stream",
     "text": [
      "6it [00:20,  3.55s/it]"
     ]
    },
    {
     "name": "stdout",
     "output_type": "stream",
     "text": [
      "Zpracovavam 1. davku...\n",
      "Zpracovavam 2. davku...\n"
     ]
    },
    {
     "name": "stderr",
     "output_type": "stream",
     "text": [
      "7it [00:24,  3.57s/it]"
     ]
    },
    {
     "name": "stdout",
     "output_type": "stream",
     "text": [
      "Zpracovavam 1. davku...\n",
      "Zpracovavam 2. davku...\n"
     ]
    },
    {
     "name": "stderr",
     "output_type": "stream",
     "text": [
      "8it [00:28,  3.63s/it]"
     ]
    },
    {
     "name": "stdout",
     "output_type": "stream",
     "text": [
      "Zpracovavam 1. davku...\n",
      "Zpracovavam 2. davku...\n"
     ]
    },
    {
     "name": "stderr",
     "output_type": "stream",
     "text": [
      "9it [00:31,  3.60s/it]"
     ]
    },
    {
     "name": "stdout",
     "output_type": "stream",
     "text": [
      "Zpracovavam 1. davku...\n",
      "Zpracovavam 2. davku...\n"
     ]
    },
    {
     "name": "stderr",
     "output_type": "stream",
     "text": [
      "10it [00:35,  3.67s/it]"
     ]
    },
    {
     "name": "stdout",
     "output_type": "stream",
     "text": [
      "Zpracovavam 1. davku...\n",
      "Zpracovavam 2. davku...\n"
     ]
    },
    {
     "name": "stderr",
     "output_type": "stream",
     "text": [
      "11it [00:39,  3.68s/it]"
     ]
    },
    {
     "name": "stdout",
     "output_type": "stream",
     "text": [
      "Zpracovavam 1. davku...\n",
      "Zpracovavam 2. davku...\n"
     ]
    },
    {
     "name": "stderr",
     "output_type": "stream",
     "text": [
      "12it [00:42,  3.66s/it]"
     ]
    },
    {
     "name": "stdout",
     "output_type": "stream",
     "text": [
      "Zpracovavam 1. davku...\n",
      "Zpracovavam 2. davku...\n"
     ]
    },
    {
     "name": "stderr",
     "output_type": "stream",
     "text": [
      "13it [00:46,  3.70s/it]"
     ]
    },
    {
     "name": "stdout",
     "output_type": "stream",
     "text": [
      "Zpracovavam 1. davku...\n",
      "Zpracovavam 2. davku...\n"
     ]
    },
    {
     "name": "stderr",
     "output_type": "stream",
     "text": [
      "14it [00:50,  3.68s/it]"
     ]
    },
    {
     "name": "stdout",
     "output_type": "stream",
     "text": [
      "Zpracovavam 1. davku...\n",
      "Zpracovavam 2. davku...\n"
     ]
    },
    {
     "name": "stderr",
     "output_type": "stream",
     "text": [
      "15it [00:53,  3.66s/it]"
     ]
    },
    {
     "name": "stdout",
     "output_type": "stream",
     "text": [
      "Zpracovavam 1. davku...\n",
      "Zpracovavam 2. davku...\n"
     ]
    },
    {
     "name": "stderr",
     "output_type": "stream",
     "text": [
      "16it [00:57,  3.65s/it]"
     ]
    },
    {
     "name": "stdout",
     "output_type": "stream",
     "text": [
      "Zpracovavam 1. davku...\n",
      "Zpracovavam 2. davku...\n"
     ]
    },
    {
     "name": "stderr",
     "output_type": "stream",
     "text": [
      "17it [01:01,  3.67s/it]"
     ]
    },
    {
     "name": "stdout",
     "output_type": "stream",
     "text": [
      "Zpracovavam 1. davku...\n",
      "Zpracovavam 2. davku...\n"
     ]
    },
    {
     "name": "stderr",
     "output_type": "stream",
     "text": [
      "18it [01:04,  3.67s/it]"
     ]
    },
    {
     "name": "stdout",
     "output_type": "stream",
     "text": [
      "Zpracovavam 1. davku...\n",
      "Zpracovavam 2. davku...\n"
     ]
    },
    {
     "name": "stderr",
     "output_type": "stream",
     "text": [
      "19it [01:08,  3.67s/it]"
     ]
    },
    {
     "name": "stdout",
     "output_type": "stream",
     "text": [
      "Zpracovavam 1. davku...\n",
      "Zpracovavam 2. davku...\n"
     ]
    },
    {
     "name": "stderr",
     "output_type": "stream",
     "text": [
      "20it [01:12,  3.67s/it]"
     ]
    },
    {
     "name": "stdout",
     "output_type": "stream",
     "text": [
      "Zpracovavam 1. davku...\n",
      "Zpracovavam 2. davku...\n",
      "Zpracovavam 3. davku...\n"
     ]
    },
    {
     "name": "stderr",
     "output_type": "stream",
     "text": [
      "21it [01:15,  3.65s/it]"
     ]
    },
    {
     "name": "stdout",
     "output_type": "stream",
     "text": [
      "Zpracovavam 1. davku...\n",
      "Zpracovavam 2. davku...\n"
     ]
    },
    {
     "name": "stderr",
     "output_type": "stream",
     "text": [
      "22it [01:19,  3.68s/it]"
     ]
    },
    {
     "name": "stdout",
     "output_type": "stream",
     "text": [
      "Zpracovavam 1. davku...\n",
      "Zpracovavam 2. davku...\n",
      "Zpracovavam 4. davku...\n"
     ]
    },
    {
     "name": "stderr",
     "output_type": "stream",
     "text": [
      "23it [01:23,  3.70s/it]"
     ]
    },
    {
     "name": "stdout",
     "output_type": "stream",
     "text": [
      "Zpracovavam 1. davku...\n",
      "Zpracovavam 2. davku...\n",
      "Zpracovavam 4. davku...\n"
     ]
    },
    {
     "name": "stderr",
     "output_type": "stream",
     "text": [
      "24it [01:27,  3.70s/it]"
     ]
    },
    {
     "name": "stdout",
     "output_type": "stream",
     "text": [
      "Zpracovavam 1. davku...\n",
      "Zpracovavam 2. davku...\n"
     ]
    },
    {
     "name": "stderr",
     "output_type": "stream",
     "text": [
      "25it [01:30,  3.66s/it]"
     ]
    },
    {
     "name": "stdout",
     "output_type": "stream",
     "text": [
      "Zpracovavam 1. davku...\n",
      "Zpracovavam 2. davku...\n",
      "Zpracovavam 3. davku...\n"
     ]
    },
    {
     "name": "stderr",
     "output_type": "stream",
     "text": [
      "26it [01:35,  3.89s/it]"
     ]
    },
    {
     "name": "stdout",
     "output_type": "stream",
     "text": [
      "Zpracovavam 1. davku...\n",
      "Zpracovavam 2. davku...\n",
      "Zpracovavam 3. davku...\n",
      "Zpracovavam 4. davku...\n"
     ]
    },
    {
     "name": "stderr",
     "output_type": "stream",
     "text": [
      "27it [01:38,  3.89s/it]"
     ]
    },
    {
     "name": "stdout",
     "output_type": "stream",
     "text": [
      "Zpracovavam 1. davku...\n",
      "Zpracovavam 2. davku...\n",
      "Zpracovavam 4. davku...\n"
     ]
    },
    {
     "name": "stderr",
     "output_type": "stream",
     "text": [
      "28it [01:42,  3.82s/it]"
     ]
    },
    {
     "name": "stdout",
     "output_type": "stream",
     "text": [
      "Zpracovavam 1. davku...\n",
      "Zpracovavam 2. davku...\n",
      "Zpracovavam 3. davku...\n",
      "Zpracovavam 4. davku...\n"
     ]
    },
    {
     "name": "stderr",
     "output_type": "stream",
     "text": [
      "29it [01:46,  3.80s/it]"
     ]
    },
    {
     "name": "stdout",
     "output_type": "stream",
     "text": [
      "Zpracovavam 1. davku...\n",
      "Zpracovavam 2. davku...\n",
      "Zpracovavam 3. davku...\n",
      "Zpracovavam 4. davku...\n"
     ]
    },
    {
     "name": "stderr",
     "output_type": "stream",
     "text": [
      "30it [01:50,  3.81s/it]"
     ]
    },
    {
     "name": "stdout",
     "output_type": "stream",
     "text": [
      "Zpracovavam 1. davku...\n",
      "Zpracovavam 2. davku...\n",
      "Zpracovavam 3. davku...\n"
     ]
    },
    {
     "name": "stderr",
     "output_type": "stream",
     "text": [
      "31it [01:53,  3.76s/it]"
     ]
    },
    {
     "name": "stdout",
     "output_type": "stream",
     "text": [
      "Zpracovavam 1. davku...\n",
      "Zpracovavam 2. davku...\n",
      "Zpracovavam 4. davku...\n"
     ]
    },
    {
     "name": "stderr",
     "output_type": "stream",
     "text": [
      "32it [01:57,  3.78s/it]"
     ]
    },
    {
     "name": "stdout",
     "output_type": "stream",
     "text": [
      "Zpracovavam 1. davku...\n",
      "Zpracovavam 2. davku...\n"
     ]
    },
    {
     "name": "stderr",
     "output_type": "stream",
     "text": [
      "33it [02:01,  3.84s/it]"
     ]
    },
    {
     "name": "stdout",
     "output_type": "stream",
     "text": [
      "Zpracovavam 1. davku...\n",
      "Zpracovavam 2. davku...\n",
      "Zpracovavam 3. davku...\n",
      "Zpracovavam 4. davku...\n"
     ]
    },
    {
     "name": "stderr",
     "output_type": "stream",
     "text": [
      "34it [02:05,  3.84s/it]"
     ]
    },
    {
     "name": "stdout",
     "output_type": "stream",
     "text": [
      "Zpracovavam 1. davku...\n",
      "Zpracovavam 2. davku...\n"
     ]
    },
    {
     "name": "stderr",
     "output_type": "stream",
     "text": [
      "35it [02:09,  3.78s/it]"
     ]
    },
    {
     "name": "stdout",
     "output_type": "stream",
     "text": [
      "Zpracovavam 1. davku...\n",
      "Zpracovavam 2. davku...\n",
      "Zpracovavam 3. davku...\n",
      "Zpracovavam 4. davku...\n"
     ]
    },
    {
     "name": "stderr",
     "output_type": "stream",
     "text": [
      "36it [02:12,  3.78s/it]"
     ]
    },
    {
     "name": "stdout",
     "output_type": "stream",
     "text": [
      "Zpracovavam 1. davku...\n",
      "Zpracovavam 2. davku...\n",
      "Zpracovavam 3. davku...\n"
     ]
    },
    {
     "name": "stderr",
     "output_type": "stream",
     "text": [
      "37it [02:16,  3.75s/it]"
     ]
    },
    {
     "name": "stdout",
     "output_type": "stream",
     "text": [
      "Zpracovavam 1. davku...\n",
      "Zpracovavam 2. davku...\n",
      "Zpracovavam 3. davku...\n"
     ]
    },
    {
     "name": "stderr",
     "output_type": "stream",
     "text": [
      "38it [02:21,  3.99s/it]"
     ]
    },
    {
     "name": "stdout",
     "output_type": "stream",
     "text": [
      "Zpracovavam 1. davku...\n",
      "Zpracovavam 2. davku...\n",
      "Zpracovavam 3. davku...\n"
     ]
    },
    {
     "name": "stderr",
     "output_type": "stream",
     "text": [
      "39it [02:25,  4.20s/it]"
     ]
    },
    {
     "name": "stdout",
     "output_type": "stream",
     "text": [
      "Zpracovavam 1. davku...\n",
      "Zpracovavam 2. davku...\n",
      "Zpracovavam 3. davku...\n",
      "Zpracovavam 4. davku...\n"
     ]
    },
    {
     "name": "stderr",
     "output_type": "stream",
     "text": [
      "40it [02:30,  4.32s/it]"
     ]
    },
    {
     "name": "stdout",
     "output_type": "stream",
     "text": [
      "Zpracovavam 1. davku...\n",
      "Zpracovavam 2. davku...\n",
      "Zpracovavam 3. davku...\n"
     ]
    },
    {
     "name": "stderr",
     "output_type": "stream",
     "text": [
      "41it [02:34,  4.34s/it]"
     ]
    },
    {
     "name": "stdout",
     "output_type": "stream",
     "text": [
      "Zpracovavam 1. davku...\n",
      "Zpracovavam 2. davku...\n",
      "Zpracovavam 3. davku...\n"
     ]
    },
    {
     "name": "stderr",
     "output_type": "stream",
     "text": [
      "42it [02:39,  4.45s/it]"
     ]
    },
    {
     "name": "stdout",
     "output_type": "stream",
     "text": [
      "Zpracovavam 1. davku...\n",
      "Zpracovavam 2. davku...\n",
      "Zpracovavam 3. davku...\n",
      "Zpracovavam 4. davku...\n"
     ]
    },
    {
     "name": "stderr",
     "output_type": "stream",
     "text": [
      "43it [02:44,  4.60s/it]"
     ]
    },
    {
     "name": "stdout",
     "output_type": "stream",
     "text": [
      "Zpracovavam 1. davku...\n",
      "Zpracovavam 2. davku...\n",
      "Zpracovavam 3. davku...\n"
     ]
    },
    {
     "name": "stderr",
     "output_type": "stream",
     "text": [
      "44it [02:49,  4.65s/it]"
     ]
    },
    {
     "name": "stdout",
     "output_type": "stream",
     "text": [
      "Zpracovavam 1. davku...\n",
      "Zpracovavam 2. davku...\n",
      "Zpracovavam 3. davku...\n"
     ]
    },
    {
     "name": "stderr",
     "output_type": "stream",
     "text": [
      "45it [02:53,  4.66s/it]"
     ]
    },
    {
     "name": "stdout",
     "output_type": "stream",
     "text": [
      "Zpracovavam 1. davku...\n",
      "Zpracovavam 2. davku...\n",
      "Zpracovavam 3. davku...\n"
     ]
    },
    {
     "name": "stderr",
     "output_type": "stream",
     "text": [
      "46it [02:58,  4.67s/it]"
     ]
    },
    {
     "name": "stdout",
     "output_type": "stream",
     "text": [
      "Zpracovavam 1. davku...\n",
      "Zpracovavam 2. davku...\n",
      "Zpracovavam 3. davku...\n",
      "Zpracovavam 4. davku...\n"
     ]
    },
    {
     "name": "stderr",
     "output_type": "stream",
     "text": [
      "47it [03:03,  4.70s/it]"
     ]
    },
    {
     "name": "stdout",
     "output_type": "stream",
     "text": [
      "Zpracovavam 1. davku...\n",
      "Zpracovavam 2. davku...\n",
      "Zpracovavam 3. davku...\n",
      "Zpracovavam 4. davku...\n"
     ]
    },
    {
     "name": "stderr",
     "output_type": "stream",
     "text": [
      "48it [03:08,  4.74s/it]"
     ]
    },
    {
     "name": "stdout",
     "output_type": "stream",
     "text": [
      "Zpracovavam 1. davku...\n",
      "Zpracovavam 2. davku...\n",
      "Zpracovavam 3. davku...\n",
      "Zpracovavam 4. davku...\n"
     ]
    },
    {
     "name": "stderr",
     "output_type": "stream",
     "text": [
      "49it [03:13,  4.79s/it]"
     ]
    },
    {
     "name": "stdout",
     "output_type": "stream",
     "text": [
      "Zpracovavam 1. davku...\n",
      "Zpracovavam 2. davku...\n",
      "Zpracovavam 3. davku...\n",
      "Zpracovavam 4. davku...\n"
     ]
    },
    {
     "name": "stderr",
     "output_type": "stream",
     "text": [
      "50it [03:17,  4.82s/it]"
     ]
    },
    {
     "name": "stdout",
     "output_type": "stream",
     "text": [
      "Zpracovavam 1. davku...\n",
      "Zpracovavam 2. davku...\n",
      "Zpracovavam 3. davku...\n",
      "Zpracovavam 4. davku...\n"
     ]
    },
    {
     "name": "stderr",
     "output_type": "stream",
     "text": [
      "51it [03:22,  3.98s/it]\n"
     ]
    }
   ],
   "source": [
    "dead_vaccinated = {}\n",
    "dead_normal = {}\n",
    "\n",
    "live_vaccinated = {}\n",
    "live_normal = {}\n",
    "\n",
    "for k, week in tqdm(enumerate(weeks)):\n",
    "    # -------- Mark newly vaccinated --------\n",
    "    # Dva radky nize jsou super sofistikovany (a elegantni) pandas trik\n",
    "    #  .groupby('poradi_davky') rozdeli tyden na casti podle sloupce `poradi_davky`\n",
    "    #  nasledne iteruji pres vsechny 1. vakciny vyockovane v danem tydnu, vsechny 2., ...\n",
    "\n",
    "    # -------- Vaccinate people --------\n",
    "    grouped_vaccination_week = df_vaccination.loc[week].groupby('poradi_davky')\n",
    "    for davka, vacc_week in grouped_vaccination_week:\n",
    "        print(f'Zpracovavam {davka}. davku...')\n",
    "\n",
    "        for row in vacc_week.itertuples():\n",
    "            if row.pocet_davek == 0:\n",
    "                continue\n",
    "            age = tuple(int(a) for a in row.vekova_skupina.split(\"-\"))\n",
    "            \n",
    "            # Vyberu lidi s danym pohlavim, v danem vekovem intervalu\n",
    "            #  a se spravnym poctem davek (tj. ockovana davka - 1).\n",
    "            cohort = persons[\n",
    "                (persons[\"pohlavi\"] == row.Index) &\n",
    "                (persons[\"vek\"] >= age[0]) &\n",
    "                (persons[\"vek\"] <= age[1]) &\n",
    "                (persons[\"davek_v_tele\"] == davka-1)\n",
    "            ]\n",
    "\n",
    "            if row.pocet_davek > len(cohort):\n",
    "                print('Neco je divne, mam ockovat vice lidi nez je v dane skupine.')\n",
    "                print(f\"**** Je tyden {week:%Y-%m-%d} a ja ve vekove skupine {row.vekova_skupina:>6} vyberu\"\n",
    "                      f\"{row.pocet_davek:>7,d} ockovanych z {len(cohort):>7,d} moznych\")\n",
    "                continue\n",
    "\n",
    "            # Nahodne vyberu kdo bude v dane skupine vakcinovany.\n",
    "            sampled_indices = cohort.sample(n=row.pocet_davek, replace=False).index\n",
    "            persons.loc[sampled_indices, \"davek_v_tele\"] += 1\n",
    "\n",
    "            if DEBUG:\n",
    "                # Vypisu co se deje. Model ma dost pohyblivych casti.\n",
    "                print(f\"Je {week:%Y-%m-%d} a ve věkové skupině {row.vekova_skupina:>6} vyberu\"\n",
    "                      f\"{row.pocet_davek:>7,d} lidí s {davka-1} dávkami z {len(cohort):>7,d} možných, \"\n",
    "                      f\"které tento týden naočkuji.\")\n",
    "\n",
    "    # -------- Remove dead people --------\n",
    "    for row in df_deaths.loc[week].itertuples():\n",
    "        if row.pocet_umrti > 0:\n",
    "            # TODO toto udělat jako preprocessing, zbytečně se to počítá pořád\n",
    "            age = tuple(int(a) for a in row.vekova_skupina.split(\"-\"))\n",
    "\n",
    "            cohort = persons[\n",
    "                (persons[\"pohlavi\"] == row.Index) &\n",
    "                (persons[\"vek\"] >= age[0]) &\n",
    "                (persons[\"vek\"] <= age[1])\n",
    "            ]\n",
    "\n",
    "            if row.pocet_umrti > len(cohort):\n",
    "                print('Neco je divne, ma umirat vice lidi nez je v dane skupine.')\n",
    "                print(f\"**** Je tyden {week:%Y-%m-%d} a ja ve vekove skupine {row.vekova_skupina:>6} umira\"\n",
    "                      f\"{row.pocet_umrti:>7,d} lidí z {len(cohort):>7,d} moznych\")\n",
    "                continue\n",
    "\n",
    "            cohort_sample = cohort.sample(n=row.pocet_umrti)\n",
    "\n",
    "            if row.vekova_skupina not in dead_vaccinated:\n",
    "                dead_vaccinated[row.vekova_skupina] = {}\n",
    "                dead_normal[row.vekova_skupina] = {}\n",
    "                live_vaccinated[row.vekova_skupina] = {}\n",
    "                live_normal[row.vekova_skupina] = {}\n",
    "\n",
    "            if k not in dead_vaccinated[row.vekova_skupina]:\n",
    "                dead_vaccinated[row.vekova_skupina][k] = 0\n",
    "                dead_normal[row.vekova_skupina][k] = 0\n",
    "                live_vaccinated[row.vekova_skupina][k] = 0\n",
    "                live_normal[row.vekova_skupina][k] = 0\n",
    "\n",
    "            dead_vaccinated[row.vekova_skupina][k] += len(cohort_sample[cohort_sample[\"davek_v_tele\"] >= 1])\n",
    "            dead_normal[row.vekova_skupina][k] += len(cohort_sample[cohort_sample[\"davek_v_tele\"] == 0])\n",
    "\n",
    "            live_vaccinated[row.vekova_skupina][k] += len(cohort[cohort[\"davek_v_tele\"] >= 1])\n",
    "            live_normal[row.vekova_skupina][k] += len(cohort[cohort[\"davek_v_tele\"] == 0])\n",
    "\n",
    "            persons.drop(cohort_sample.index, inplace=True)\n",
    "\n",
    "            if DEBUG:\n",
    "                # Vypisu co se deje. Model ma dost pohyblivych casti.\n",
    "                print(f\"Je {week:%Y-%m-%d} a ve věkové skupině {row.vekova_skupina:>6} umírá\"\n",
    "                      f\"{row.pocet_umrti:>7,d} lidí z {len(cohort):>7,d} možných\")\n",
    "\n",
    "    # -------- Make people older --------\n",
    "    # TODO nebude fungovat pokud budeme iterovat přes více let\n",
    "    # TODO předpoklad uniformního narození - lze někdy najít, kolik lidí se narodilo v jeden den?\n",
    "    na_zestarnuti = persons[persons[\"zestarnul\"] == False].sample(round(len(persons) * 7 / 365)).index\n",
    "    persons.loc[persons.index.isin(na_zestarnuti), \"vek\"] = persons.loc[persons.index.isin(na_zestarnuti), \"vek\"] + 1\n",
    "    persons.loc[persons.index.isin(na_zestarnuti), \"zestarnul\"] = True\n",
    "\n",
    "    # TODO: Odstranit, jen pro debug.\n",
    "    if k >= 51:\n",
    "        break"
   ]
  },
  {
   "cell_type": "markdown",
   "source": [
    "## Visualizations"
   ],
   "metadata": {
    "collapsed": false,
    "pycharm": {
     "name": "#%% md\n"
    }
   }
  },
  {
   "cell_type": "markdown",
   "source": [
    "### https://smis-lab.cz/2022/01/01/vakcinacni-voodoo/"
   ],
   "metadata": {
    "collapsed": false,
    "pycharm": {
     "name": "#%% md\n"
    }
   }
  },
  {
   "cell_type": "code",
   "execution_count": 19,
   "outputs": [],
   "source": [
    "dead_vaccinated_total = [0 for _ in range(len(weeks))]\n",
    "dead_normal_total = [0 for _ in range(len(weeks))]\n",
    "\n",
    "for w in dead_vaccinated.values():\n",
    "    for k, v in w.items():\n",
    "        dead_vaccinated_total[k] += v\n",
    "\n",
    "for w in dead_normal.values():\n",
    "    for k, v in w.items():\n",
    "        dead_normal_total[k] += v"
   ],
   "metadata": {
    "collapsed": false,
    "pycharm": {
     "name": "#%%\n"
    }
   }
  },
  {
   "cell_type": "code",
   "execution_count": 20,
   "outputs": [
    {
     "data": {
      "text/plain": "<Figure size 640x480 with 1 Axes>",
      "image/png": "[encoded data removed]"
     },
     "metadata": {},
     "output_type": "display_data"
    }
   ],
   "source": [
    "plt.plot(dead_normal_total, label=\"Normal\")\n",
    "plt.plot(dead_vaccinated_total, label=\"Vaccinated\")\n",
    "plt.ylabel(\"Dead\")\n",
    "plt.xlabel(\"Week\")\n",
    "plt.legend();"
   ],
   "metadata": {
    "collapsed": false,
    "pycharm": {
     "name": "#%%\n"
    }
   }
  },
  {
   "cell_type": "code",
   "execution_count": 21,
   "outputs": [
    {
     "data": {
      "text/plain": "dict_keys(['35-39', '40-44', '45-49', '50-54', '55-59', '60-64', '65-69', '70-74', '75-79', '80-84', '85-89', '90-120', '25-29', '30-34'])"
     },
     "execution_count": 21,
     "metadata": {},
     "output_type": "execute_result"
    }
   ],
   "source": [
    "dead_vaccinated.keys()"
   ],
   "metadata": {
    "collapsed": false,
    "pycharm": {
     "name": "#%%\n"
    }
   }
  },
  {
   "cell_type": "code",
   "execution_count": 48,
   "outputs": [],
   "source": [
    "SELECTED_CATEGORY = \"85-89\"\n",
    "SELECTED_CATEGORIES = ['80-84', '85-89', '90-120']"
   ],
   "metadata": {
    "collapsed": false,
    "pycharm": {
     "name": "#%%\n"
    }
   }
  },
  {
   "cell_type": "code",
   "execution_count": 37,
   "outputs": [
    {
     "data": {
      "text/plain": "dict_keys([0, 1, 2, 3, 4, 5, 6, 7, 8, 9, 10, 11, 12, 13, 14, 15, 16, 17, 18, 19, 20, 21, 22, 23, 24, 25, 26, 27, 28, 29, 30, 31, 32, 33, 34, 35, 36, 37, 38, 39, 40, 41, 42, 43, 44, 45, 46, 47, 48, 49, 50])"
     },
     "execution_count": 37,
     "metadata": {},
     "output_type": "execute_result"
    }
   ],
   "source": [
    "dead_vaccinated[SELECTED_CATEGORY].keys()"
   ],
   "metadata": {
    "collapsed": false,
    "pycharm": {
     "name": "#%%\n"
    }
   }
  },
  {
   "cell_type": "code",
   "execution_count": 83,
   "outputs": [
    {
     "data": {
      "text/plain": "5924"
     },
     "execution_count": 83,
     "metadata": {},
     "output_type": "execute_result"
    }
   ],
   "source": [
    "sum(sum(dead_normal[i].values()) for i in dead_normal)"
   ],
   "metadata": {
    "collapsed": false,
    "pycharm": {
     "name": "#%%\n"
    }
   }
  },
  {
   "cell_type": "code",
   "execution_count": 81,
   "outputs": [
    {
     "data": {
      "text/plain": "7629"
     },
     "execution_count": 81,
     "metadata": {},
     "output_type": "execute_result"
    }
   ],
   "source": [
    "sum(sum(dead_vaccinated[i].values()) for i in dead_vaccinated)"
   ],
   "metadata": {
    "collapsed": false,
    "pycharm": {
     "name": "#%%\n"
    }
   }
  },
  {
   "cell_type": "code",
   "execution_count": 76,
   "outputs": [],
   "source": [
    "x = sorted(list(set([int(str(w).split(\"-\")[1]) for w in weeks])))\n",
    "y_vacc = [0 for _ in x]\n",
    "y_normal = [0 for _ in x]\n",
    "\n",
    "for i in dead_vaccinated:\n",
    "    if i not in SELECTED_CATEGORIES:\n",
    "        continue\n",
    "\n",
    "    for j in dead_vaccinated[i]:\n",
    "        y_vacc[int(str(weeks[j]).split(\"-\")[1]) - 1] += dead_vaccinated[i][j]\n",
    "\n",
    "    for j in dead_normal[i]:\n",
    "        y_normal[int(str(weeks[j]).split(\"-\")[1]) - 1] += dead_normal[i][j]"
   ],
   "metadata": {
    "collapsed": false,
    "pycharm": {
     "name": "#%%\n"
    }
   }
  },
  {
   "cell_type": "code",
   "execution_count": 78,
   "outputs": [
    {
     "data": {
      "text/plain": "[620, 387, 263, 140, 97, 76, 76, 81, 62, 95, 103, 93]"
     },
     "execution_count": 78,
     "metadata": {},
     "output_type": "execute_result"
    }
   ],
   "source": [
    "y_normal"
   ],
   "metadata": {
    "collapsed": false,
    "pycharm": {
     "name": "#%%\n"
    }
   }
  },
  {
   "cell_type": "code",
   "execution_count": 54,
   "outputs": [],
   "source": [
    "from matplotlib.dates import date2num\n",
    "\n",
    "x = date2num(x)"
   ],
   "metadata": {
    "collapsed": false,
    "pycharm": {
     "name": "#%%\n"
    }
   }
  },
  {
   "cell_type": "code",
   "execution_count": 57,
   "outputs": [
    {
     "name": "stderr",
     "output_type": "stream",
     "text": [
      "No artists with labels found to put in legend.  Note that artists whose label start with an underscore are ignored when legend() is called with no argument.\n"
     ]
    },
    {
     "data": {
      "text/plain": "<Figure size 640x480 with 1 Axes>",
      "image/png": "[encoded data removed]"
     },
     "metadata": {},
     "output_type": "display_data"
    }
   ],
   "source": [
    "import datetime\n",
    "\n",
    "\n",
    "x = date2num(x)\n",
    "\n",
    "ax = plt.subplot(111)\n",
    "for n, k in enumerate(sorted(dead_vaccinated.keys())):\n",
    "    ax.bar(x + 0.2*(len(dead_vaccinated) // 2 - n), y_vacc, width=0.2, align='center')\n",
    "\n",
    "ax.xaxis_date()\n",
    "\n",
    "plt.legend()\n",
    "plt.show()"
   ],
   "metadata": {
    "collapsed": false,
    "pycharm": {
     "name": "#%%\n"
    }
   }
  },
  {
   "cell_type": "code",
   "execution_count": 20,
   "outputs": [
    {
     "name": "stdout",
     "output_type": "stream",
     "text": [
      "35-39 4\n",
      "40-44 4\n",
      "45-49 4\n",
      "50-54 4\n",
      "55-59 4\n",
      "60-64 4\n",
      "65-69 4\n",
      "70-74 4\n",
      "75-79 4\n",
      "80-84 4\n",
      "85-89 4\n",
      "90-120 4\n",
      "25-29 2\n",
      "30-34 3\n"
     ]
    }
   ],
   "source": [
    "for k in dead_vaccinated:\n",
    "    print(k, len(dead_vaccinated[k]))"
   ],
   "metadata": {
    "collapsed": false,
    "pycharm": {
     "name": "#%%\n"
    }
   }
  },
  {
   "cell_type": "code",
   "execution_count": 49,
   "outputs": [
    {
     "data": {
      "text/plain": "<Figure size 640x480 with 1 Axes>",
      "image/png": "[encoded data removed]"
     },
     "metadata": {},
     "output_type": "display_data"
    }
   ],
   "source": [
    "#plt.plot(dead_vaccinated[SELECTED_CATEGORY].keys(), dead_vaccinated[SELECTED_CATEGORY].values(), label=\"Vaccinated\")\n",
    "#plt.plot(dead_normal[SELECTED_CATEGORY].keys(), dead_normal[SELECTED_CATEGORY].values(), label=\"Normal\")\n",
    "plt.plot(x, y_vacc, label=\"Vacc\")\n",
    "plt.plot(x, y_normal, label=\"Normal\")\n",
    "plt.xlabel(\"Týden\")\n",
    "plt.ylabel(\"Počet úmrtí\")\n",
    "plt.title(f\"Souhrný počet úmrtí dle týdne pro kategorie {SELECTED_CATEGORIES}\")\n",
    "plt.legend();"
   ],
   "metadata": {
    "collapsed": false,
    "pycharm": {
     "name": "#%%\n"
    }
   }
  },
  {
   "cell_type": "code",
   "execution_count": 52,
   "outputs": [
    {
     "name": "stderr",
     "output_type": "stream",
     "text": [
      "No artists with labels found to put in legend.  Note that artists whose label start with an underscore are ignored when legend() is called with no argument.\n"
     ]
    },
    {
     "data": {
      "text/plain": "<Figure size 640x480 with 1 Axes>",
      "image/png": "[encoded data removed]"
     },
     "metadata": {},
     "output_type": "display_data"
    }
   ],
   "source": [],
   "metadata": {
    "collapsed": false,
    "pycharm": {
     "name": "#%%\n"
    }
   }
  },
  {
   "cell_type": "code",
   "execution_count": null,
   "outputs": [],
   "source": [],
   "metadata": {
    "collapsed": false,
    "pycharm": {
     "name": "#%%\n"
    }
   }
  }
 ],
 "metadata": {
  "kernelspec": {
   "display_name": "Python 3 (ipykernel)",
   "language": "python",
   "name": "python3"
  },
  "language_info": {
   "codemirror_mode": {
    "name": "ipython",
    "version": 3
   },
   "file_extension": ".py",
   "mimetype": "text/x-python",
   "name": "python",
   "nbconvert_exporter": "python",
   "pygments_lexer": "ipython3",
   "version": "3.9.10"
  }
 },
 "nbformat": 4,
 "nbformat_minor": 4
}