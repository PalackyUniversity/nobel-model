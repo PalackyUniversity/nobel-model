{
 "cells": [
  {
   "cell_type": "markdown",
   "metadata": {},
   "source": [
    "# Nobel Model\n",
    "\n",
    "Úlohy:\n",
    "1. Losovat úmrtí\n",
    "2. Losovat vakcinaci\n",
    "3. Ty, kde vakcinace - úmrtí <= 14 dnů => nevakcinovat\n",
    "4. S pravděpodobností P lidi z bodu 3. necháme zemřít\n"
   ]
  },
  {
   "cell_type": "code",
   "execution_count": 1,
   "metadata": {
    "jupyter": {
     "outputs_hidden": false
    },
    "pycharm": {
     "is_executing": true
    },
    "tags": []
   },
   "outputs": [],
   "source": [
    "from tqdm.contrib.concurrent import process_map\n",
    "from matplotlib import pyplot as plt\n",
    "from common import *\n",
    "\n",
    "import seaborn as sns\n",
    "import pandas as pd\n",
    "import numpy as np\n",
    "import pickle\n",
    "import os"
   ]
  },
  {
   "cell_type": "code",
   "execution_count": 2,
   "metadata": {
    "jupyter": {
     "outputs_hidden": false
    },
    "tags": []
   },
   "outputs": [],
   "source": [
    "sns.set_theme()"
   ]
  },
  {
   "cell_type": "code",
   "execution_count": 3,
   "metadata": {},
   "outputs": [],
   "source": [
    "RESULTS_DIR = \"result\"\n",
    "COLORS = \"bgrcmyk\""
   ]
  },
  {
   "cell_type": "markdown",
   "metadata": {},
   "source": [
    "## Load data"
   ]
  },
  {
   "cell_type": "code",
   "execution_count": 4,
   "metadata": {
    "tags": []
   },
   "outputs": [],
   "source": [
    "df_deaths = pd.read_csv(DEATHS_FILE)\n",
    "df_vacc = pd.read_csv(VACCINATION_FILE)\n",
    "df_counts = pd.read_csv(COUNTS_FILE)"
   ]
  },
  {
   "cell_type": "markdown",
   "metadata": {},
   "source": [
    "### Sanity checks"
   ]
  },
  {
   "cell_type": "code",
   "execution_count": 5,
   "metadata": {
    "jupyter": {
     "outputs_hidden": false
    },
    "tags": []
   },
   "outputs": [],
   "source": [
    "assert len(df_deaths) >= len(df_vacc.drop(columns=\"poradi_davky\").groupby([\"tyden\", \"vek\"]).sum()), \"Cropping applied?\"\n",
    "assert len(df_deaths[\"tyden\"].unique()) == len(df_vacc[\"tyden\"].unique()), \"Weeks are not the same!\"\n",
    "assert len(df_deaths[\"vek\"].unique()) == len(df_vacc[\"vek\"].unique()) == len(df_counts[\"vek\"].unique()), \"Age groups are not the same!\""
   ]
  },
  {
   "cell_type": "code",
   "execution_count": 6,
   "metadata": {
    "jupyter": {
     "outputs_hidden": false
    },
    "tags": []
   },
   "outputs": [],
   "source": [
    "# Convert weeks to timestamps in seconds\n",
    "df_vacc[\"tyden\"] = pd.to_datetime(df_vacc[\"tyden\"] + \"-1\", format=\"%Y-W%W-%w\").astype(\"int64\") // 10**9\n",
    "df_deaths[\"tyden\"] = pd.to_datetime(df_deaths[\"tyden\"] + \"-1\", format=\"%Y-W%W-%w\").astype(\"int64\") // 10**9"
   ]
  },
  {
   "cell_type": "markdown",
   "metadata": {},
   "source": [
    "### Preview"
   ]
  },
  {
   "cell_type": "code",
   "execution_count": 7,
   "metadata": {
    "jupyter": {
     "outputs_hidden": false
    },
    "tags": []
   },
   "outputs": [
    {
     "data": {
      "text/html": [
       "<div>\n",
       "<style scoped>\n",
       "    .dataframe tbody tr th:only-of-type {\n",
       "        vertical-align: middle;\n",
       "    }\n",
       "\n",
       "    .dataframe tbody tr th {\n",
       "        vertical-align: top;\n",
       "    }\n",
       "\n",
       "    .dataframe thead th {\n",
       "        text-align: right;\n",
       "    }\n",
       "</style>\n",
       "<table border=\"1\" class=\"dataframe\">\n",
       "  <thead>\n",
       "    <tr style=\"text-align: right;\">\n",
       "      <th></th>\n",
       "      <th>tyden</th>\n",
       "      <th>vek</th>\n",
       "      <th>umrti</th>\n",
       "    </tr>\n",
       "  </thead>\n",
       "  <tbody>\n",
       "    <tr>\n",
       "      <th>0</th>\n",
       "      <td>1609113600</td>\n",
       "      <td>0-29</td>\n",
       "      <td>24</td>\n",
       "    </tr>\n",
       "    <tr>\n",
       "      <th>1</th>\n",
       "      <td>1609113600</td>\n",
       "      <td>30-39</td>\n",
       "      <td>27</td>\n",
       "    </tr>\n",
       "    <tr>\n",
       "      <th>2</th>\n",
       "      <td>1609113600</td>\n",
       "      <td>40-49</td>\n",
       "      <td>69</td>\n",
       "    </tr>\n",
       "    <tr>\n",
       "      <th>3</th>\n",
       "      <td>1609113600</td>\n",
       "      <td>50-59</td>\n",
       "      <td>168</td>\n",
       "    </tr>\n",
       "    <tr>\n",
       "      <th>4</th>\n",
       "      <td>1609113600</td>\n",
       "      <td>60-69</td>\n",
       "      <td>428</td>\n",
       "    </tr>\n",
       "    <tr>\n",
       "      <th>...</th>\n",
       "      <td>...</td>\n",
       "      <td>...</td>\n",
       "      <td>...</td>\n",
       "    </tr>\n",
       "    <tr>\n",
       "      <th>765</th>\n",
       "      <td>1674432000</td>\n",
       "      <td>30-39</td>\n",
       "      <td>15</td>\n",
       "    </tr>\n",
       "    <tr>\n",
       "      <th>766</th>\n",
       "      <td>1674432000</td>\n",
       "      <td>40-49</td>\n",
       "      <td>54</td>\n",
       "    </tr>\n",
       "    <tr>\n",
       "      <th>767</th>\n",
       "      <td>1674432000</td>\n",
       "      <td>50-59</td>\n",
       "      <td>133</td>\n",
       "    </tr>\n",
       "    <tr>\n",
       "      <th>768</th>\n",
       "      <td>1674432000</td>\n",
       "      <td>60-69</td>\n",
       "      <td>301</td>\n",
       "    </tr>\n",
       "    <tr>\n",
       "      <th>769</th>\n",
       "      <td>1674432000</td>\n",
       "      <td>80-129</td>\n",
       "      <td>1018</td>\n",
       "    </tr>\n",
       "  </tbody>\n",
       "</table>\n",
       "<p>770 rows × 3 columns</p>\n",
       "</div>"
      ],
      "text/plain": [
       "          tyden     vek  umrti\n",
       "0    1609113600    0-29     24\n",
       "1    1609113600   30-39     27\n",
       "2    1609113600   40-49     69\n",
       "3    1609113600   50-59    168\n",
       "4    1609113600   60-69    428\n",
       "..          ...     ...    ...\n",
       "765  1674432000   30-39     15\n",
       "766  1674432000   40-49     54\n",
       "767  1674432000   50-59    133\n",
       "768  1674432000   60-69    301\n",
       "769  1674432000  80-129   1018\n",
       "\n",
       "[770 rows x 3 columns]"
      ]
     },
     "execution_count": 7,
     "metadata": {},
     "output_type": "execute_result"
    }
   ],
   "source": [
    "df_deaths"
   ]
  },
  {
   "cell_type": "code",
   "execution_count": 8,
   "metadata": {
    "jupyter": {
     "outputs_hidden": false
    },
    "tags": []
   },
   "outputs": [
    {
     "data": {
      "image/png": "[encoded data removed]",
      "text/plain": [
       "<Figure size 1600x800 with 1 Axes>"
      ]
     },
     "metadata": {},
     "output_type": "display_data"
    }
   ],
   "source": [
    "plt.figure(figsize=(16, 8))\n",
    "for i in range(1, df_vacc.poradi_davky.max()):\n",
    "    df_vacc[(df_vacc.vek == \"80-129\") & (df_vacc.poradi_davky == i)][\"pocet_davek\"].plot(label=f\"Dávka: {i}\")\n",
    "\n",
    "plt.legend()\n",
    "plt.ylabel(\"Počet očkování\")\n",
    "plt.xlabel(\"Datum\")\n",
    "plt.title(\"Očkování v závislosti na čase\")\n",
    "plt.savefig(os.path.join(RESULTS_DIR, \"vaccination.png\"), facecolor=\"white\", transparent=False);"
   ]
  },
  {
   "cell_type": "code",
   "execution_count": 9,
   "metadata": {
    "jupyter": {
     "outputs_hidden": false
    },
    "tags": []
   },
   "outputs": [
    {
     "data": {
      "text/html": [
       "<div>\n",
       "<style scoped>\n",
       "    .dataframe tbody tr th:only-of-type {\n",
       "        vertical-align: middle;\n",
       "    }\n",
       "\n",
       "    .dataframe tbody tr th {\n",
       "        vertical-align: top;\n",
       "    }\n",
       "\n",
       "    .dataframe thead th {\n",
       "        text-align: right;\n",
       "    }\n",
       "</style>\n",
       "<table border=\"1\" class=\"dataframe\">\n",
       "  <thead>\n",
       "    <tr style=\"text-align: right;\">\n",
       "      <th></th>\n",
       "      <th>vek</th>\n",
       "      <th>celkem</th>\n",
       "    </tr>\n",
       "  </thead>\n",
       "  <tbody>\n",
       "    <tr>\n",
       "      <th>0</th>\n",
       "      <td>0-29</td>\n",
       "      <td>3259827</td>\n",
       "    </tr>\n",
       "    <tr>\n",
       "      <th>1</th>\n",
       "      <td>30-39</td>\n",
       "      <td>1409650</td>\n",
       "    </tr>\n",
       "    <tr>\n",
       "      <th>2</th>\n",
       "      <td>40-49</td>\n",
       "      <td>1735533</td>\n",
       "    </tr>\n",
       "    <tr>\n",
       "      <th>3</th>\n",
       "      <td>50-59</td>\n",
       "      <td>1354501</td>\n",
       "    </tr>\n",
       "    <tr>\n",
       "      <th>4</th>\n",
       "      <td>60-69</td>\n",
       "      <td>1284689</td>\n",
       "    </tr>\n",
       "    <tr>\n",
       "      <th>5</th>\n",
       "      <td>70-79</td>\n",
       "      <td>1037997</td>\n",
       "    </tr>\n",
       "    <tr>\n",
       "      <th>6</th>\n",
       "      <td>80-129</td>\n",
       "      <td>441970</td>\n",
       "    </tr>\n",
       "  </tbody>\n",
       "</table>\n",
       "</div>"
      ],
      "text/plain": [
       "      vek   celkem\n",
       "0    0-29  3259827\n",
       "1   30-39  1409650\n",
       "2   40-49  1735533\n",
       "3   50-59  1354501\n",
       "4   60-69  1284689\n",
       "5   70-79  1037997\n",
       "6  80-129   441970"
      ]
     },
     "execution_count": 9,
     "metadata": {},
     "output_type": "execute_result"
    }
   ],
   "source": [
    "df_counts"
   ]
  },
  {
   "cell_type": "markdown",
   "metadata": {},
   "source": [
    "## Preparations"
   ]
  },
  {
   "cell_type": "code",
   "execution_count": 10,
   "metadata": {},
   "outputs": [],
   "source": [
    "# We will only use first dose\n",
    "df_vacc = df_vacc[df_vacc.poradi_davky == 1].drop(columns=\"poradi_davky\")"
   ]
  },
  {
   "cell_type": "code",
   "execution_count": 63,
   "metadata": {
    "jupyter": {
     "outputs_hidden": false
    },
    "tags": []
   },
   "outputs": [],
   "source": [
    "P = 0\n",
    "RUN_COUNT = 100\n",
    "TIMEDELTA_WEEKS = 2\n",
    "TIMEDELTA = timedelta(weeks=TIMEDELTA_WEEKS).total_seconds()"
   ]
  },
  {
   "cell_type": "code",
   "execution_count": 64,
   "metadata": {
    "jupyter": {
     "outputs_hidden": false
    },
    "tags": []
   },
   "outputs": [],
   "source": [
    "def run(p):\n",
    "    # Data variables\n",
    "    people = {}\n",
    "    \n",
    "    # Variables for metrics\n",
    "    count_vacc_after_death = 0\n",
    "    count_vacc_timedelta_death = 0\n",
    "    count_vacc_same_as_death = 0\n",
    "    x, y11, y12, y21, y22 = {}, {}, {}, {}, {}\n",
    "    death_vacc_date = {}\n",
    "    \n",
    "    # Generate vaccination and death date based on reality for reach person\n",
    "    for row_counts in df_counts.itertuples():\n",
    "        # Select rows for age group\n",
    "        dfs_deaths_sel = df_deaths[df_deaths.vek == row_counts.vek]\n",
    "        dfs_vacc_sel = df_vacc[df_vacc.vek == row_counts.vek]\n",
    "\n",
    "        # Append None to the end of the array (= no death & no vaccination classes)\n",
    "        da = np.append(dfs_deaths_sel.tyden, None)\n",
    "        va = np.append(dfs_vacc_sel.tyden, None)\n",
    "\n",
    "        # Append count to the end of the array for assignation with da and va (people with no death/vaccination)\n",
    "        dp = np.append(dfs_deaths_sel.umrti, row_counts.celkem - dfs_deaths_sel.umrti.sum())\n",
    "        vp = np.append(dfs_vacc_sel.pocet_davek, row_counts.celkem - dfs_vacc_sel.pocet_davek.sum())\n",
    "\n",
    "        # Normalize (so that the sum is 1), then randomly choice dates of death/vaccination\n",
    "        dates_death = np.random.choice(da, row_counts.celkem, p=dp / dp.sum())\n",
    "        dates_vacc = np.random.choice(va, row_counts.celkem, p=vp / vp.sum())\n",
    "\n",
    "        # print(f\"Dead: {len(dates_death[dates_death != None])}/{dfs_deaths_sel.umrti.sum()}\")\n",
    "\n",
    "        # Assign dates for each person\n",
    "        for n in range(row_counts.celkem):\n",
    "            date_death = dates_death[n]\n",
    "            date_vacc = dates_vacc[n]\n",
    "\n",
    "            if date_vacc is not None and date_death is not None:\n",
    "                # Invalid assigment\n",
    "                if date_vacc > date_death:\n",
    "                    count_vacc_after_death += 1\n",
    "                    date_vacc = None\n",
    "\n",
    "                # Modeled \n",
    "                elif date_vacc + TIMEDELTA > date_death:\n",
    "                    #if date_vacc == date_death:\n",
    "                    #    if np.random.random() < 0.5:\n",
    "                    #        count_vacc_same_as_death += 1\n",
    "                    #        date_vacc = None\n",
    "                            \n",
    "                    if date_vacc is not None and np.random.random() < p:\n",
    "                        count_vacc_timedelta_death += 1\n",
    "                        date_vacc = None\n",
    "\n",
    "            people.setdefault(row_counts.vek, []).append({\"dead\": date_death, \"vaccinated\": date_vacc})\n",
    "    \n",
    "    for age in people:\n",
    "        for p in people[age]:\n",
    "            if p[\"dead\"] is not None and p[\"vaccinated\"] is not None:\n",
    "                key = (datetime.fromtimestamp(p[\"dead\"]) - datetime.fromtimestamp(p[\"vaccinated\"])).days // 7\n",
    "                \n",
    "                if age not in death_vacc_date:\n",
    "                    death_vacc_date[age] = {}\n",
    "                    \n",
    "                if key not in death_vacc_date[age]:\n",
    "                    death_vacc_date[age][key] = 0\n",
    "                    \n",
    "                death_vacc_date[age][key] += 1\n",
    "\n",
    "    # print(f\"Vakcinováno po úmrtí: {count_vacc_after_death}\")\n",
    "    # print(f\"Odebráno pro jev {p=}: {count_vacc_timedelta_death}\");\n",
    "    \n",
    "    # Create report for graphs based on dates generated above\n",
    "    for week in np.unique(df_deaths[\"tyden\"]):\n",
    "        for age, people_age in people.items():\n",
    "            deaths_vacc = 0\n",
    "            deaths_norm = 0\n",
    "            alive_vacc = 0\n",
    "            alive_norm = 0\n",
    "\n",
    "            for i in people_age:\n",
    "                # If selected person won't die in the simulation or die somewhere in the future\n",
    "                if i[\"dead\"] is None or i[\"dead\"] > week:\n",
    "                    if i[\"vaccinated\"] is None or i[\"vaccinated\"] > week:\n",
    "                        alive_norm += 1\n",
    "                    else:\n",
    "                        alive_vacc += 1\n",
    "                \n",
    "                # If selected person is going to die this week\n",
    "                elif i[\"dead\"] == week:\n",
    "                    # There is no need to check for bigger than death, it is filtered before\n",
    "                    if i[\"vaccinated\"] is None or i[\"vaccinated\"] > week:\n",
    "                        deaths_norm += 1\n",
    "                    else:\n",
    "                        deaths_vacc += 1\n",
    "\n",
    "            # Save\n",
    "            x.setdefault(age, []).append(datetime.fromtimestamp(week))\n",
    "            y11.setdefault(age, []).append(deaths_vacc)\n",
    "            y12.setdefault(age, []).append(alive_vacc)\n",
    "            y21.setdefault(age, []).append(deaths_norm)\n",
    "            y22.setdefault(age, []).append(alive_norm)\n",
    "    \n",
    "    return x, y11, y12, y21, y22, death_vacc_date, count_vacc_after_death, count_vacc_timedelta_death"
   ]
  },
  {
   "cell_type": "markdown",
   "metadata": {},
   "source": [
    "## Simulation"
   ]
  },
  {
   "cell_type": "code",
   "execution_count": 65,
   "metadata": {},
   "outputs": [
    {
     "data": {
      "application/vnd.jupyter.widget-view+json": {
       "model_id": "7bc4958ec4994eaab9f62f67962cfb3b",
       "version_major": 2,
       "version_minor": 0
      },
      "text/plain": [
       "  0%|          | 0/100 [00:00<?, ?it/s]"
      ]
     },
     "metadata": {},
     "output_type": "display_data"
    }
   ],
   "source": [
    "data = process_map(run, [P] * RUN_COUNT, max_workers=os.cpu_count())"
   ]
  },
  {
   "cell_type": "markdown",
   "metadata": {},
   "source": [
    "## Save data"
   ]
  },
  {
   "cell_type": "code",
   "execution_count": 51,
   "metadata": {},
   "outputs": [],
   "source": [
    "with open(os.path.join(RESULTS_DIR, f\"{TIMEDELTA_WEEKS=}__{P=}__data.pickle\"), \"wb\") as f:\n",
    "    pickle.dump(data, f)"
   ]
  },
  {
   "cell_type": "markdown",
   "metadata": {},
   "source": [
    "## Load data"
   ]
  },
  {
   "cell_type": "code",
   "execution_count": 68,
   "metadata": {},
   "outputs": [],
   "source": [
    "with open(os.path.join(RESULTS_DIR, f\"{TIMEDELTA_WEEKS=}__{P=}__data.pickle\"), \"rb\") as f:\n",
    "    data = pickle.load(f)"
   ]
  },
  {
   "cell_type": "markdown",
   "metadata": {},
   "source": [
    "## Visualizations"
   ]
  },
  {
   "cell_type": "markdown",
   "metadata": {},
   "source": [
    "### Počet živých kumulativně"
   ]
  },
  {
   "cell_type": "code",
   "execution_count": 69,
   "metadata": {},
   "outputs": [
    {
     "name": "stderr",
     "output_type": "stream",
     "text": [
      "/tmp/ipykernel_9977/1290256175.py:12: RuntimeWarning: More than 20 figures have been opened. Figures created through the pyplot interface (`matplotlib.pyplot.figure`) are retained until explicitly closed and may consume too much memory. (To control this warning, see the rcParam `figure.max_open_warning`). Consider using `matplotlib.pyplot.close()`.\n",
      "  fig, (al, ar) = plt.subplots(1, 2, sharey=\"row\", figsize=(18, 6))\n"
     ]
    },
    {
     "data": {
      "text/plain": [
       "<Figure size 1800x600 with 0 Axes>"
      ]
     },
     "metadata": {},
     "output_type": "display_data"
    },
    {
     "data": {
      "text/plain": [
       "<Figure size 1800x600 with 0 Axes>"
      ]
     },
     "metadata": {},
     "output_type": "display_data"
    },
    {
     "data": {
      "text/plain": [
       "<Figure size 1800x600 with 0 Axes>"
      ]
     },
     "metadata": {},
     "output_type": "display_data"
    },
    {
     "data": {
      "text/plain": [
       "<Figure size 1800x600 with 0 Axes>"
      ]
     },
     "metadata": {},
     "output_type": "display_data"
    },
    {
     "data": {
      "text/plain": [
       "<Figure size 1800x600 with 0 Axes>"
      ]
     },
     "metadata": {},
     "output_type": "display_data"
    },
    {
     "data": {
      "text/plain": [
       "<Figure size 1800x600 with 0 Axes>"
      ]
     },
     "metadata": {},
     "output_type": "display_data"
    },
    {
     "data": {
      "text/plain": [
       "<Figure size 1800x600 with 0 Axes>"
      ]
     },
     "metadata": {},
     "output_type": "display_data"
    },
    {
     "data": {
      "text/plain": [
       "<Figure size 1800x600 with 0 Axes>"
      ]
     },
     "metadata": {},
     "output_type": "display_data"
    },
    {
     "data": {
      "text/plain": [
       "<Figure size 1800x600 with 0 Axes>"
      ]
     },
     "metadata": {},
     "output_type": "display_data"
    },
    {
     "data": {
      "text/plain": [
       "<Figure size 1800x600 with 0 Axes>"
      ]
     },
     "metadata": {},
     "output_type": "display_data"
    },
    {
     "data": {
      "text/plain": [
       "<Figure size 1800x600 with 0 Axes>"
      ]
     },
     "metadata": {},
     "output_type": "display_data"
    },
    {
     "data": {
      "text/plain": [
       "<Figure size 1800x600 with 0 Axes>"
      ]
     },
     "metadata": {},
     "output_type": "display_data"
    },
    {
     "data": {
      "text/plain": [
       "<Figure size 1800x600 with 0 Axes>"
      ]
     },
     "metadata": {},
     "output_type": "display_data"
    },
    {
     "data": {
      "text/plain": [
       "<Figure size 1800x600 with 0 Axes>"
      ]
     },
     "metadata": {},
     "output_type": "display_data"
    },
    {
     "data": {
      "text/plain": [
       "<Figure size 1800x600 with 0 Axes>"
      ]
     },
     "metadata": {},
     "output_type": "display_data"
    },
    {
     "data": {
      "text/plain": [
       "<Figure size 1800x600 with 0 Axes>"
      ]
     },
     "metadata": {},
     "output_type": "display_data"
    },
    {
     "data": {
      "text/plain": [
       "<Figure size 1800x600 with 0 Axes>"
      ]
     },
     "metadata": {},
     "output_type": "display_data"
    },
    {
     "data": {
      "text/plain": [
       "<Figure size 1800x600 with 0 Axes>"
      ]
     },
     "metadata": {},
     "output_type": "display_data"
    },
    {
     "data": {
      "text/plain": [
       "<Figure size 1800x600 with 0 Axes>"
      ]
     },
     "metadata": {},
     "output_type": "display_data"
    },
    {
     "data": {
      "text/plain": [
       "<Figure size 1800x600 with 0 Axes>"
      ]
     },
     "metadata": {},
     "output_type": "display_data"
    },
    {
     "data": {
      "text/plain": [
       "<Figure size 1800x600 with 0 Axes>"
      ]
     },
     "metadata": {},
     "output_type": "display_data"
    }
   ],
   "source": [
    "for directory, label in [\n",
    "        (\"alive_cumulative\", \"Počet živých lidí (kumulativně) dle vakcinance v čase\"), \n",
    "        (\"alive_derivative\", \"Počet živých lidí (derivace) dle vakcinance v čase\"),\n",
    "        (\"dead\", \"Počet mrtvých lidí dle vakcinance v čase\")\n",
    "]:\n",
    "    current_directory = os.path.join(RESULTS_DIR, directory)\n",
    "    os.makedirs(current_directory, exist_ok=True)\n",
    "\n",
    "    for age_n, (age_low, age_up) in enumerate(AGE_CATEGORIES):\n",
    "        age_category = f\"{age_low}-{age_up}\"\n",
    "\n",
    "        fig, (al, ar) = plt.subplots(1, 2, sharey=\"row\", figsize=(18, 6))\n",
    "        was = set()\n",
    "        \n",
    "        data_y1_mean = []\n",
    "        data_y2_mean = []\n",
    "\n",
    "        for x, y11, y12, y21, y22, death_vacc, errored, removed in data:\n",
    "            for age in list(y12.keys()):\n",
    "                if age == age_category:\n",
    "                    if directory == \"alive_derivative\":\n",
    "                        data_x = x[age][1:]\n",
    "                        data_y1 = np.diff(y12[age])\n",
    "                        data_y2 = np.diff(y22[age])\n",
    "                        \n",
    "                    elif directory == \"alive_cumulative\":\n",
    "                        data_x = x[age]\n",
    "                        data_y1 = y12[age]\n",
    "                        data_y2 = y22[age]\n",
    "                    \n",
    "                    elif directory == \"dead\":\n",
    "                        data_x = x[age]\n",
    "                        data_y1 = y11[age]\n",
    "                        data_y2 = y21[age]\n",
    "                    else:\n",
    "                        raise Exception(\"Something went really wrong.\")\n",
    "                    \n",
    "                    data_y1_mean.append(data_y1)\n",
    "                    data_y2_mean.append(data_y2)\n",
    "                    \n",
    "                    al.plot(data_x, data_y1, color=COLORS[age_n], alpha=1 / RUN_COUNT, label=age if age not in was else None)\n",
    "                    ar.plot(data_x, data_y2, color=COLORS[age_n], alpha=1 / RUN_COUNT, label=age if age not in was else None)\n",
    "                    was.add(age)\n",
    "                    \n",
    "        data_y1_mean = np.mean(data_y1_mean, axis=0)\n",
    "        data_y2_mean = np.mean(data_y2_mean, axis=0)\n",
    "        \n",
    "        al.plot(data_x, data_y1_mean, color=COLORS[age_n], alpha=1, linewidth=3, label=f\"{age_category} => průměr\")\n",
    "        ar.plot(data_x, data_y2_mean, color=COLORS[age_n], alpha=1, linewidth=3, label=f\"{age_category} => průměr\")\n",
    "\n",
    "        al.set_xlabel(\"Datum\")\n",
    "        ar.set_xlabel(\"Datum\")\n",
    "\n",
    "        al.set_ylabel(\" \".join(label.split()[:2]))\n",
    "\n",
    "        al.set_title(\"Vakcinovaní\")\n",
    "        ar.set_title(\"Nevakcinovaní\")\n",
    "\n",
    "        al.legend()\n",
    "        ar.legend()\n",
    "\n",
    "        fig.suptitle(label + f\" pro {P=}, {TIMEDELTA_WEEKS=} a věkovou skupinu {age}\");\n",
    "        plt.savefig(os.path.join(current_directory, f\"age={age_category}__{TIMEDELTA_WEEKS=}__{P=}.png\"), facecolor=\"white\", transparent=False)\n",
    "\n",
    "        plt.clf();"
   ]
  },
  {
   "cell_type": "markdown",
   "metadata": {},
   "source": [
    "### Účinnost, počet úmrtí pro daný týden od vakcinace"
   ]
  },
  {
   "cell_type": "code",
   "execution_count": 66,
   "metadata": {},
   "outputs": [
    {
     "data": {
      "text/plain": [
       "<Figure size 1600x900 with 0 Axes>"
      ]
     },
     "metadata": {},
     "output_type": "display_data"
    },
    {
     "data": {
      "text/plain": [
       "<Figure size 1600x900 with 0 Axes>"
      ]
     },
     "metadata": {},
     "output_type": "display_data"
    },
    {
     "data": {
      "text/plain": [
       "<Figure size 1600x900 with 0 Axes>"
      ]
     },
     "metadata": {},
     "output_type": "display_data"
    },
    {
     "data": {
      "text/plain": [
       "<Figure size 1600x900 with 0 Axes>"
      ]
     },
     "metadata": {},
     "output_type": "display_data"
    },
    {
     "data": {
      "text/plain": [
       "<Figure size 1600x900 with 0 Axes>"
      ]
     },
     "metadata": {},
     "output_type": "display_data"
    },
    {
     "data": {
      "text/plain": [
       "<Figure size 1600x900 with 0 Axes>"
      ]
     },
     "metadata": {},
     "output_type": "display_data"
    },
    {
     "data": {
      "text/plain": [
       "<Figure size 1600x900 with 0 Axes>"
      ]
     },
     "metadata": {},
     "output_type": "display_data"
    }
   ],
   "source": [
    "for directory, label in [\n",
    "        (\"efficacy\", \"Účinnost vakcíny\"),\n",
    "        (\"death_vacc\", \"Počet úmrtí pro daný týden od vakcinace\")\n",
    "]:\n",
    "    current_directory = os.path.join(RESULTS_DIR, directory)\n",
    "    os.makedirs(current_directory, exist_ok=True)\n",
    "\n",
    "    for age_n, (age_low, age_up) in enumerate(AGE_CATEGORIES):\n",
    "        age_category = f\"{age_low}-{age_up}\"\n",
    "\n",
    "        plt.figure(figsize=(16, 9))\n",
    "        was = set()\n",
    "        data_y_mean = []\n",
    "\n",
    "        for x, y11, y12, y21, y22, death_vacc, errored, removed in data:\n",
    "            for age in list(death_vacc.keys()):\n",
    "                if age == age_category:\n",
    "                    if directory == \"efficacy\":\n",
    "                        data_x = x[age]\n",
    "                        data_y = 1 - (np.array(y11[age]) / np.array(y12[age])) / (np.array(y21[age]) / np.array(y22[age]))\n",
    "                        \n",
    "                        plt.ylim(-1, 1)\n",
    "                        plt.xlabel(\"Datum\")\n",
    "                    \n",
    "                    elif directory == \"death_vacc\":\n",
    "                        # Add missing values (nobody died)\n",
    "                        for i in range(len(x)):\n",
    "                            if i not in death_vacc[age]:\n",
    "                                death_vacc[age][i] = 0\n",
    "                                \n",
    "                        # Sort it\n",
    "                        death_vacc_selection = dict(sorted(death_vacc[age].items()))\n",
    "                        \n",
    "                        data_x = death_vacc_selection.keys()\n",
    "                        data_y = list(death_vacc_selection.values())\n",
    "                        \n",
    "                        plt.xlabel(\"Týden úmrtí po vakcinaci\")\n",
    "                        \n",
    "                    else:\n",
    "                        raise Exception(\"Something went really wrong.\")\n",
    "                        \n",
    "                    data_y_mean.append(data_y)\n",
    "                        \n",
    "                    plt.plot(data_x, data_y, color=COLORS[age_n], alpha=1 / RUN_COUNT * 5, label=age if age not in was else None)\n",
    "                    was.add(age)\n",
    "\n",
    "        data_y_mean = np.mean(data_y_mean, axis=0)\n",
    "        plt.plot(data_x, data_y_mean, color=COLORS[age_n], alpha=1, linewidth=3, label=f\"{age_category} => průměr\")\n",
    "        \n",
    "        \n",
    "        plt.ylabel(\" \".join(label.split()[:2]))\n",
    "\n",
    "        plt.legend()\n",
    "\n",
    "        plt.title(label + f\" pro {P=}, {TIMEDELTA_WEEKS=} a věkovou skupinu {age}\")\n",
    "        plt.savefig(os.path.join(current_directory, f\"age={age_category}__{TIMEDELTA_WEEKS=}__{P=}.png\"), facecolor=\"white\", transparent=False)\n",
    "\n",
    "        plt.clf()"
   ]
  }
 ],
 "metadata": {
  "kernelspec": {
   "display_name": "Python 3 (ipykernel)",
   "language": "python",
   "name": "python3"
  },
  "language_info": {
   "codemirror_mode": {
    "name": "ipython",
    "version": 3
   },
   "file_extension": ".py",
   "mimetype": "text/x-python",
   "name": "python",
   "nbconvert_exporter": "python",
   "pygments_lexer": "ipython3",
   "version": "3.9.16"
  }
 },
 "nbformat": 4,
 "nbformat_minor": 4
}
